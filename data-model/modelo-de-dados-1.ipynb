{
 "cells": [
  {
   "cell_type": "markdown",
   "id": "8683f614",
   "metadata": {},
   "source": [
    "### Introdução ao modelo de dados, parte 1\n",
    "\n",
    "Exemplos extraídos de [*Fluent Python*](http://shop.oreilly.com/product/0636920032519.do).\n",
    "\n",
    "Código de Luciano Ramalho, anotações e exercícios de Allen Downey.\n",
    "\n",
    "MIT License: https://opensource.org/licenses/MIT"
   ]
  },
  {
   "cell_type": "markdown",
   "id": "a301e6ce",
   "metadata": {},
   "source": [
    "Este exemplo demonstra o modelo de dados do Python usando uma implementação simples de cartas de baralho e baralhos.\n",
    "\n",
    "`Card` é um `namedtuple` que representa uma carta de baralho."
   ]
  },
  {
   "cell_type": "code",
   "execution_count": 5,
   "id": "60d128c6",
   "metadata": {},
   "outputs": [
    {
     "data": {
      "text/plain": [
       "('4', 'clubs')"
      ]
     },
     "execution_count": 5,
     "metadata": {},
     "output_type": "execute_result"
    }
   ],
   "source": [
    "import collections\n",
    "\n",
    "Card = collections.namedtuple('Card', ['rank', 'suit'])\n",
    "\n",
    "zape = Card('4', 'clubs')\n",
    "zape.rank, zape.suit"
   ]
  },
  {
   "cell_type": "markdown",
   "id": "93253972",
   "metadata": {},
   "source": [
    "`FrenchDeck` é uma classe que representa um baralho convencional com 52 cartas."
   ]
  },
  {
   "cell_type": "code",
   "execution_count": 25,
   "id": "12ee5e3f",
   "metadata": {},
   "outputs": [
    {
     "data": {
      "text/plain": [
       "['spades', 'diamonds', 'clubs', 'hearts']"
      ]
     },
     "execution_count": 25,
     "metadata": {},
     "output_type": "execute_result"
    }
   ],
   "source": [
    "class FrenchDeck:\n",
    "    ranks = [str(n) for n in range(2, 11)] + list('JQKA')\n",
    "    suits = 'spades diamonds clubs hearts'.split()\n",
    "\n",
    "    def __init__(self):\n",
    "        self._cards = [Card(rank, suit) for suit in self.suits\n",
    "                                        for rank in self.ranks]\n",
    "\n",
    "    def __len__(self):\n",
    "        return len(self._cards)\n",
    "\n",
    "    def __getitem__(self, position):\n",
    "        return self._cards[position]\n",
    "    \n",
    "    def __setitem__(self, position, carta):\n",
    "        self._cards[position] = carta\n",
    "    \n",
    "FrenchDeck.suits"
   ]
  },
  {
   "cell_type": "markdown",
   "id": "612a5505",
   "metadata": {},
   "source": [
    "Podemos usar a classe `Card` para criar uma carta famosa do Truco:"
   ]
  },
  {
   "cell_type": "code",
   "execution_count": 9,
   "id": "f840e176",
   "metadata": {},
   "outputs": [
    {
     "data": {
      "text/plain": [
       "Card(rank='7', suit='diamonds')"
      ]
     },
     "execution_count": 9,
     "metadata": {},
     "output_type": "execute_result"
    }
   ],
   "source": [
    "sete_belo = Card('7', 'diamonds')\n",
    "sete_belo"
   ]
  },
  {
   "cell_type": "markdown",
   "id": "4ac7f593",
   "metadata": {},
   "source": [
    "Em um `namedtuple`, podemos acessar campos pelo nome:"
   ]
  },
  {
   "cell_type": "code",
   "execution_count": 10,
   "id": "4e9cf489",
   "metadata": {},
   "outputs": [
    {
     "data": {
      "text/plain": [
       "('7', 'diamonds')"
      ]
     },
     "execution_count": 10,
     "metadata": {},
     "output_type": "execute_result"
    }
   ],
   "source": [
    "sete_belo.rank, sete_belo.suit"
   ]
  },
  {
   "cell_type": "markdown",
   "id": "6d8f420b",
   "metadata": {},
   "source": [
    "Ou pelo índice:"
   ]
  },
  {
   "cell_type": "code",
   "execution_count": 11,
   "id": "087eb2af",
   "metadata": {},
   "outputs": [
    {
     "data": {
      "text/plain": [
       "('7', 'diamonds')"
      ]
     },
     "execution_count": 11,
     "metadata": {},
     "output_type": "execute_result"
    }
   ],
   "source": [
    "sete_belo[0], sete_belo[1]"
   ]
  },
  {
   "cell_type": "markdown",
   "id": "995aef0b",
   "metadata": {},
   "source": [
    "Ou, melhor ainda, como um _iterável_:"
   ]
  },
  {
   "cell_type": "code",
   "execution_count": 12,
   "id": "d6b3babe",
   "metadata": {},
   "outputs": [
    {
     "data": {
      "text/plain": [
       "('7', 'diamonds')"
      ]
     },
     "execution_count": 12,
     "metadata": {},
     "output_type": "execute_result"
    }
   ],
   "source": [
    "valor, naipe = sete_belo\n",
    "valor, naipe"
   ]
  },
  {
   "cell_type": "markdown",
   "id": "c661f3e5",
   "metadata": {},
   "source": [
    "Agora vamos criar uma instância de `FrenchDeck`.\n",
    "\n",
    "Quando chamamos `len()`, Python invoca o método `__len__` do baralho."
   ]
  },
  {
   "cell_type": "code",
   "execution_count": 27,
   "id": "585d44bf",
   "metadata": {},
   "outputs": [
    {
     "data": {
      "text/plain": [
       "52"
      ]
     },
     "execution_count": 27,
     "metadata": {},
     "output_type": "execute_result"
    }
   ],
   "source": [
    "deck = FrenchDeck()\n",
    "len(deck)"
   ]
  },
  {
   "cell_type": "markdown",
   "id": "8e39f095",
   "metadata": {},
   "source": [
    "Quando usamos colchetes `[]`, Python invoca o método `__getitem__`:"
   ]
  },
  {
   "cell_type": "code",
   "execution_count": 16,
   "id": "13a6f6df",
   "metadata": {},
   "outputs": [
    {
     "data": {
      "text/plain": [
       "Card(rank='5', suit='spades')"
      ]
     },
     "execution_count": 16,
     "metadata": {},
     "output_type": "execute_result"
    }
   ],
   "source": [
    "deck[3]"
   ]
  },
  {
   "cell_type": "markdown",
   "id": "3987de6a",
   "metadata": {},
   "source": [
    "Graças a isso, podemos também criar fatias com `[:]`:"
   ]
  },
  {
   "cell_type": "code",
   "execution_count": 17,
   "id": "5ebb8717",
   "metadata": {},
   "outputs": [
    {
     "data": {
      "text/plain": [
       "[Card(rank='2', suit='spades'),\n",
       " Card(rank='3', suit='spades'),\n",
       " Card(rank='4', suit='spades')]"
      ]
     },
     "execution_count": 17,
     "metadata": {},
     "output_type": "execute_result"
    }
   ],
   "source": [
    "deck[:3]"
   ]
  },
  {
   "cell_type": "markdown",
   "id": "8436455b",
   "metadata": {},
   "source": [
    "Já que `FrenchDeck` implementa `__len__` e `__getitem__`, essa classe é considerada uma _sequência_, portanto o operador `in` funciona."
   ]
  },
  {
   "cell_type": "code",
   "execution_count": 19,
   "id": "9cd61a8c",
   "metadata": {},
   "outputs": [
    {
     "data": {
      "text/plain": [
       "False"
      ]
     },
     "execution_count": 19,
     "metadata": {},
     "output_type": "execute_result"
    }
   ],
   "source": [
    "Card('Z', 'hearts') in deck"
   ]
  },
  {
   "cell_type": "markdown",
   "id": "8dcd2565",
   "metadata": {},
   "source": [
    "**Exercício** invente uma carta que não existe no baralho, e confirme que o operador `in` devolve `False`."
   ]
  },
  {
   "cell_type": "code",
   "execution_count": null,
   "id": "a22587e9",
   "metadata": {},
   "outputs": [],
   "source": [
    "# Sua resposta aqui"
   ]
  },
  {
   "cell_type": "markdown",
   "id": "20cec6b8",
   "metadata": {},
   "source": [
    "E a instrução `for` também funciona:"
   ]
  },
  {
   "cell_type": "code",
   "execution_count": 20,
   "id": "c0dc0afc",
   "metadata": {},
   "outputs": [
    {
     "name": "stdout",
     "output_type": "stream",
     "text": [
      "Card(rank='2', suit='spades')\n",
      "Card(rank='3', suit='spades')\n",
      "Card(rank='4', suit='spades')\n",
      "Card(rank='5', suit='spades')\n",
      "Card(rank='6', suit='spades')\n",
      "Card(rank='7', suit='spades')\n",
      "Card(rank='8', suit='spades')\n",
      "Card(rank='9', suit='spades')\n",
      "Card(rank='10', suit='spades')\n",
      "Card(rank='J', suit='spades')\n",
      "Card(rank='Q', suit='spades')\n",
      "Card(rank='K', suit='spades')\n",
      "Card(rank='A', suit='spades')\n",
      "Card(rank='2', suit='diamonds')\n",
      "Card(rank='3', suit='diamonds')\n",
      "Card(rank='4', suit='diamonds')\n",
      "Card(rank='5', suit='diamonds')\n",
      "Card(rank='6', suit='diamonds')\n",
      "Card(rank='7', suit='diamonds')\n",
      "Card(rank='8', suit='diamonds')\n",
      "Card(rank='9', suit='diamonds')\n",
      "Card(rank='10', suit='diamonds')\n",
      "Card(rank='J', suit='diamonds')\n",
      "Card(rank='Q', suit='diamonds')\n",
      "Card(rank='K', suit='diamonds')\n",
      "Card(rank='A', suit='diamonds')\n",
      "Card(rank='2', suit='clubs')\n",
      "Card(rank='3', suit='clubs')\n",
      "Card(rank='4', suit='clubs')\n",
      "Card(rank='5', suit='clubs')\n",
      "Card(rank='6', suit='clubs')\n",
      "Card(rank='7', suit='clubs')\n",
      "Card(rank='8', suit='clubs')\n",
      "Card(rank='9', suit='clubs')\n",
      "Card(rank='10', suit='clubs')\n",
      "Card(rank='J', suit='clubs')\n",
      "Card(rank='Q', suit='clubs')\n",
      "Card(rank='K', suit='clubs')\n",
      "Card(rank='A', suit='clubs')\n",
      "Card(rank='2', suit='hearts')\n",
      "Card(rank='3', suit='hearts')\n",
      "Card(rank='4', suit='hearts')\n",
      "Card(rank='5', suit='hearts')\n",
      "Card(rank='6', suit='hearts')\n",
      "Card(rank='7', suit='hearts')\n",
      "Card(rank='8', suit='hearts')\n",
      "Card(rank='9', suit='hearts')\n",
      "Card(rank='10', suit='hearts')\n",
      "Card(rank='J', suit='hearts')\n",
      "Card(rank='Q', suit='hearts')\n",
      "Card(rank='K', suit='hearts')\n",
      "Card(rank='A', suit='hearts')\n"
     ]
    }
   ],
   "source": [
    "for card in deck:\n",
    "    print(card)"
   ]
  },
  {
   "cell_type": "markdown",
   "id": "bd516e84",
   "metadata": {},
   "source": [
    "Muitas funções da biblioteca padrão lidam com sequências. Por exemplo, `random.choice` devolve uma carta escolhida ao acaso:"
   ]
  },
  {
   "cell_type": "code",
   "execution_count": 23,
   "id": "6769a93c",
   "metadata": {},
   "outputs": [
    {
     "data": {
      "text/plain": [
       "Card(rank='10', suit='diamonds')"
      ]
     },
     "execution_count": 23,
     "metadata": {},
     "output_type": "execute_result"
    }
   ],
   "source": [
    "from random import choice\n",
    "choice(deck)"
   ]
  },
  {
   "cell_type": "markdown",
   "id": "d4607555",
   "metadata": {},
   "source": [
    "Infelizmente, `random.shuffle` não funciona porque não implementamos `__setitem__`, então um `FrenchDeck` funciona superficialmente como uma sequência imutável."
   ]
  },
  {
   "cell_type": "code",
   "execution_count": 29,
   "id": "532acbb6",
   "metadata": {},
   "outputs": [
    {
     "data": {
      "text/plain": [
       "[Card(rank='10', suit='clubs'),\n",
       " Card(rank='6', suit='hearts'),\n",
       " Card(rank='10', suit='diamonds'),\n",
       " Card(rank='10', suit='hearts'),\n",
       " Card(rank='Q', suit='spades')]"
      ]
     },
     "execution_count": 29,
     "metadata": {},
     "output_type": "execute_result"
    }
   ],
   "source": [
    "from random import shuffle\n",
    "\n",
    "# This should raise a TypeError\n",
    "shuffle(deck)\n",
    "deck[:5]"
   ]
  },
  {
   "cell_type": "markdown",
   "id": "1a86bf8e",
   "metadata": {},
   "source": [
    "Também podemos usar sorted para gerar uma lista ordenada de cartas:"
   ]
  },
  {
   "cell_type": "code",
   "execution_count": 30,
   "id": "6190c00d",
   "metadata": {},
   "outputs": [
    {
     "name": "stdout",
     "output_type": "stream",
     "text": [
      "Card(rank='10', suit='clubs')\n",
      "Card(rank='10', suit='diamonds')\n",
      "Card(rank='10', suit='hearts')\n",
      "Card(rank='10', suit='spades')\n",
      "Card(rank='2', suit='clubs')\n",
      "Card(rank='2', suit='diamonds')\n",
      "Card(rank='2', suit='hearts')\n",
      "Card(rank='2', suit='spades')\n",
      "Card(rank='3', suit='clubs')\n",
      "Card(rank='3', suit='diamonds')\n",
      "Card(rank='3', suit='hearts')\n",
      "Card(rank='3', suit='spades')\n",
      "Card(rank='4', suit='clubs')\n",
      "Card(rank='4', suit='diamonds')\n",
      "Card(rank='4', suit='hearts')\n",
      "Card(rank='4', suit='spades')\n",
      "Card(rank='5', suit='clubs')\n",
      "Card(rank='5', suit='diamonds')\n",
      "Card(rank='5', suit='hearts')\n",
      "Card(rank='5', suit='spades')\n",
      "Card(rank='6', suit='clubs')\n",
      "Card(rank='6', suit='diamonds')\n",
      "Card(rank='6', suit='hearts')\n",
      "Card(rank='6', suit='spades')\n",
      "Card(rank='7', suit='clubs')\n",
      "Card(rank='7', suit='diamonds')\n",
      "Card(rank='7', suit='hearts')\n",
      "Card(rank='7', suit='spades')\n",
      "Card(rank='8', suit='clubs')\n",
      "Card(rank='8', suit='diamonds')\n",
      "Card(rank='8', suit='hearts')\n",
      "Card(rank='8', suit='spades')\n",
      "Card(rank='9', suit='clubs')\n",
      "Card(rank='9', suit='diamonds')\n",
      "Card(rank='9', suit='hearts')\n",
      "Card(rank='9', suit='spades')\n",
      "Card(rank='A', suit='clubs')\n",
      "Card(rank='A', suit='diamonds')\n",
      "Card(rank='A', suit='hearts')\n",
      "Card(rank='A', suit='spades')\n",
      "Card(rank='J', suit='clubs')\n",
      "Card(rank='J', suit='diamonds')\n",
      "Card(rank='J', suit='hearts')\n",
      "Card(rank='J', suit='spades')\n",
      "Card(rank='K', suit='clubs')\n",
      "Card(rank='K', suit='diamonds')\n",
      "Card(rank='K', suit='hearts')\n",
      "Card(rank='K', suit='spades')\n",
      "Card(rank='Q', suit='clubs')\n",
      "Card(rank='Q', suit='diamonds')\n",
      "Card(rank='Q', suit='hearts')\n",
      "Card(rank='Q', suit='spades')\n"
     ]
    }
   ],
   "source": [
    "for card in sorted(deck):\n",
    "    print(card)"
   ]
  },
  {
   "cell_type": "markdown",
   "id": "42bac4c6",
   "metadata": {},
   "source": [
    "Mas a ordem acima não é muito útil. Em alguns jogos de carta, existe uma ordem que leva em conta primeiro o naipe, depois o valor. Para isso, podemos criar uma função que produz um número inteiro a partir desses dois campos:"
   ]
  },
  {
   "cell_type": "code",
   "execution_count": 32,
   "id": "d5ff533e",
   "metadata": {},
   "outputs": [],
   "source": [
    "suit_values = dict(spades=3, hearts=2, diamonds=1, clubs=0)\n",
    "\n",
    "def spades_high_ordering(card):\n",
    "    rank_value = FrenchDeck.ranks.index(card.rank)\n",
    "    return rank_value * len(suit_values) + suit_values[card.suit]"
   ]
  },
  {
   "cell_type": "code",
   "execution_count": 33,
   "id": "aafe58e2",
   "metadata": {},
   "outputs": [
    {
     "data": {
      "text/plain": [
       "0"
      ]
     },
     "execution_count": 33,
     "metadata": {},
     "output_type": "execute_result"
    }
   ],
   "source": [
    "spades_high_ordering(Card('2', 'clubs'))"
   ]
  },
  {
   "cell_type": "code",
   "execution_count": 34,
   "id": "0f4b2395",
   "metadata": {},
   "outputs": [
    {
     "data": {
      "text/plain": [
       "51"
      ]
     },
     "execution_count": 34,
     "metadata": {},
     "output_type": "execute_result"
    }
   ],
   "source": [
    "spades_high_ordering(Card('A', 'spades'))"
   ]
  },
  {
   "cell_type": "markdown",
   "id": "85198ed8",
   "metadata": {},
   "source": [
    "E agora podemos passar essa função como argumento `key=` para `sorted`:"
   ]
  },
  {
   "cell_type": "code",
   "execution_count": 35,
   "id": "d7f7a8cf",
   "metadata": {},
   "outputs": [
    {
     "name": "stdout",
     "output_type": "stream",
     "text": [
      "Card(rank='2', suit='clubs')\n",
      "Card(rank='2', suit='diamonds')\n",
      "Card(rank='2', suit='hearts')\n",
      "Card(rank='2', suit='spades')\n",
      "Card(rank='3', suit='clubs')\n",
      "Card(rank='3', suit='diamonds')\n",
      "Card(rank='3', suit='hearts')\n",
      "Card(rank='3', suit='spades')\n",
      "Card(rank='4', suit='clubs')\n",
      "Card(rank='4', suit='diamonds')\n",
      "Card(rank='4', suit='hearts')\n",
      "Card(rank='4', suit='spades')\n",
      "Card(rank='5', suit='clubs')\n",
      "Card(rank='5', suit='diamonds')\n",
      "Card(rank='5', suit='hearts')\n",
      "Card(rank='5', suit='spades')\n",
      "Card(rank='6', suit='clubs')\n",
      "Card(rank='6', suit='diamonds')\n",
      "Card(rank='6', suit='hearts')\n",
      "Card(rank='6', suit='spades')\n",
      "Card(rank='7', suit='clubs')\n",
      "Card(rank='7', suit='diamonds')\n",
      "Card(rank='7', suit='hearts')\n",
      "Card(rank='7', suit='spades')\n",
      "Card(rank='8', suit='clubs')\n",
      "Card(rank='8', suit='diamonds')\n",
      "Card(rank='8', suit='hearts')\n",
      "Card(rank='8', suit='spades')\n",
      "Card(rank='9', suit='clubs')\n",
      "Card(rank='9', suit='diamonds')\n",
      "Card(rank='9', suit='hearts')\n",
      "Card(rank='9', suit='spades')\n",
      "Card(rank='10', suit='clubs')\n",
      "Card(rank='10', suit='diamonds')\n",
      "Card(rank='10', suit='hearts')\n",
      "Card(rank='10', suit='spades')\n",
      "Card(rank='J', suit='clubs')\n",
      "Card(rank='J', suit='diamonds')\n",
      "Card(rank='J', suit='hearts')\n",
      "Card(rank='J', suit='spades')\n",
      "Card(rank='Q', suit='clubs')\n",
      "Card(rank='Q', suit='diamonds')\n",
      "Card(rank='Q', suit='hearts')\n",
      "Card(rank='Q', suit='spades')\n",
      "Card(rank='K', suit='clubs')\n",
      "Card(rank='K', suit='diamonds')\n",
      "Card(rank='K', suit='hearts')\n",
      "Card(rank='K', suit='spades')\n",
      "Card(rank='A', suit='clubs')\n",
      "Card(rank='A', suit='diamonds')\n",
      "Card(rank='A', suit='hearts')\n",
      "Card(rank='A', suit='spades')\n"
     ]
    }
   ],
   "source": [
    "for card in sorted(deck, key=spades_high_ordering):\n",
    "    print(card)"
   ]
  },
  {
   "cell_type": "markdown",
   "id": "52ed3059",
   "metadata": {},
   "source": [
    "**Exercício**: Defina e demonstre uma função de ordenamento que leva em conta primeiro o valor da carta, transformando as strings em números, de modo que `'A'` vale `1`, `'2'` vale `2`, `'J'` vale `11` etc. Os naipes serão o critério de ordenamento secundário, em ordem alfabética do nome em inglês."
   ]
  },
  {
   "cell_type": "code",
   "execution_count": null,
   "id": "b3a7e102",
   "metadata": {},
   "outputs": [],
   "source": [
    "# Sua resposta aqui"
   ]
  }
 ],
 "metadata": {
  "kernelspec": {
   "display_name": "Python 3 (ipykernel)",
   "language": "python",
   "name": "python3"
  },
  "language_info": {
   "codemirror_mode": {
    "name": "ipython",
    "version": 3
   },
   "file_extension": ".py",
   "mimetype": "text/x-python",
   "name": "python",
   "nbconvert_exporter": "python",
   "pygments_lexer": "ipython3",
   "version": "3.11.1"
  }
 },
 "nbformat": 4,
 "nbformat_minor": 5
}
