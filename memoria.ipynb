{
 "cells": [
  {
   "cell_type": "markdown",
   "id": "5d980af9",
   "metadata": {},
   "source": [
    "# 6. Memória: referências, mutabilidade, e coleta de lixo\n",
    "\n",
    "Este notebook contém exemplos do livro [_Fluent Python, Second Edition_](https://www.fluentpython.com/) ."
   ]
  },
  {
   "cell_type": "markdown",
   "id": "cb1b15d8",
   "metadata": {},
   "source": [
    "## Variáveis não são caixas\n",
    "\n",
    "Alguns professores sugerem que \"variáveis são como caixas\".\n",
    "Essa analogia faz sentido em linguagens como C ou Pascal,\n",
    "mas não funciona em Python, Java, JS, Ruby,\n",
    "ou qualquer outra linguagem onde variáveis são referências a objetos.\n",
    "\n",
    "\n",
    "Veja um código que quebra a ideia de que variáveis são caixas:"
   ]
  },
  {
   "cell_type": "code",
   "execution_count": 1,
   "id": "994aa93c",
   "metadata": {},
   "outputs": [
    {
     "data": {
      "text/plain": [
       "[1, 2, 3, 4]"
      ]
     },
     "execution_count": 1,
     "metadata": {},
     "output_type": "execute_result"
    }
   ],
   "source": [
    "a = [1, 2, 3]\n",
    "b = a\n",
    "a.append(4)\n",
    "b"
   ]
  },
  {
   "cell_type": "markdown",
   "id": "ec481bab",
   "metadata": {},
   "source": [
    "Se `a` e `b` são como \"caixas\", como explicar o que aconteceu? Mas se você imaginar que `a` e `b` são duas etiquetas coladas no mesmo objeto, faz sentido.\n",
    "\n",
    "![Fig. 6.1](https://raw.githubusercontent.com/fluentpython/images/master/object-refs/var-boxes-x-labels.png)\n",
    "\n"
   ]
  },
  {
   "cell_type": "markdown",
   "id": "9dd068c7",
   "metadata": {},
   "source": [
    "## Objetos são criados antes de variáveis\n",
    "\n",
    "O código abaixo prova que o lado direito da instrução `x = Gizmo()` é executado primeiro,\n",
    "e só depois acontece a atribuição.\n",
    "\n",
    "Primeiro a classe `Gizmo`, que apenas exibe uma mensagem quando uma instância é criada."
   ]
  },
  {
   "cell_type": "code",
   "execution_count": 2,
   "id": "2b038c44",
   "metadata": {},
   "outputs": [
    {
     "name": "stdout",
     "output_type": "stream",
     "text": [
      "Gizmo id: 0x104f60b10\n"
     ]
    }
   ],
   "source": [
    "class Gizmo:\n",
    "    def __init__(self):\n",
    "        print(f'Gizmo id: {id(self):#x}')\n",
    "        \n",
    "x = Gizmo()"
   ]
  },
  {
   "cell_type": "code",
   "execution_count": null,
   "id": "1ca64042",
   "metadata": {},
   "outputs": [],
   "source": [
    "x"
   ]
  },
  {
   "cell_type": "code",
   "execution_count": null,
   "id": "55671e0d",
   "metadata": {},
   "outputs": [],
   "source": [
    "'x' in globals()"
   ]
  },
  {
   "cell_type": "code",
   "execution_count": null,
   "id": "c55040ef",
   "metadata": {},
   "outputs": [],
   "source": [
    "# y = Gizmo() * Gizmo()  # isso vai gerar um erro"
   ]
  },
  {
   "cell_type": "code",
   "execution_count": null,
   "id": "dd6af7bf",
   "metadata": {},
   "outputs": [],
   "source": [
    "'y' in globals()"
   ]
  },
  {
   "cell_type": "code",
   "execution_count": null,
   "id": "f44bd1bf",
   "metadata": {},
   "outputs": [],
   "source": [
    "# y  # isso vai gerar outro erro"
   ]
  },
  {
   "cell_type": "markdown",
   "id": "b36e7e49",
   "metadata": {},
   "source": [
    "## Identidade, igualdade, e aliases\n",
    "\n",
    "> **NOTA:** A palavra inglesa *alias* pode ser traduzida como *apelido* ou *alcunha*.\n",
    "\n",
    "Pelé era o apelido do jogador Edson Arantes do Nascimento.\n",
    "Pelé não é apenas igual a Edson, os dois nomes se referem à mesma pessoa.\n",
    "\n",
    "Veja esta ideia em Python:"
   ]
  },
  {
   "cell_type": "code",
   "execution_count": null,
   "id": "eed16769",
   "metadata": {},
   "outputs": [],
   "source": [
    "edson = dict(nome='Edson Arantes do Nascimento', ano=1940)\n",
    "edson"
   ]
  },
  {
   "cell_type": "code",
   "execution_count": null,
   "id": "8beb3dfd",
   "metadata": {},
   "outputs": [],
   "source": [
    "pelé = edson\n",
    "pelé is edson"
   ]
  },
  {
   "cell_type": "code",
   "execution_count": null,
   "id": "3a1a3284",
   "metadata": {},
   "outputs": [],
   "source": [
    "id(pelé), id(edson)"
   ]
  },
  {
   "cell_type": "code",
   "execution_count": null,
   "id": "85a10ced",
   "metadata": {},
   "outputs": [],
   "source": [
    "pelé['gols'] = 1283\n",
    "edson"
   ]
  },
  {
   "cell_type": "markdown",
   "id": "856bced8",
   "metadata": {},
   "source": [
    "Agora imagine um impostor, tentando se passar por Pelé.\n",
    "O impostor alega que tem os mesmos dados:"
   ]
  },
  {
   "cell_type": "code",
   "execution_count": null,
   "id": "f7bf2ca0",
   "metadata": {},
   "outputs": [],
   "source": [
    "impostor = {'nome': 'Edson Arantes do Nascimento', 'ano': 1940, 'gols': 1283}"
   ]
  },
  {
   "cell_type": "code",
   "execution_count": null,
   "id": "aaf9bcf2",
   "metadata": {},
   "outputs": [],
   "source": [
    "impostor is pelé"
   ]
  },
  {
   "cell_type": "code",
   "execution_count": null,
   "id": "f322f5a7",
   "metadata": {},
   "outputs": [],
   "source": [
    "impostor == pelé"
   ]
  },
  {
   "cell_type": "code",
   "execution_count": null,
   "id": "70fe0e3a",
   "metadata": {},
   "outputs": [],
   "source": [
    "impostor is not pelé"
   ]
  },
  {
   "cell_type": "markdown",
   "id": "83989111",
   "metadata": {},
   "source": [
    "## Como escolher entre `==` ou `is`"
   ]
  },
  {
   "cell_type": "markdown",
   "id": "2c3ae18a",
   "metadata": {},
   "source": [
    "É muito mais comum a gente comparar o *valor* de dois objetos do que a *identidade* deles.\n",
    "\n",
    "Para comparar valores, sempre use `==`. Quase sempre é o que você quer.\n",
    "\n",
    "O caso mais comum de uso de `is` é comparar com objetos únicos (singletons),\n",
    "geralmente usados como sinalizadores ou sentinelas.\n",
    "\n",
    "Quando um objeto é único é mais eficiente verificar a identidade do que a igualdade,\n",
    "porque o operador `==` pode ser sobrecarregado implementando o método `__eq__`,\n",
    "portanto toda vez que aparece `==`, o interpretador precisa verificar a presença do método `__eq__`.\n",
    "\n",
    "Mas o operador `is` não pode ser sobrecarregado.\n",
    "Ele é implementado em C simplesmente comparando o *id* dos objetos.\n",
    "\n",
    "Exemplo:"
   ]
  },
  {
   "cell_type": "code",
   "execution_count": null,
   "id": "ccfb2694",
   "metadata": {},
   "outputs": [],
   "source": [
    "from unicodedata import name\n",
    "\n",
    "for código in range(0x30):\n",
    "    car = chr(código)\n",
    "    nome = name(car, None)\n",
    "    if nome is None:\n",
    "        continue\n",
    "    print(f'U+{código:04x}\\t{car}\\t{nome}')"
   ]
  },
  {
   "cell_type": "markdown",
   "id": "4cbadc24",
   "metadata": {},
   "source": [
    "Sentinelas são valores especiais usados em filas ou sockets\n",
    "para sinalizar o fim de uma sequência de valores.\n",
    "\n",
    "Exemplo:"
   ]
  },
  {
   "cell_type": "code",
   "execution_count": null,
   "id": "1ff2843f",
   "metadata": {},
   "outputs": [],
   "source": [
    "from queue import SimpleQueue\n",
    "\n",
    "FIM_DA_SÉRIE = object()\n",
    "BICICLETA = object()\n",
    "\n",
    "FIM_DA_SÉRIE == BICICLETA"
   ]
  },
  {
   "cell_type": "code",
   "execution_count": null,
   "id": "d5dd3eb2",
   "metadata": {},
   "outputs": [],
   "source": [
    "FIM_DA_SÉRIE is not BICICLETA"
   ]
  },
  {
   "cell_type": "code",
   "execution_count": null,
   "id": "66883ba4",
   "metadata": {},
   "outputs": [],
   "source": [
    "def preparar():\n",
    "    fila = SimpleQueue()\n",
    "    for letra in 'ABC':\n",
    "        fila.put(letra)\n",
    "    fila.put(FIM_DA_SÉRIE)\n",
    "    return fila\n",
    "\n",
    "fila = preparar()\n",
    "    \n",
    "while (item := fila.get()) is not FIM_DA_SÉRIE:\n",
    "    print(item)  "
   ]
  },
  {
   "cell_type": "markdown",
   "id": "e0f07e18",
   "metadata": {},
   "source": [
    "> **NOTA:** Porque não usar um laço `for` para percorrer uma fila?<br>Porque a operação `fila.get()` bloqueia quando não há itens na fila. Filas são muito usadas para sincronizar e trocar dados entre threads."
   ]
  },
  {
   "cell_type": "markdown",
   "id": "d9a1a520",
   "metadata": {},
   "source": [
    "----\n",
    "\n",
    "### 🤔 Operador Morsa `:=`"
   ]
  },
  {
   "cell_type": "markdown",
   "id": "c4791bcb",
   "metadata": {},
   "source": [
    "O laço **`while`** acima usa o \"operador morsa\" `:=` introduzido no Python 3.8.\n",
    "\n",
    "O exemplo acima antes do Python 3.8 seria escrito assim:"
   ]
  },
  {
   "cell_type": "code",
   "execution_count": null,
   "id": "6b211b4d",
   "metadata": {},
   "outputs": [],
   "source": [
    "fila = preparar()\n",
    "\n",
    "while True:\n",
    "    item = fila.get()\n",
    "    if item is FIM_DA_SÉRIE:\n",
    "        break\n",
    "    print(item)"
   ]
  },
  {
   "cell_type": "markdown",
   "id": "28e2a62d",
   "metadata": {},
   "source": [
    "Chama-se \"operador morsa\" por causa do emoticon `:=` que representa uma morsa:\n",
    "\n",
    "<img src=\"https://upload.wikimedia.org/wikipedia/commons/c/ce/Noaa-walrus22.jpg\" width=\"300\">"
   ]
  },
  {
   "cell_type": "markdown",
   "id": "4af4ad46",
   "metadata": {},
   "source": [
    "----"
   ]
  },
  {
   "cell_type": "markdown",
   "id": "15af76b6",
   "metadata": {},
   "source": [
    "## Afinal, tuplas são mesmo imutáveis?\n",
    "\n",
    "A melhor resposta é: **depende**.\n",
    "\n",
    "Uma tupla é um _container_: uma estrutura de dados que contém referências a outros objetos.\n",
    "Outros containers são listas, dicts, sets, e filas.\n",
    "\n",
    "> Em contraste, `str`, `bytes` e `array` são _flat coleções planas_: armazenam diretamente seus dados, e não referências a outros objetos.\n",
    "\n",
    "Em uma tupla, as referências são imutáveis.\n",
    "Ou seja, uma vez criada a tupla, ela sempre apontará para a mesma sequência de objetos.\n",
    "\n",
    "Porém, se qualquer objeto contido na tupla for mutável,\n",
    "e seu valor for alterado, isso mudará também o valor da tupla!"
   ]
  },
  {
   "cell_type": "code",
   "execution_count": null,
   "id": "f7b7cb82",
   "metadata": {},
   "outputs": [],
   "source": [
    "t1 = (1, 2, [30, 40])\n",
    "t2 = (1, 2, [30, 40])\n",
    "t1 == t2  # valores iguais"
   ]
  },
  {
   "cell_type": "code",
   "execution_count": null,
   "id": "994b21f1",
   "metadata": {},
   "outputs": [],
   "source": [
    "t1 is t2  # identidades diferentes"
   ]
  },
  {
   "cell_type": "code",
   "execution_count": null,
   "id": "8cb4f71e",
   "metadata": {},
   "outputs": [],
   "source": [
    "id(t1[-1])  # repare no id do objeto lista [30, 40]"
   ]
  },
  {
   "cell_type": "code",
   "execution_count": null,
   "id": "619fdc54",
   "metadata": {},
   "outputs": [],
   "source": [
    "t1[-1].append(99)  # alterando a lista t1[-1]\n",
    "t1"
   ]
  },
  {
   "cell_type": "code",
   "execution_count": null,
   "id": "1cf5df00",
   "metadata": {},
   "outputs": [],
   "source": [
    "t2  # nada muda em t2"
   ]
  },
  {
   "cell_type": "code",
   "execution_count": null,
   "id": "c73f460a",
   "metadata": {},
   "outputs": [],
   "source": [
    "t1 == t2  # agora as tuplas tem valores diferentes"
   ]
  },
  {
   "cell_type": "code",
   "execution_count": null,
   "id": "2dfcd300",
   "metadata": {},
   "outputs": [],
   "source": [
    "id(t1[-1])  # mas o id de t1[-1] não mudou"
   ]
  },
  {
   "cell_type": "markdown",
   "id": "bb1f1ffb",
   "metadata": {},
   "source": [
    "👉 **RESUMO:** o que nunca muda em uma tupla são as referências que ela contém. Mas se o valor de um item da tupla mudar, isso muda o valor da tupla.\n",
    "\n",
    "Em outras palavras: a identidade dos itens em uma tupla nunca muda, mas seus valores podem mudar, dependendo do tipo do item.\n",
    "\n",
    "Copiar um conteiner abre uma questão: os itens do novo container devem ser cópias dos itens originais, ou podem ser referências para os mesmos itens? Esse é o tema da próxima sessão."
   ]
  },
  {
   "cell_type": "code",
   "execution_count": null,
   "id": "28e80b19",
   "metadata": {},
   "outputs": [],
   "source": []
  }
 ],
 "metadata": {
  "kernelspec": {
   "display_name": "Python 3 (ipykernel)",
   "language": "python",
   "name": "python3"
  },
  "language_info": {
   "codemirror_mode": {
    "name": "ipython",
    "version": 3
   },
   "file_extension": ".py",
   "mimetype": "text/x-python",
   "name": "python",
   "nbconvert_exporter": "python",
   "pygments_lexer": "ipython3",
   "version": "3.11.1"
  }
 },
 "nbformat": 4,
 "nbformat_minor": 5
}
