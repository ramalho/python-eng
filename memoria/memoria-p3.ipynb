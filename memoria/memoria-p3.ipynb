{
 "cells": [
  {
   "cell_type": "markdown",
   "id": "5d980af9",
   "metadata": {},
   "source": [
    "# Objetos na Memória (parte 3)\n",
    "\n",
    "Este notebook contém exemplos do livro [_Fluent Python, Second Edition_](https://www.fluentpython.com/) ."
   ]
  },
  {
   "cell_type": "markdown",
   "id": "15af76b6",
   "metadata": {},
   "source": [
    "## Afinal, tuplas são mesmo imutáveis?\n",
    "\n",
    "A melhor resposta é: **depende**.\n",
    "\n",
    "Uma tupla é um _container_: uma estrutura de dados que contém referências a outros objetos.\n",
    "Outros containers são listas, dicts, sets, e filas.\n",
    "\n",
    "> Em contraste, `str`, `bytes` e `array` são _coleções simples_: armazenam diretamente seus dados, e não referências a outros objetos.\n",
    "\n",
    "Em uma tupla, as referências são imutáveis.\n",
    "Ou seja, uma vez criada a tupla, ela sempre apontará para a mesma sequência de objetos.\n",
    "\n",
    "Porém, se qualquer objeto contido na tupla for mutável,\n",
    "e seu valor for alterado, isso mudará também o valor da tupla!\n",
    "\n",
    "![tupla-com-lista](fig2-4.png)"
   ]
  },
  {
   "cell_type": "code",
   "execution_count": 1,
   "id": "f7b7cb82",
   "metadata": {},
   "outputs": [
    {
     "data": {
      "text/plain": [
       "True"
      ]
     },
     "execution_count": 1,
     "metadata": {},
     "output_type": "execute_result"
    }
   ],
   "source": [
    "a = (10, 'alpha', [1, 2])\n",
    "b = (10, 'alpha', [1, 2])\n",
    "a == b  # valores iguais"
   ]
  },
  {
   "cell_type": "code",
   "execution_count": 2,
   "id": "994b21f1",
   "metadata": {},
   "outputs": [
    {
     "data": {
      "text/plain": [
       "False"
      ]
     },
     "execution_count": 2,
     "metadata": {},
     "output_type": "execute_result"
    }
   ],
   "source": [
    "a is b  # identidades diferentes"
   ]
  },
  {
   "cell_type": "code",
   "execution_count": 3,
   "id": "1009775b",
   "metadata": {},
   "outputs": [
    {
     "data": {
      "text/plain": [
       "4437608960"
      ]
     },
     "execution_count": 3,
     "metadata": {},
     "output_type": "execute_result"
    }
   ],
   "source": [
    "id(b[-1])  # id da lista que é o último item da tupla b"
   ]
  },
  {
   "cell_type": "code",
   "execution_count": 4,
   "id": "619fdc54",
   "metadata": {},
   "outputs": [
    {
     "data": {
      "text/plain": [
       "False"
      ]
     },
     "execution_count": 4,
     "metadata": {},
     "output_type": "execute_result"
    }
   ],
   "source": [
    "b[-1].append(99)  # alterando a lista t1[-1]\n",
    "a == b  # agora as tuplas tem valores diferentes"
   ]
  },
  {
   "cell_type": "code",
   "execution_count": 5,
   "id": "1cf5df00",
   "metadata": {},
   "outputs": [
    {
     "data": {
      "text/plain": [
       "(10, 'alpha', [1, 2, 99])"
      ]
     },
     "execution_count": 5,
     "metadata": {},
     "output_type": "execute_result"
    }
   ],
   "source": [
    "b"
   ]
  },
  {
   "cell_type": "code",
   "execution_count": 6,
   "id": "2dfcd300",
   "metadata": {},
   "outputs": [
    {
     "data": {
      "text/plain": [
       "4437608960"
      ]
     },
     "execution_count": 6,
     "metadata": {},
     "output_type": "execute_result"
    }
   ],
   "source": [
    "id(b[-1])  # mas o id de b[-1] não mudou"
   ]
  },
  {
   "cell_type": "markdown",
   "id": "bb1f1ffb",
   "metadata": {},
   "source": [
    "👉 **RESUMO:** o que nunca muda em uma tupla são as referências que ela contém. Mas se o valor de um item da tupla mudar, isso muda o valor da tupla.\n",
    "\n",
    "Em outras palavras: a identidade dos itens em uma tupla nunca muda, mas seus valores podem mudar, dependendo do tipo do item."
   ]
  },
  {
   "cell_type": "markdown",
   "id": "2ad6a25f",
   "metadata": {},
   "source": [
    "## Cópias rasas ou profundas?\n",
    "\n",
    "Ao copiar um container, é preciso tomar uma decisão: os itens do novo container devem ser cópias dos itens originais, ou podem ser referências para os mesmos itens?\n",
    "\n",
    "No segundo caso, os itens são compartilhados entre os conteiners.\n",
    "Isso economiza memória, mas pode criar problemas.\n",
    "Porque se um objeto está incluído em dois conteiners, está acontecendo apelidamento (*aliasing*).\n",
    "Se todos os objetos compartilhados forem imutáveis, não tem problema.\n",
    "\n",
    "Mas se um objeto compartilhado é mutável, e ele for alterado através de um dos containers,\n",
    "a mudança vai aparecer no outro container.\n",
    "Isso pode ser desejável ou não.\n",
    "\n",
    "Quando a cópia compartilha itens de mesma identidade com o original, dizemos que é uma *cópia rasa* (shallow copy).<br>\n",
    "Se todos os itens da cópia forem copiados também,\n",
    "é uma *cópia profunda* (*deep copy*).\n",
    "\n",
    "Muitas vezes a forma mais fácil de criar uma cópia rasa de um container é usar seu costrutor:"
   ]
  },
  {
   "cell_type": "code",
   "execution_count": 7,
   "id": "5d31349f",
   "metadata": {},
   "outputs": [
    {
     "data": {
      "text/plain": [
       "[3, [55, 44], (7, 8, 9)]"
      ]
     },
     "execution_count": 7,
     "metadata": {},
     "output_type": "execute_result"
    }
   ],
   "source": [
    "l1 = [3, [55, 44], (7, 8, 9)]\n",
    "l2 = list(l1)\n",
    "l2"
   ]
  },
  {
   "cell_type": "code",
   "execution_count": 8,
   "id": "491a19bb",
   "metadata": {},
   "outputs": [
    {
     "data": {
      "text/plain": [
       "True"
      ]
     },
     "execution_count": 8,
     "metadata": {},
     "output_type": "execute_result"
    }
   ],
   "source": [
    "l1[1] is l2[1]"
   ]
  },
  {
   "cell_type": "markdown",
   "id": "7b5582d1",
   "metadata": {},
   "source": [
    "A linha acima prova que `l2` é uma cópia rasa de `l1`, porque a lista `[55, 44]` é compartilhada por `l1` e `l2`.\n",
    "No caso de listas e outras sequências mutáveis, a operação `l2 = l1[:]` também cria uma cópia rasa."
   ]
  },
  {
   "cell_type": "markdown",
   "id": "0b1025af",
   "metadata": {},
   "source": [
    "## Crie cópias profundas com `deepcopy`\n",
    "\n",
    "O [módulo `copy`](https://docs.python.org/pt-br/3/library/copy.html) de Python fornece as funções `copy` e `deepcopy`, que servem para fazer cópias rasas ou profundas de objetos arbitrários.\n",
    "\n",
    "Para ilustrar esse ponto, vamos estudar uma classe simples que representa\n",
    "um ônibus com uma lista de nomes de passageiros."
   ]
  },
  {
   "cell_type": "code",
   "execution_count": 9,
   "id": "4dc759fe",
   "metadata": {},
   "outputs": [],
   "source": [
    "class Bus:\n",
    "\n",
    "    def __init__(self, passengers=None):\n",
    "        if passengers is None:\n",
    "            self.passengers = []\n",
    "        else:\n",
    "            self.passengers = list(passengers)\n",
    "\n",
    "    def pick(self, name):\n",
    "        self.passengers.append(name)\n",
    "\n",
    "    def drop(self, name):\n",
    "        self.passengers.remove(name)  "
   ]
  },
  {
   "cell_type": "markdown",
   "id": "53585181",
   "metadata": {},
   "source": [
    "Além de `__init__`, a classe tem dois métodos:\n",
    "\n",
    "* `pick` recebe um nome e o coloca na lista de passageiros;\n",
    "* `drop` recebe um nome e o retira da lista, se estiver lá; caso contrário, ocorre uma exceção.\n",
    "\n",
    "Agora vamos fazer experimentos com uma cópia rasa e uma cópia profunda de uma instância de `Bus`."
   ]
  },
  {
   "cell_type": "code",
   "execution_count": 10,
   "id": "89a2c2f5",
   "metadata": {},
   "outputs": [
    {
     "data": {
      "text/plain": [
       "(4437610448, 4437610640, 4437593872)"
      ]
     },
     "execution_count": 10,
     "metadata": {},
     "output_type": "execute_result"
    }
   ],
   "source": [
    "from copy import copy, deepcopy\n",
    "bus1 = Bus(['Alice', 'Beto', 'Clara', 'Davi'])\n",
    "bus2 = copy(bus1)\n",
    "bus3 = deepcopy(bus1)\n",
    "id(bus1), id(bus2), id(bus3)  # três ônibus distintos"
   ]
  },
  {
   "cell_type": "code",
   "execution_count": 11,
   "id": "ff98e681",
   "metadata": {},
   "outputs": [
    {
     "data": {
      "text/plain": [
       "['Alice', 'Clara', 'Davi']"
      ]
     },
     "execution_count": 11,
     "metadata": {},
     "output_type": "execute_result"
    }
   ],
   "source": [
    "bus1.drop('Beto')\n",
    "bus2.passengers"
   ]
  },
  {
   "cell_type": "markdown",
   "id": "1bac0bc8",
   "metadata": {},
   "source": [
    "Note que `'Beto'` foi tirado de `bus1` mas sumiu de `bus2`, porque esta é uma cópia rasa de `bus1`, então elas compartilham a mesma lista de passageiros, apesar de serem instâncias separadas da classe `Bus`."
   ]
  },
  {
   "cell_type": "code",
   "execution_count": 12,
   "id": "bd7466c6",
   "metadata": {},
   "outputs": [
    {
     "data": {
      "text/plain": [
       "True"
      ]
     },
     "execution_count": 12,
     "metadata": {},
     "output_type": "execute_result"
    }
   ],
   "source": [
    "bus1.passengers is bus2.passengers"
   ]
  },
  {
   "cell_type": "markdown",
   "id": "b65b16e4",
   "metadata": {},
   "source": [
    "Mas `bus3` é uma cópia profunda de `bus1`, portanto elas não compartilham a mesma lista de passageiros.\n",
    "Por isso `'Beto'` não desaparece de `bus3` quando ele é retirado de `bus1`."
   ]
  },
  {
   "cell_type": "code",
   "execution_count": 13,
   "id": "f5b50149",
   "metadata": {},
   "outputs": [
    {
     "data": {
      "text/plain": [
       "['Alice', 'Beto', 'Clara', 'Davi']"
      ]
     },
     "execution_count": 13,
     "metadata": {},
     "output_type": "execute_result"
    }
   ],
   "source": [
    "bus3.passengers"
   ]
  },
  {
   "cell_type": "markdown",
   "id": "105113a5",
   "metadata": {},
   "source": [
    "Não existe uma resposta padrão para decidir entre cópias rasas ou profundas.\n",
    "É uma decisão caso a caso.\n",
    "\n",
    "Nem sempre uma cópia profunda é necessária ou correta, e pode até ser impossível se um dos atributos do objeto a ser copiado é um recurso que existe fora da memória do seu programa, como um arquivo ou uma conexão de rede—que são gerenciados pelo sistema operational.\n",
    "\n",
    "É possível controlar precisamente como as instâncias de uma classe que você criou vão funcionar com as funções `copy` e `deepcopy`, se você implementar os métodos especiais `__copy__` e `__deepcopy__`,\n",
    "como descrito na [documentação do módulo](https://docs.python.org/pt-br/3/library/copy.html) `copy`."
   ]
  },
  {
   "cell_type": "code",
   "execution_count": null,
   "id": "c79f1783",
   "metadata": {},
   "outputs": [],
   "source": []
  }
 ],
 "metadata": {
  "kernelspec": {
   "display_name": "Python 3 (ipykernel)",
   "language": "python",
   "name": "python3"
  },
  "language_info": {
   "codemirror_mode": {
    "name": "ipython",
    "version": 3
   },
   "file_extension": ".py",
   "mimetype": "text/x-python",
   "name": "python",
   "nbconvert_exporter": "python",
   "pygments_lexer": "ipython3",
   "version": "3.11.1"
  }
 },
 "nbformat": 4,
 "nbformat_minor": 5
}
