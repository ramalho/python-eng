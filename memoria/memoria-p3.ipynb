{
 "cells": [
  {
   "cell_type": "markdown",
   "id": "5d980af9",
   "metadata": {},
   "source": [
    "# Objetos na Memória (parte 2)\n",
    "\n",
    "Este notebook contém exemplos do livro [_Fluent Python, Second Edition_](https://www.fluentpython.com/) ."
   ]
  },
  {
   "cell_type": "markdown",
   "id": "15af76b6",
   "metadata": {},
   "source": [
    "## Afinal, tuplas são mesmo imutáveis?\n",
    "\n",
    "A melhor resposta é: **depende**.\n",
    "\n",
    "Uma tupla é um _container_: uma estrutura de dados que contém referências a outros objetos.\n",
    "Outros containers são listas, dicts, sets, e filas.\n",
    "\n",
    "> Em contraste, `str`, `bytes` e `array` são _flat coleções planas_: armazenam diretamente seus dados, e não referências a outros objetos.\n",
    "\n",
    "Em uma tupla, as referências são imutáveis.\n",
    "Ou seja, uma vez criada a tupla, ela sempre apontará para a mesma sequência de objetos.\n",
    "\n",
    "Porém, se qualquer objeto contido na tupla for mutável,\n",
    "e seu valor for alterado, isso mudará também o valor da tupla!\n",
    "\n",
    "![tupla-com-lista](fig2-4.png)"
   ]
  },
  {
   "cell_type": "code",
   "execution_count": null,
   "id": "f7b7cb82",
   "metadata": {},
   "outputs": [],
   "source": [
    "a = (10, 'alpha', [1, 2])\n",
    "b = (10, 'alpha', [1, 2])\n",
    "a == b  # valores iguais"
   ]
  },
  {
   "cell_type": "code",
   "execution_count": null,
   "id": "994b21f1",
   "metadata": {},
   "outputs": [],
   "source": [
    "a is b  # identidades diferentes"
   ]
  },
  {
   "cell_type": "code",
   "execution_count": null,
   "id": "1009775b",
   "metadata": {},
   "outputs": [],
   "source": [
    "id(b[-1])  # id da lista que é o último item da tupla b"
   ]
  },
  {
   "cell_type": "code",
   "execution_count": null,
   "id": "619fdc54",
   "metadata": {},
   "outputs": [],
   "source": [
    "b[-1].append(99)  # alterando a lista t1[-1]\n",
    "a == b  # agora as tuplas tem valores diferentes"
   ]
  },
  {
   "cell_type": "code",
   "execution_count": null,
   "id": "1cf5df00",
   "metadata": {},
   "outputs": [],
   "source": [
    "b"
   ]
  },
  {
   "cell_type": "code",
   "execution_count": null,
   "id": "2dfcd300",
   "metadata": {},
   "outputs": [],
   "source": [
    "id(b[-1])  # mas o id de b[-1] não mudou"
   ]
  },
  {
   "cell_type": "markdown",
   "id": "bb1f1ffb",
   "metadata": {},
   "source": [
    "👉 **RESUMO:** o que nunca muda em uma tupla são as referências que ela contém. Mas se o valor de um item da tupla mudar, isso muda o valor da tupla.\n",
    "\n",
    "Em outras palavras: a identidade dos itens em uma tupla nunca muda, mas seus valores podem mudar, dependendo do tipo do item.\n",
    "\n",
    "Copiar um conteiner abre uma questão: os itens do novo container devem ser cópias dos itens originais, ou podem ser referências para os mesmos itens? Esse é o primeiro tema da próxima parte dessa aula."
   ]
  },
  {
   "cell_type": "code",
   "execution_count": null,
   "id": "453d36c1",
   "metadata": {},
   "outputs": [],
   "source": []
  }
 ],
 "metadata": {
  "kernelspec": {
   "display_name": "Python 3 (ipykernel)",
   "language": "python",
   "name": "python3"
  },
  "language_info": {
   "codemirror_mode": {
    "name": "ipython",
    "version": 3
   },
   "file_extension": ".py",
   "mimetype": "text/x-python",
   "name": "python",
   "nbconvert_exporter": "python",
   "pygments_lexer": "ipython3",
   "version": "3.11.1"
  }
 },
 "nbformat": 4,
 "nbformat_minor": 5
}
