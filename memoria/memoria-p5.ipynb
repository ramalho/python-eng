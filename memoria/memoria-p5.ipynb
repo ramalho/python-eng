{
 "cells": [
  {
   "cell_type": "markdown",
   "id": "2178c30e",
   "metadata": {},
   "source": [
    "# Objetos na Memória (parte 5)\n",
    "\n",
    "Este notebook contém exemplos do livro [_Fluent Python, Second Edition_](https://www.fluentpython.com/)."
   ]
  },
  {
   "cell_type": "markdown",
   "id": "cf2c5b2e",
   "metadata": {},
   "source": [
    "## A instrução `del`\n",
    "\n",
    "Veja este exemplo com `del`:"
   ]
  },
  {
   "cell_type": "code",
   "execution_count": 1,
   "id": "9c1096c7",
   "metadata": {},
   "outputs": [
    {
     "data": {
      "text/plain": [
       "[1, 2, 3]"
      ]
     },
     "execution_count": 1,
     "metadata": {},
     "output_type": "execute_result"
    }
   ],
   "source": [
    "a = [1, 2, 3]\n",
    "b = a\n",
    "del a\n",
    "b"
   ]
  },
  {
   "cell_type": "code",
   "execution_count": 2,
   "id": "a730c087",
   "metadata": {},
   "outputs": [
    {
     "ename": "NameError",
     "evalue": "name 'a' is not defined",
     "output_type": "error",
     "traceback": [
      "\u001b[0;31m---------------------------------------------------------------------------\u001b[0m",
      "\u001b[0;31mNameError\u001b[0m                                 Traceback (most recent call last)",
      "Cell \u001b[0;32mIn[2], line 1\u001b[0m\n\u001b[0;32m----> 1\u001b[0m \u001b[43ma\u001b[49m  \u001b[38;5;66;03m# NameError!\u001b[39;00m\n",
      "\u001b[0;31mNameError\u001b[0m: name 'a' is not defined"
     ]
    }
   ],
   "source": [
    "a  # NameError!"
   ]
  },
  {
   "cell_type": "markdown",
   "id": "91ec1cce",
   "metadata": {},
   "source": [
    "Pontos importantes sobre `del`:\n",
    "\n",
    "1. `del` é uma instrução (*statement*), assim como `import`. Não é uma função. Por isso não usamos parênteses: `del a`.\n",
    "2. `del` não apaga objetos, apenas apaga referências. Depois de `del a`, a variável `a` deixa de existir.\n",
    "\n",
    "Depois de `del a`, o objeto referenciado por `a` será apagado somente se `a` era a última referência a ele.\n",
    "\n",
    "Mas se o objeto ainda tiver outras referências, como `b` no exemplo acima, o objeto continuará existindo.\n",
    "\n",
    "Não é possível em Python apagar diretamente um objeto.\n",
    "Para apagar um objeto, é preciso apagar todas as referências a ele."
   ]
  },
  {
   "cell_type": "code",
   "execution_count": 3,
   "id": "eec33911",
   "metadata": {},
   "outputs": [],
   "source": [
    "b = 'banana'"
   ]
  },
  {
   "cell_type": "markdown",
   "id": "e44b451f",
   "metadata": {},
   "source": [
    "Com esta atribuição, `b` não se refere mais à lista `[1, 2, 3]`.\n",
    "Não havendo mais referências para a lista, o coletor de lixo a destroi imediatamente."
   ]
  },
  {
   "cell_type": "markdown",
   "id": "9787861b",
   "metadata": {},
   "source": [
    "## `del` para apagar itens de coleções\n",
    "\n",
    "A instrução `del` também serve para remover referências em coleções mutáveis.\n",
    "Exemplos:"
   ]
  },
  {
   "cell_type": "code",
   "execution_count": 4,
   "id": "600a299b",
   "metadata": {},
   "outputs": [
    {
     "data": {
      "text/plain": [
       "[1, 2, 3]"
      ]
     },
     "execution_count": 4,
     "metadata": {},
     "output_type": "execute_result"
    }
   ],
   "source": [
    "a = [1, 2, 3]\n",
    "a"
   ]
  },
  {
   "cell_type": "code",
   "execution_count": 5,
   "id": "3573542e",
   "metadata": {},
   "outputs": [
    {
     "data": {
      "text/plain": [
       "[1, 3]"
      ]
     },
     "execution_count": 5,
     "metadata": {},
     "output_type": "execute_result"
    }
   ],
   "source": [
    "del a[1]\n",
    "a"
   ]
  },
  {
   "cell_type": "code",
   "execution_count": 6,
   "id": "fbec0415",
   "metadata": {},
   "outputs": [
    {
     "data": {
      "text/plain": [
       "{'x': 1, 'y': 2, 'z': 3}"
      ]
     },
     "execution_count": 6,
     "metadata": {},
     "output_type": "execute_result"
    }
   ],
   "source": [
    "d = dict(x=1, y=2, z=3)\n",
    "d"
   ]
  },
  {
   "cell_type": "code",
   "execution_count": 7,
   "id": "bc2c6790",
   "metadata": {},
   "outputs": [
    {
     "data": {
      "text/plain": [
       "{'y': 2, 'z': 3}"
      ]
     },
     "execution_count": 7,
     "metadata": {},
     "output_type": "execute_result"
    }
   ],
   "source": [
    "del d['x']\n",
    "d"
   ]
  },
  {
   "cell_type": "markdown",
   "id": "78f41c2d",
   "metadata": {},
   "source": [
    "## Para quem quiser se aprofundar mais\n",
    "\n",
    "Isso conclui o material sobre **Objetos na Memória**.\n",
    "\n",
    "No capítulo 6 de *Python Fluente, Segunda Edição* há mais conteúdos que não couberam neste curso:\n",
    "\n",
    "* A discussão sobre `del` inclui um exemplo feito com `weakref`, um módulo avançado de Python que permite criar _referências fracas_ (_weak references_), que não incrementam a contagem de referência dos objetos.\n",
    "\n",
    "* Há uma sessão sobre otimizações que Python faz com certos objetos imutáveis.\n",
    "Estas otimizações são detalhes de implementação que não alteram o comportamento do seu programa, mas economizam memória e processamento. Um exemplo: quando fazemos `t2 = tuple(t1)`, Python não faz uma cópia da tupla `t1` em `t2`, mas compartilha a mesma tupla.\n",
    "\n",
    "* No site [fluentpython.com](https://fluentpython.com) há um\n",
    "[artigo em inglês](https://www.fluentpython.com/extra/weak-references/) com informações básicas sobre o módulo `weakref`. É uma seção da primeira edição de *Fluent Python* que eu movi para o site por se tratar de um tema muito especializado."
   ]
  },
  {
   "cell_type": "code",
   "execution_count": null,
   "id": "8e594245",
   "metadata": {},
   "outputs": [],
   "source": []
  }
 ],
 "metadata": {
  "kernelspec": {
   "display_name": "Python 3 (ipykernel)",
   "language": "python",
   "name": "python3"
  },
  "language_info": {
   "codemirror_mode": {
    "name": "ipython",
    "version": 3
   },
   "file_extension": ".py",
   "mimetype": "text/x-python",
   "name": "python",
   "nbconvert_exporter": "python",
   "pygments_lexer": "ipython3",
   "version": "3.11.1"
  }
 },
 "nbformat": 4,
 "nbformat_minor": 5
}
