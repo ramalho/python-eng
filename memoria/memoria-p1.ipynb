{
 "cells": [
  {
   "cell_type": "markdown",
   "id": "5d980af9",
   "metadata": {},
   "source": [
    "# Objetos na memória (parte 1)\n",
    "\n",
    "> Este notebook contém exemplos e figuras do livro [_Fluent Python, Second Edition_](https://www.fluentpython.com/).\n",
    "\n",
    "Nesta aula teremos uma visão básica sobre como os objetos se organizam na memória, bem como os conceitos de *identidade* e *igualdade*, e quando usar `==` ou `is`."
   ]
  },
  {
   "cell_type": "markdown",
   "id": "add5f207",
   "metadata": {},
   "source": [
    "## Referências e coleções\n",
    "\n",
    "É comum falarmos de coleções *mutáveis* ou *imutáveis* em Python. Coleções mutáveis permitem retirar, acrescentar, ou substituir itens, mas as imutáveis não permitem.\n",
    "\n",
    "Sequências são uma categoria específica de coleção onde os itens se organizam um atrás do outro e podem ser acessados por índices a partir de zero.\n",
    "\n",
    "Os tipos `tuple` e `array` representam duas categorias de sequências:\n",
    "\n",
    "* *Sequência container*: pode conter itens de diferentes tipos ao mesmo tempo, inclusive outros containers. Ex: `tuple`, `list`, `collections.deque`etc.\n",
    "\n",
    "* *Sequência simples*: pode conter itens de um tipo simples pré-determinado. Ex: `str`, `bytes`, `array.array`.\n",
    "\n",
    "Veja essas duas sequências, uma tupla com 3 elementos e um array com 3 elementos:"
   ]
  },
  {
   "cell_type": "code",
   "execution_count": null,
   "id": "a6a44613",
   "metadata": {},
   "outputs": [],
   "source": [
    "t = 9.46, 'cat', [2.08, 4.29]\n",
    "t"
   ]
  },
  {
   "cell_type": "code",
   "execution_count": null,
   "id": "4327d0cd",
   "metadata": {},
   "outputs": [],
   "source": [
    "from array import array\n",
    "a = array('d', [9.46, 2.08, 4.29])\n",
    "a"
   ]
  },
  {
   "cell_type": "markdown",
   "id": "28e398a6",
   "metadata": {},
   "source": [
    "![tuple x array](fig2-1.png)\n",
    "\n",
    "\n",
    "A figura acima mostra de forma simplificada os valores da tupla `t` e do array `a`.\n",
    "\n",
    "Uma *sequência container* não armazena os itens diretamente em seu espaço de memória, mas armazena referências aos itens, que estão em outras partes da memória. Em contraste, uma *sequência simples* armazena os valores dos itens diretamente em uma área contígua de posições de memória, e não como objetos separados.\n",
    "\n",
    "> **NOTA**: Na figura acima, as setas representam *referências*. Uma referência é como um *ponteiro*, ou seja, ela contém um endereço de memória. Porém uma referência é mais segura. Só é possível criar referências para objetos que existem, ao contrário de ponteiros que podem conter endereços para posições arbitrárias de memória, inclusive posições inválidas."
   ]
  },
  {
   "cell_type": "markdown",
   "id": "b6305325",
   "metadata": {},
   "source": [
    "----\n",
    "### 🤔 Estrutura interna de um objeto em Python\n",
    "\n",
    "Em CPython (o interpretador padrão escrito em C), objetos Python são representados por uma `struct` em C, uma espécie de registro com vários campos. O tipo mais simples é um `float`, que contém 3 campos:\n",
    "\n",
    "* `ob_refcnt`: contagem de referências ao objeto (usada pelo coletor de lixo)\n",
    "* `ob_type`: ponteiro para o tipo do objeto (usado para encontrar métodos)\n",
    "* `ob_fval`: um `double` em C, contendo o valor do `float`\n",
    "\n",
    "Em um Python compilado para 64 bits, cada campo acima tem 64 bits. Por isso uma lista de `float` é no mínimo 3 vezes maior que um `array` de float, já que o `array` não armazena objetos `float` completos, mas apenas os valores `double` que representam os números em C.\n",
    "\n",
    "Na figura acima, os quadrados azuis representam a `struct` de cada objeto. A operação `meu_array[0]` obtém o primeiro valor do array e cria na hora um objeto separado para ser usado nas próximas operações.\n",
    "\n",
    "A representação de um `int` é mais complexa, porque o valor inteiro pode ser representado na própria `struct` ou como um ponteiro para outra área de memória contendo valores inteiros que não cabem em 64 bits. \n",
    "\n",
    "----"
   ]
  },
  {
   "cell_type": "markdown",
   "id": "cb1b15d8",
   "metadata": {},
   "source": [
    "## Variáveis não são caixas\n",
    "\n",
    "Alguns professores sugerem que \"variáveis são como caixas\".\n",
    "Essa analogia faz sentido em linguagens como C ou Pascal,\n",
    "mas não funciona em Python, Java, JS, Ruby,\n",
    "ou qualquer outra linguagem onde variáveis são referências a objetos.\n",
    "\n",
    "\n",
    "Veja um código que quebra a ideia de que variáveis são caixas:"
   ]
  },
  {
   "cell_type": "code",
   "execution_count": null,
   "id": "994aa93c",
   "metadata": {},
   "outputs": [],
   "source": [
    "a = [1, 2, 3]\n",
    "b = a\n",
    "a.append(4)\n",
    "a, b"
   ]
  },
  {
   "cell_type": "markdown",
   "id": "ec481bab",
   "metadata": {},
   "source": [
    "Se `a` e `b` são como \"caixas\", como explicar o que aconteceu? Mas se você imaginar que `a` e `b` são duas etiquetas coladas no mesmo objeto, faz sentido.\n",
    "\n",
    "![Fig. 6.1](https://raw.githubusercontent.com/fluentpython/images/master/object-refs/var-boxes-x-labels.png)\n",
    "\n"
   ]
  },
  {
   "cell_type": "markdown",
   "id": "9dd068c7",
   "metadata": {},
   "source": [
    "## Objetos são criados antes de variáveis\n",
    "\n",
    "O código abaixo prova que o lado direito da instrução `x = Trem()` é executado primeiro,\n",
    "e só depois acontece a atribuição.\n",
    "\n",
    "Primeiro a classe `Trem`, que apenas exibe uma mensagem quando uma instância é criada."
   ]
  },
  {
   "cell_type": "code",
   "execution_count": null,
   "id": "2b038c44",
   "metadata": {},
   "outputs": [],
   "source": [
    "class Trem:\n",
    "    def __init__(self):\n",
    "        print(f'Trem id: {id(self):#x}')\n",
    "        \n",
    "x = Trem()"
   ]
  },
  {
   "cell_type": "code",
   "execution_count": null,
   "id": "1ca64042",
   "metadata": {},
   "outputs": [],
   "source": [
    "x"
   ]
  },
  {
   "cell_type": "code",
   "execution_count": null,
   "id": "55671e0d",
   "metadata": {},
   "outputs": [],
   "source": [
    "globals()"
   ]
  },
  {
   "cell_type": "code",
   "execution_count": null,
   "id": "c55040ef",
   "metadata": {},
   "outputs": [],
   "source": [
    "#y = Trem() * Trem()  # isso vai gerar um erro"
   ]
  },
  {
   "cell_type": "code",
   "execution_count": null,
   "id": "dd6af7bf",
   "metadata": {},
   "outputs": [],
   "source": [
    "'y' in globals()"
   ]
  },
  {
   "cell_type": "code",
   "execution_count": null,
   "id": "f44bd1bf",
   "metadata": {},
   "outputs": [],
   "source": [
    "#y  # isso vai gerar outro erro"
   ]
  }
 ],
 "metadata": {
  "kernelspec": {
   "display_name": "Python 3 (ipykernel)",
   "language": "python",
   "name": "python3"
  },
  "language_info": {
   "codemirror_mode": {
    "name": "ipython",
    "version": 3
   },
   "file_extension": ".py",
   "mimetype": "text/x-python",
   "name": "python",
   "nbconvert_exporter": "python",
   "pygments_lexer": "ipython3",
   "version": "3.11.1"
  }
 },
 "nbformat": 4,
 "nbformat_minor": 5
}
