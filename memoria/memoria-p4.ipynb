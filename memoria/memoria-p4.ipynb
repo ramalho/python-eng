{
 "cells": [
  {
   "cell_type": "markdown",
   "id": "2178c30e",
   "metadata": {},
   "source": [
    "# Objetos na Memória (parte 4)\n",
    "\n",
    "Este notebook contém exemplos do livro [_Fluent Python, Second Edition_](https://www.fluentpython.com/)."
   ]
  },
  {
   "cell_type": "markdown",
   "id": "22f0ada1",
   "metadata": {},
   "source": [
    "## Parâmetros de função são apelidos\n",
    "\n",
    "Quando invocamos uma função,\n",
    "os argumentos da chamada são atribuídos aos parâmetros da função.\n",
    "Dentro da função, os parâmetros são apelidos (*aliases*)\n",
    "dos argumentos passados.\n",
    "\n",
    "Por esse motivo, a função pode modificar qualquer argumento mutável.\n",
    "Isso é semelhante ao comportamento de algumas outras linguagens\n",
    "orientadas a objetos, como JavaScript, Ruby e Java (para tipos de referência).\n",
    "\n",
    "O exemplo abaixo mostra como uma mesma função afeta números,\n",
    "listas e tuplas de maneiras diferentes. "
   ]
  },
  {
   "cell_type": "markdown",
   "id": "f4521233",
   "metadata": {},
   "source": [
    "## Uma função pode mudar qualquer objeto mutável que receba\n",
    "\n",
    "O exemplo abaixo mostra como a mesma função afeta números, listas e tuplas de maneiras diferentes. Isso é semelhante ao comportamento de algumas linguagens orientadas a objetos, como Javascript, Ruby e Java (para tipos de referência)."
   ]
  },
  {
   "cell_type": "code",
   "execution_count": 2,
   "id": "19436640",
   "metadata": {},
   "outputs": [
    {
     "data": {
      "text/plain": [
       "3"
      ]
     },
     "execution_count": 2,
     "metadata": {},
     "output_type": "execute_result"
    }
   ],
   "source": [
    "def f(a, b):\n",
    "    a += b  # a = a + b OU a.extend(b)\n",
    "    return a\n",
    "\n",
    "x = 1\n",
    "y = 2\n",
    "f(x, y)"
   ]
  },
  {
   "cell_type": "code",
   "execution_count": 3,
   "id": "bfdd1135",
   "metadata": {},
   "outputs": [
    {
     "data": {
      "text/plain": [
       "(1, 2)"
      ]
     },
     "execution_count": 3,
     "metadata": {},
     "output_type": "execute_result"
    }
   ],
   "source": [
    "x, y"
   ]
  },
  {
   "cell_type": "code",
   "execution_count": 4,
   "id": "fdc0383b",
   "metadata": {},
   "outputs": [
    {
     "data": {
      "text/plain": [
       "[1, 2, 3, 4]"
      ]
     },
     "execution_count": 4,
     "metadata": {},
     "output_type": "execute_result"
    }
   ],
   "source": [
    "l1 = [1, 2]\n",
    "l2 = [3, 4]\n",
    "f(l1, l2)"
   ]
  },
  {
   "cell_type": "code",
   "execution_count": 5,
   "id": "06c561a4",
   "metadata": {},
   "outputs": [
    {
     "data": {
      "text/plain": [
       "([1, 2, 3, 4], [3, 4])"
      ]
     },
     "execution_count": 5,
     "metadata": {},
     "output_type": "execute_result"
    }
   ],
   "source": [
    "l1, l2"
   ]
  },
  {
   "cell_type": "code",
   "execution_count": null,
   "id": "beeafb03",
   "metadata": {},
   "outputs": [],
   "source": [
    "t = (10, 20)\n",
    "u = (30, 40)\n",
    "f(t, u)"
   ]
  },
  {
   "cell_type": "code",
   "execution_count": null,
   "id": "090221ce",
   "metadata": {},
   "outputs": [],
   "source": [
    "t, u"
   ]
  },
  {
   "cell_type": "markdown",
   "id": "f5047804",
   "metadata": {},
   "source": [
    "## Tipos Mutáveis em Parâmetros Default: Péssima Ideia\n",
    "\n",
    "Parâmetros opcionais com valores default são um grande recurso para definição de funções em Python, permitindo que nossas APIs evoluam mantendo a compatibilidade com versões anteriores. Entretanto, evite usar objetos mutáveis como valores default em parâmetros.\n",
    "\n",
    "Para ilustrar esse ponto, no próximo exemplo modificamos o método `__init__` da classe `Bus` do vídeo anterior para criar `HauntedBus`, o ônibus mal-assombrado. Tentamos ser espertos, e em vez do valor default `passengers=None`, temos `passengers=[]`, a evitar o `if` do `__init__` anterior. Essa \"esperteza\" cria problemas."
   ]
  },
  {
   "cell_type": "code",
   "execution_count": 8,
   "id": "def16fc6",
   "metadata": {},
   "outputs": [],
   "source": [
    "class HauntedBus:\n",
    "    \"\"\"A bus model haunted by ghost passengers\"\"\"\n",
    "\n",
    "    def __init__(self, passengers=[]):  # (1)\n",
    "        self.passengers = passengers    # (2)\n",
    "\n",
    "    def pick(self, name):\n",
    "        self.passengers.append(name)    # (3)\n",
    "\n",
    "    def drop(self, name):\n",
    "        self.passengers.remove(name)"
   ]
  },
  {
   "cell_type": "markdown",
   "id": "17cb42e1",
   "metadata": {},
   "source": [
    "Veja a seguir o comportamento sobrenatural de um `HauntedBus`:"
   ]
  },
  {
   "cell_type": "code",
   "execution_count": 9,
   "id": "960aeae9",
   "metadata": {},
   "outputs": [
    {
     "data": {
      "text/plain": [
       "['Bill', 'Charlie']"
      ]
     },
     "execution_count": 9,
     "metadata": {},
     "output_type": "execute_result"
    }
   ],
   "source": [
    ">>> bus1 = HauntedBus(['Alice', 'Bill'])  #(1)\n",
    ">>> bus1.passengers\n",
    "['Alice', 'Bill']\n",
    ">>> bus1.pick('Charlie')\n",
    ">>> bus1.drop('Alice')\n",
    ">>> bus1.passengers  #(2)\n",
    "['Bill', 'Charlie']\n",
    ">>> bus2 = HauntedBus()  #(3)\n",
    ">>> bus2.pick('Carrie')\n",
    ">>> bus2.passengers\n",
    "['Carrie']\n",
    ">>> bus3 = HauntedBus()  #(4)\n",
    ">>> bus3.passengers  #(5)\n",
    "['Carrie']\n",
    ">>> bus3.pick('Dave')\n",
    ">>> bus2.passengers  #(6)\n",
    "['Carrie', 'Dave']\n",
    ">>> bus2.passengers is bus3.passengers  #(7)\n",
    "True\n",
    ">>> bus1.passengers  #(8)\n",
    "['Bill', 'Charlie']"
   ]
  },
  {
   "cell_type": "markdown",
   "id": "2fb9b150",
   "metadata": {},
   "source": [
    "Após executar o exemplo acima, você pode inspecionar o objeto `HauntedBu.__init__` e ver fantasmas de estudantes assombrando o atributo `__defaults__`:"
   ]
  },
  {
   "cell_type": "code",
   "execution_count": 10,
   "id": "f4584f4a",
   "metadata": {},
   "outputs": [
    {
     "data": {
      "text/plain": [
       "(['Carrie', 'Dave'],)"
      ]
     },
     "execution_count": 10,
     "metadata": {},
     "output_type": "execute_result"
    }
   ],
   "source": [
    "HauntedBus.__init__.__defaults__"
   ]
  },
  {
   "cell_type": "markdown",
   "id": "f79e6b33",
   "metadata": {},
   "source": [
    "Veja a provar de que `bus2.passengers` e `bus3.passengers` são aliases (apelidos) para o atributo `__defaults__` do método `__init__`:"
   ]
  },
  {
   "cell_type": "code",
   "execution_count": 11,
   "id": "05aa3e27",
   "metadata": {},
   "outputs": [],
   "source": [
    "default_passengers = HauntedBus.__init__.__defaults__[0]"
   ]
  },
  {
   "cell_type": "code",
   "execution_count": 12,
   "id": "1b28bbff",
   "metadata": {},
   "outputs": [
    {
     "data": {
      "text/plain": [
       "True"
      ]
     },
     "execution_count": 12,
     "metadata": {},
     "output_type": "execute_result"
    }
   ],
   "source": [
    "bus2.passengers is default_passengers"
   ]
  },
  {
   "cell_type": "code",
   "execution_count": 13,
   "id": "3c221d8f",
   "metadata": {},
   "outputs": [
    {
     "data": {
      "text/plain": [
       "True"
      ]
     },
     "execution_count": 13,
     "metadata": {},
     "output_type": "execute_result"
    }
   ],
   "source": [
    "bus3.passengers is default_passengers"
   ]
  },
  {
   "cell_type": "markdown",
   "id": "b85b83c6",
   "metadata": {},
   "source": [
    "## Programação Defensiva com Parâmetros Mutáveis\n",
    "\n",
    "Ao lidar com parâmetros mutáveis em uma função, considere se o cliente que chama a função espera que o argumento passado seja modificado.\n",
    "\n",
    "Se a função precisa modificar o argumento, é importante decidir se esse efeito colateral deve ser visível fora da função ou não, alinhando as expectativas entre o autor da função e o cliente.\n",
    "\n",
    "Veja `TwilightBus`, classe batizada em homenagem ao seriado sobre fenômenos paranormais \"Twilight Zone\"."
   ]
  },
  {
   "cell_type": "code",
   "execution_count": 15,
   "id": "95234171",
   "metadata": {},
   "outputs": [],
   "source": [
    "class TwilightBus:\n",
    "    \"\"\"A bus model that makes passengers vanish\"\"\"\n",
    "\n",
    "    def __init__(self, passengers=None):\n",
    "        if passengers is None:\n",
    "            self.passengers = []  # (1)\n",
    "        else:\n",
    "            self.passengers = passengers  #(2)\n",
    "\n",
    "    def pick(self, name):\n",
    "        self.passengers.append(name)\n",
    "\n",
    "    def drop(self, name):\n",
    "        self.passengers.remove(name)  # (3)"
   ]
  },
  {
   "cell_type": "markdown",
   "id": "9fff5d65",
   "metadata": {},
   "source": [
    "O comportamento paranormal:"
   ]
  },
  {
   "cell_type": "code",
   "execution_count": 16,
   "id": "9ab22ccb",
   "metadata": {},
   "outputs": [
    {
     "data": {
      "text/plain": [
       "['Sue', 'Maya', 'Diana']"
      ]
     },
     "execution_count": 16,
     "metadata": {},
     "output_type": "execute_result"
    }
   ],
   "source": [
    ">>> basketball_team = ['Sue', 'Tina', 'Maya', 'Diana', 'Pat']  #(1)\n",
    ">>> bus = TwilightBus(basketball_team)  # (2)\n",
    ">>> bus.drop('Tina')  # (3)\n",
    ">>> bus.drop('Pat')\n",
    ">>> basketball_team  # (4)"
   ]
  },
  {
   "cell_type": "markdown",
   "id": "b3d23abe",
   "metadata": {},
   "source": [
    "Note que `'Tina'` e `'Pat'` desapareceram da lista `basketball_team`!\n",
    "\n",
    "Para evitar o sumiço de pessoas do time,\n",
    "uma solução simples é copiar a lista de passageiros passada como argumento,\n",
    "em vez de criar um alias para ela."
   ]
  },
  {
   "cell_type": "code",
   "execution_count": 17,
   "id": "4c77c42b",
   "metadata": {},
   "outputs": [],
   "source": [
    "class SafeBus:\n",
    "    \"\"\"A bus that doesn't make passengers vanish\"\"\"\n",
    "\n",
    "    def __init__(self, passengers=None):\n",
    "        if passengers is None:\n",
    "            self.passengers = []\n",
    "        else:\n",
    "            # copiar para preservar o valor do argumento `passengers`\n",
    "            self.passengers = list(passengers)\n",
    "\n",
    "    def pick(self, name):\n",
    "        self.passengers.append(name)\n",
    "\n",
    "    def drop(self, name):\n",
    "        self.passengers.remove(name)"
   ]
  },
  {
   "cell_type": "code",
   "execution_count": 19,
   "id": "2d35d539",
   "metadata": {},
   "outputs": [
    {
     "data": {
      "text/plain": [
       "['Sue', 'Tina', 'Maya', 'Diana', 'Pat']"
      ]
     },
     "execution_count": 19,
     "metadata": {},
     "output_type": "execute_result"
    }
   ],
   "source": [
    ">>> basketball_team = ['Sue', 'Tina', 'Maya', 'Diana', 'Pat']  #(1)\n",
    ">>> bus = SafeBus(basketball_team)  # (2)\n",
    ">>> bus.drop('Tina')  # (3)\n",
    ">>> bus.drop('Pat')\n",
    ">>> basketball_team  # (4)"
   ]
  },
  {
   "cell_type": "code",
   "execution_count": 20,
   "id": "aeb24b71",
   "metadata": {},
   "outputs": [
    {
     "data": {
      "text/plain": [
       "['Sue', 'Maya', 'Diana']"
      ]
     },
     "execution_count": 20,
     "metadata": {},
     "output_type": "execute_result"
    }
   ],
   "source": [
    "bus.passengers"
   ]
  },
  {
   "cell_type": "markdown",
   "id": "fe06073e",
   "metadata": {},
   "source": [
    "Como vantagem adicional, `SafeBus` é mais flexível:\n",
    "agora o argumento passado no parâmetro `passengers` pode ser\n",
    "`tuple` ou qualquer outro tipo iterável,\n",
    "como `set` ou mesmo resultados de uma consulta a um banco de dados,\n",
    "pois o construtor de `list` aceita qualquer iterável.\n",
    "\n",
    "Ao criar nossa própria lista, estamos também assegurando que\n",
    "`self.passengers` suporta os métodos necessários, `.remove()` and `.append()`, que usamos nos métodos `.pick()` e `.drop()`."
   ]
  },
  {
   "cell_type": "code",
   "execution_count": null,
   "id": "9c1096c7",
   "metadata": {},
   "outputs": [],
   "source": []
  }
 ],
 "metadata": {
  "kernelspec": {
   "display_name": "Python 3 (ipykernel)",
   "language": "python",
   "name": "python3"
  },
  "language_info": {
   "codemirror_mode": {
    "name": "ipython",
    "version": 3
   },
   "file_extension": ".py",
   "mimetype": "text/x-python",
   "name": "python",
   "nbconvert_exporter": "python",
   "pygments_lexer": "ipython3",
   "version": "3.11.1"
  }
 },
 "nbformat": 4,
 "nbformat_minor": 5
}
