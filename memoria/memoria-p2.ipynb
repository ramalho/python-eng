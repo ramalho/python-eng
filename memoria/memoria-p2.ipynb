{
 "cells": [
  {
   "cell_type": "markdown",
   "id": "5d980af9",
   "metadata": {},
   "source": [
    "# Objetos na Memória (parte 2)\n",
    "\n",
    "Este notebook contém exemplos do livro [_Fluent Python, Second Edition_](https://www.fluentpython.com/) ."
   ]
  },
  {
   "cell_type": "markdown",
   "id": "b36e7e49",
   "metadata": {},
   "source": [
    "## Identidade, igualdade, e aliases\n",
    "\n",
    "> **NOTA:** A palavra inglesa *alias* pode ser traduzida como *apelido* ou *alcunha*.\n",
    "\n",
    "Pelé era o apelido de Edson Arantes do Nascimento.\n",
    "Pelé não é apenas igual a Edson; os dois nomes se referem à mesma pessoa.\n",
    "\n",
    "Veja esta ideia em Python:"
   ]
  },
  {
   "cell_type": "code",
   "execution_count": null,
   "id": "eed16769",
   "metadata": {},
   "outputs": [],
   "source": [
    "edson = dict(nome='Edson Arantes do Nascimento', ano=1940)\n",
    "edson"
   ]
  },
  {
   "cell_type": "code",
   "execution_count": null,
   "id": "8beb3dfd",
   "metadata": {},
   "outputs": [],
   "source": [
    "pelé = edson\n",
    "pelé is edson"
   ]
  },
  {
   "cell_type": "code",
   "execution_count": null,
   "id": "3a1a3284",
   "metadata": {},
   "outputs": [],
   "source": [
    "id(pelé), id(edson)"
   ]
  },
  {
   "cell_type": "code",
   "execution_count": null,
   "id": "85a10ced",
   "metadata": {},
   "outputs": [],
   "source": [
    "pelé['gols'] = 1283\n",
    "edson"
   ]
  },
  {
   "cell_type": "markdown",
   "id": "856bced8",
   "metadata": {},
   "source": [
    "Agora imagine um impostor, tentando se passar por Pelé.\n",
    "O impostor alega que tem os mesmos dados:"
   ]
  },
  {
   "cell_type": "code",
   "execution_count": null,
   "id": "f7bf2ca0",
   "metadata": {},
   "outputs": [],
   "source": [
    "impostor = {'nome': 'Edson Arantes do Nascimento', 'ano': 1940, 'gols': 1283}"
   ]
  },
  {
   "cell_type": "code",
   "execution_count": null,
   "id": "aaf9bcf2",
   "metadata": {},
   "outputs": [],
   "source": [
    "impostor is pelé"
   ]
  },
  {
   "cell_type": "code",
   "execution_count": null,
   "id": "f322f5a7",
   "metadata": {},
   "outputs": [],
   "source": [
    "impostor == pelé"
   ]
  },
  {
   "cell_type": "code",
   "execution_count": null,
   "id": "70fe0e3a",
   "metadata": {},
   "outputs": [],
   "source": [
    "impostor is not pelé"
   ]
  },
  {
   "cell_type": "markdown",
   "id": "83989111",
   "metadata": {},
   "source": [
    "## Como escolher entre `==` ou `is`"
   ]
  },
  {
   "cell_type": "markdown",
   "id": "fc02c240",
   "metadata": {},
   "source": [
    "Se `a is b` é verdadeiro, então `a == b` também é verdeiro, pois `a` e `b` são referências para o mesmo objeto.\n",
    "\n",
    "Mas o contrário nem sempre é verdade:\n",
    "é possível que `a == b` seja verdade, mesmo quando `a is b` é falso.\n",
    "Isso acontece porque dois objetos distintos na memória podem ter igual valor.\n",
    "\n",
    "Por exemplo, duas listas distintas podem ter o mesmo tamanho e os itens de igual valor."
   ]
  },
  {
   "cell_type": "code",
   "execution_count": null,
   "id": "068f94b3",
   "metadata": {},
   "outputs": [],
   "source": [
    "a = [1, 2, 3]\n",
    "b = [1.0, 2.0, 3.0]\n",
    "a == b"
   ]
  },
  {
   "cell_type": "code",
   "execution_count": null,
   "id": "dfa5f912",
   "metadata": {},
   "outputs": [],
   "source": [
    "a is b"
   ]
  },
  {
   "cell_type": "markdown",
   "id": "7e6e15f6",
   "metadata": {},
   "source": [
    "Para comparar *valores*, e não *identidades*, sempre use `==`.\n",
    "É muito mais comum a gente comparar o *valor* de dois objetos do sua *identidade* deles.\n",
    "\n",
    "O caso mais comum de uso de `is` é comparar com objetos únicos (singletons),\n",
    "geralmente usados como sinalizadores ou sentinelas.\n",
    "Por exemplo: `x is None`.\n",
    "Se `x == None` nesse caso é garantido que `x is None` também é verdade,\n",
    "porque só existe um objeto `None`."
   ]
  },
  {
   "cell_type": "code",
   "execution_count": null,
   "id": "1b0c436c",
   "metadata": {},
   "outputs": [],
   "source": [
    "x = None\n",
    "y = None\n",
    "x is y  # só existe um objeto None"
   ]
  },
  {
   "cell_type": "code",
   "execution_count": null,
   "id": "de6fd13c",
   "metadata": {},
   "outputs": [],
   "source": [
    "x is None"
   ]
  },
  {
   "cell_type": "code",
   "execution_count": null,
   "id": "26c25992",
   "metadata": {},
   "outputs": [],
   "source": [
    "x == None  # também funciona, mas é mais lento"
   ]
  },
  {
   "cell_type": "markdown",
   "id": "2c3ae18a",
   "metadata": {},
   "source": [
    "Quando um objeto é único é mais eficiente verificar a identidade do que a igualdade,\n",
    "porque o operador `==` pode ser sobrecarregado implementando o método `__eq__`,\n",
    "portanto toda vez que aparece `==`, o interpretador precisa verificar a presença do método `__eq__`.\n",
    "\n",
    "Mas o operador `is` não pode ser sobrecarregado.\n",
    "Ele é implementado em C simplesmente comparando o *id* dos objetos.\n",
    "Por isso ele é mais rápido."
   ]
  },
  {
   "cell_type": "markdown",
   "id": "da8c1b69",
   "metadata": {},
   "source": [
    "### Exemplo de `is` com `None`"
   ]
  },
  {
   "cell_type": "code",
   "execution_count": null,
   "id": "ccfb2694",
   "metadata": {},
   "outputs": [],
   "source": [
    "from unicodedata import name\n",
    "\n",
    "for código in range(0x30):\n",
    "    car = chr(código)\n",
    "    nome = name(car, None)\n",
    "    if nome is None:\n",
    "        continue\n",
    "    print(f'U+{código:04x}\\t{car}\\t{nome}')"
   ]
  },
  {
   "cell_type": "markdown",
   "id": "4cbadc24",
   "metadata": {},
   "source": [
    "### Exemplo de `is` com sentinela\n",
    "\n",
    "Sentinelas são valores especiais usados em filas ou sockets\n",
    "para sinalizar o fim de uma sequência de valores.\n",
    "\n",
    "A forma mais simples de criar uma sentinela única é instanciar `object()`.\n",
    "Lembre-se que cada objeto tem sua própria identidade."
   ]
  },
  {
   "cell_type": "code",
   "execution_count": null,
   "id": "1ff2843f",
   "metadata": {},
   "outputs": [],
   "source": [
    "FIM_DA_SÉRIE = object()\n",
    "BANANA = object()\n",
    "\n",
    "FIM_DA_SÉRIE == BANANA, FIM_DA_SÉRIE is BANANA"
   ]
  },
  {
   "cell_type": "markdown",
   "id": "6a04639c",
   "metadata": {},
   "source": [
    "Agora vamos usar o objeto `FIM_DA_SÉRIE` como uma sentinela.\n",
    "\n",
    "Ao preencher uma fila, a função `carregar` coloca `FIM_DA_SÉRIE`\n",
    "após o último item carregado.\n",
    "\n",
    "Assim, o código-cliente sabe quando parar de retirar uma série de itens da fila."
   ]
  },
  {
   "cell_type": "code",
   "execution_count": null,
   "id": "66883ba4",
   "metadata": {},
   "outputs": [],
   "source": [
    "from queue import SimpleQueue\n",
    "from collections.abc import Iterable\n",
    "\n",
    "\n",
    "def carregar(fila: SimpleQueue, itens: Iterable) -> None:\n",
    "    for item in itens:\n",
    "        fila.put(item)\n",
    "    fila.put(FIM_DA_SÉRIE)\n",
    "    \n",
    "   \n",
    "fila = SimpleQueue()\n",
    "carregar(fila, 'ABCDZ')\n",
    "\n",
    "# código-cliente: consome itens da fila até encontrar FIM_DA_SÉRIE \n",
    "    \n",
    "while (item := fila.get()) is not FIM_DA_SÉRIE:\n",
    "    print(item)  "
   ]
  },
  {
   "cell_type": "markdown",
   "id": "e0f07e18",
   "metadata": {},
   "source": [
    "> **NOTA:** Filas são muito usadas para sincronizar e trocar dados entre thread: uma thread coloca itens na fila, e outra thread consome itens da fila. A sentinela permite que a thread produtora informe a thread consumidora quando uma série de itens está completa."
   ]
  },
  {
   "cell_type": "markdown",
   "id": "d9a1a520",
   "metadata": {},
   "source": [
    "----\n",
    "\n",
    "### 🤔 Operador Morsa `:=`"
   ]
  },
  {
   "cell_type": "markdown",
   "id": "c4791bcb",
   "metadata": {},
   "source": [
    "O laço **`while`** acima usa o \"operador morsa\" `:=` introduzido no Python 3.8.\n",
    "\n",
    "O exemplo acima antes do Python 3.8 seria escrito assim:"
   ]
  },
  {
   "cell_type": "code",
   "execution_count": null,
   "id": "6b211b4d",
   "metadata": {},
   "outputs": [],
   "source": [
    "fila = preparar()\n",
    "\n",
    "while True:\n",
    "    item = fila.get()\n",
    "    if item is FIM_DA_SÉRIE:\n",
    "        break\n",
    "    print(item)"
   ]
  },
  {
   "cell_type": "markdown",
   "id": "28e2a62d",
   "metadata": {},
   "source": [
    "Chama-se \"operador morsa\" por causa do emoticon `:=` que representa uma morsa:\n",
    "\n",
    "<img src=\"https://upload.wikimedia.org/wikipedia/commons/c/ce/Noaa-walrus22.jpg\" width=\"300\">"
   ]
  },
  {
   "cell_type": "markdown",
   "id": "4af4ad46",
   "metadata": {},
   "source": [
    "----"
   ]
  },
  {
   "cell_type": "code",
   "execution_count": null,
   "id": "f3021e92",
   "metadata": {},
   "outputs": [],
   "source": []
  }
 ],
 "metadata": {
  "kernelspec": {
   "display_name": "Python 3 (ipykernel)",
   "language": "python",
   "name": "python3"
  },
  "language_info": {
   "codemirror_mode": {
    "name": "ipython",
    "version": 3
   },
   "file_extension": ".py",
   "mimetype": "text/x-python",
   "name": "python",
   "nbconvert_exporter": "python",
   "pygments_lexer": "ipython3",
   "version": "3.11.1"
  }
 },
 "nbformat": 4,
 "nbformat_minor": 5
}
