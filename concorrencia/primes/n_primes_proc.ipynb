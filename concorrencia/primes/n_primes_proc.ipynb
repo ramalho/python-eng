{
 "cells": [
  {
   "cell_type": "code",
   "execution_count": 1,
   "id": "1bffd761-38fb-436a-8c5e-d7d56968c647",
   "metadata": {},
   "outputs": [
    {
     "data": {
      "text/plain": [
       "[18014398509481951,\n",
       " 18014398509481984,\n",
       " 18014399314786597,\n",
       " 27021597764222939,\n",
       " 27021597764222976,\n",
       " 27021598744655129,\n",
       " 36028797018963913,\n",
       " 36028797018963968,\n",
       " 36028803757875637,\n",
       " 54043195528445869,\n",
       " 54043195528445952,\n",
       " 54043196378148947,\n",
       " 72057594037927931,\n",
       " 72057594037927936,\n",
       " 72057596722278677,\n",
       " 108086391056891903,\n",
       " 108086391056891904,\n",
       " 108086392348502419,\n",
       " 144115188075855859,\n",
       " 144115188075855872,\n",
       " 144115189976253901]"
      ]
     },
     "execution_count": 1,
     "metadata": {},
     "output_type": "execute_result"
    }
   ],
   "source": [
    "import os, math, sys\n",
    "from time import perf_counter\n",
    "from typing import NamedTuple, TypeAlias\n",
    "from multiprocessing import Process, SimpleQueue, queues  # <1>\n",
    "from multiprocessing import set_start_method\n",
    "\n",
    "\n",
    "from primes import least_prime_factor, make_sample\n",
    "\n",
    "from table import Table\n",
    "\n",
    "# Magnitude of primes that take a few seconds to check\n",
    "#\n",
    "# machine  magnitude\n",
    "# RPI4     2 ** 49\n",
    "# X250     2 ** 53\n",
    "# YOGA9    2 ** 57\n",
    "# M2MAX    2 ** 57\n",
    "# VIVO     2 ** 63\n",
    "\n",
    "MAGNITUDE = 2**57\n",
    "sample = sorted(make_sample(MAGNITUDE))\n",
    "\n",
    "set_start_method('fork')  # make MacOS happy\n",
    "\n",
    "sample"
   ]
  },
  {
   "cell_type": "code",
   "execution_count": 2,
   "id": "0a740296-6e28-4548-902a-6315eb3665a0",
   "metadata": {},
   "outputs": [
    {
     "data": {
      "text/plain": [
       "Experiment(n=7, lpf=7, elapsed=8.594997780164704e-06)"
      ]
     },
     "execution_count": 2,
     "metadata": {},
     "output_type": "execute_result"
    }
   ],
   "source": [
    "class Experiment(NamedTuple):  # <3>\n",
    "    n: int\n",
    "    lpf: int\n",
    "    elapsed: float\n",
    "\n",
    "    @property\n",
    "    def prime(self):\n",
    "        return self.n == self.lpf\n",
    "\n",
    "def check(n: int) -> Experiment:  # <6>\n",
    "    t0 = perf_counter()\n",
    "    res = least_prime_factor(n)\n",
    "    return Experiment(n, res, perf_counter() - t0)\n",
    "\n",
    "check(7)"
   ]
  },
  {
   "cell_type": "code",
   "execution_count": 3,
   "id": "7f06fe8b-cefe-4f38-b018-6c68f2a1d21a",
   "metadata": {},
   "outputs": [
    {
     "data": {
      "text/plain": [
       "Experiment(n=9, lpf=3, elapsed=1.5760015230625868e-06)"
      ]
     },
     "execution_count": 3,
     "metadata": {},
     "output_type": "execute_result"
    }
   ],
   "source": [
    "check(9)"
   ]
  },
  {
   "cell_type": "code",
   "execution_count": 4,
   "id": "02087ea4-9fcc-4cee-9a0f-697c260c6938",
   "metadata": {},
   "outputs": [
    {
     "data": {
      "text/plain": [
       "Experiment(n=72057596722278677, lpf=268435399, elapsed=7.265580000999762)"
      ]
     },
     "execution_count": 4,
     "metadata": {},
     "output_type": "execute_result"
    }
   ],
   "source": [
    "check(72057596722278677)"
   ]
  },
  {
   "cell_type": "code",
   "execution_count": 5,
   "id": "29695231-1636-4e49-b016-741dfbcb2f7d",
   "metadata": {},
   "outputs": [],
   "source": [
    "JobQueue = queues.SimpleQueue[int]  # <4>\n",
    "ResultQueue = queues.SimpleQueue[Experiment]  # <5>\n",
    "\n",
    "def worker(jobs: JobQueue, results: ResultQueue) -> None:  # <7>\n",
    "    while n := jobs.get():  # <8>\n",
    "        results.put(check(n))  # <9>\n",
    "    results.put(Experiment(0, False, 0.0))  # <10>"
   ]
  },
  {
   "cell_type": "code",
   "execution_count": 6,
   "id": "60dbfb1d-4349-404b-90e8-e8fec244969e",
   "metadata": {},
   "outputs": [],
   "source": [
    "def xstart_jobs(qtd_procs: int, results: ResultQueue) -> None:\n",
    "    jobs: JobQueue = SimpleQueue()  # <2>\n",
    "    for n in make_sample(MAGNITUDE):\n",
    "        jobs.put(n)  # <12>\n",
    "    for _ in range(qtd_procs):\n",
    "        proc = Process(target=worker, args=(jobs, results))  # <13>\n",
    "        proc.start()  # <14>\n",
    "        jobs.put(0)  # <15> \"poison pill\""
   ]
  },
  {
   "cell_type": "code",
   "execution_count": 7,
   "id": "0c898677-bb9d-4c2a-ba2e-c24d9d1d02a3",
   "metadata": {},
   "outputs": [],
   "source": [
    "def queue_jobs() -> JobQueue:\n",
    "    jobs: JobQueue = SimpleQueue()  # <2>\n",
    "    for n in make_sample(MAGNITUDE):\n",
    "        jobs.put(n)  # <12>\n",
    "    return jobs\n",
    "    \n",
    "def start_jobs(qtd_procs: int, jobs: JobQueue, results: ResultQueue):    \n",
    "    for _ in range(qtd_procs):\n",
    "        proc = Process(target=worker, args=(jobs, results))  # <13>\n",
    "        proc.start()  # <14>\n",
    "        jobs.put(0)  # <15> \"poison pill\""
   ]
  },
  {
   "cell_type": "code",
   "execution_count": 8,
   "id": "0474191a-7650-4488-8853-be66d9cd1c61",
   "metadata": {},
   "outputs": [],
   "source": [
    "def report(qtd_procs: int, results: ResultQueue) -> int:  # <6>\n",
    "    checked = 0\n",
    "    procs_done = 0\n",
    "    while procs_done < qtd_procs:  # <7>\n",
    "        exp = results.get()  # <8>\n",
    "        if exp.n == 0:  # <9>\n",
    "            procs_done += 1\n",
    "        else:\n",
    "            checked += 1  # <10>\n",
    "            label = '=' if exp.prime else ' '\n",
    "            #print(f'{exp.n:26_d}  {label}  {exp.lpf:26_d}  {exp.elapsed:9.6f}s')\n",
    "            table.update(exp.n, exp.lpf, exp.elapsed)\n",
    "            \n",
    "    return checked"
   ]
  },
  {
   "cell_type": "code",
   "execution_count": 9,
   "id": "b59187a7-d984-45c0-aba9-f69ff2393091",
   "metadata": {},
   "outputs": [
    {
     "data": {
      "application/vnd.jupyter.widget-view+json": {
       "model_id": "f52ec934f7f441e0a9254ab9e4f96a21",
       "version_major": 2,
       "version_minor": 0
      },
      "text/plain": [
       "VBox(children=(Valid(value=False, description='18_014_398_509_481_951', layout=Layout(width='90%'), readout='⏳…"
      ]
     },
     "metadata": {},
     "output_type": "display_data"
    },
    {
     "name": "stdout",
     "output_type": "stream",
     "text": [
      "Using 12 worker processes.\n",
      "21 checks in 20.7s\n"
     ]
    }
   ],
   "source": [
    "table = Table(sample)\n",
    "table.display()\n",
    "\n",
    "def supervisor(qtd_procs: int) -> None:\n",
    "    print(f'Using {qtd_procs} worker processes.')\n",
    "    t0 = perf_counter()\n",
    "    jobs = queue_jobs()\n",
    "    results: ResultQueue = SimpleQueue()\n",
    "    start_jobs(qtd_procs, jobs, results)  # <3>\n",
    "    checked = report(qtd_procs, results)  # <4>\n",
    "    elapsed = perf_counter() - t0\n",
    "    print(f'{checked} checks in {elapsed:.1f}s')\n",
    "\n",
    "supervisor(os.cpu_count())"
   ]
  },
  {
   "cell_type": "code",
   "execution_count": null,
   "id": "ca3feb71-c37b-4fdb-bd36-87f0b2fe06f1",
   "metadata": {},
   "outputs": [],
   "source": []
  }
 ],
 "metadata": {
  "kernelspec": {
   "display_name": "Python 3 (ipykernel)",
   "language": "python",
   "name": "python3"
  },
  "language_info": {
   "codemirror_mode": {
    "name": "ipython",
    "version": 3
   },
   "file_extension": ".py",
   "mimetype": "text/x-python",
   "name": "python",
   "nbconvert_exporter": "python",
   "pygments_lexer": "ipython3",
   "version": "3.12.2"
  }
 },
 "nbformat": 4,
 "nbformat_minor": 5
}
