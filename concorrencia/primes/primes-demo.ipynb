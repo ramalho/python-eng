{
 "cells": [
  {
   "cell_type": "markdown",
   "id": "b7f93d8d-010e-4843-8b50-8fb6b94fb3b2",
   "metadata": {},
   "source": [
    "# Demonstrações da live #2"
   ]
  },
  {
   "cell_type": "code",
   "execution_count": 1,
   "id": "c93bb55c-7a43-4710-882d-fddbe38c1caf",
   "metadata": {},
   "outputs": [],
   "source": [
    "import os, math\n",
    "from random import shuffle\n",
    "\n",
    "from primes import least_prime_factor, make_sample\n",
    "from table import Table\n",
    "\n",
    "# Magnitude of primes that take a few seconds to check\n",
    "#\n",
    "# machine  magnitude\n",
    "# RPI4     2 ** 49\n",
    "# X250     2 ** 53\n",
    "# YOGA9    2 ** 57\n",
    "# M2MAX    2 ** 57\n",
    "# VIVO     2 ** 63\n",
    "\n",
    "MAGNITUDE = 2**57\n",
    "\n",
    "sample = sorted(make_sample(MAGNITUDE))"
   ]
  },
  {
   "cell_type": "code",
   "execution_count": 2,
   "id": "ae31456f-2b81-4a68-94c1-619d423d836f",
   "metadata": {},
   "outputs": [
    {
     "data": {
      "application/vnd.jupyter.widget-view+json": {
       "model_id": "5a5adfa4fab6418591d4adb26d583b66",
       "version_major": 2,
       "version_minor": 0
      },
      "text/plain": [
       "VBox(children=(Valid(value=False, description='18_014_398_509_481_951', layout=Layout(width='90%'), readout='⏳…"
      ]
     },
     "metadata": {},
     "output_type": "display_data"
    },
    {
     "name": "stdout",
     "output_type": "stream",
     "text": [
      "SAMPLE SIZE: 21  MAGNITUDE: 10**17  WORKERS: 1\n",
      "CPU times: user 33.7 s, sys: 40.8 ms, total: 33.7 s\n",
      "Wall time: 34.3 s\n"
     ]
    }
   ],
   "source": [
    "%%time\n",
    "\n",
    "table = Table(sample)\n",
    "table.display()\n",
    "\n",
    "def update_table():\n",
    "    for n in sample:\n",
    "        lpf = least_prime_factor(n)\n",
    "        table.update(n, lpf)\n",
    "\n",
    "update_table()\n",
    "workers = 1\n",
    "print(f'SAMPLE SIZE: {len(sample)}  MAGNITUDE: 10**{round(math.log10(MAGNITUDE))}  WORKERS: {workers}')"
   ]
  },
  {
   "cell_type": "code",
   "execution_count": 3,
   "id": "596b71fc-a167-428e-bf33-7590b80e92d8",
   "metadata": {},
   "outputs": [],
   "source": [
    "from concurrent import futures\n",
    "\n",
    "from primes import lpf_pair        "
   ]
  },
  {
   "cell_type": "code",
   "execution_count": 4,
   "id": "54a13f93-08fa-46b2-aac4-2a1a1f9576f2",
   "metadata": {},
   "outputs": [
    {
     "data": {
      "application/vnd.jupyter.widget-view+json": {
       "model_id": "e56a6a66842142c79d6e133942060b39",
       "version_major": 2,
       "version_minor": 0
      },
      "text/plain": [
       "VBox(children=(Valid(value=False, description='18_014_398_509_481_951', layout=Layout(width='90%'), readout='⏳…"
      ]
     },
     "metadata": {},
     "output_type": "display_data"
    },
    {
     "name": "stdout",
     "output_type": "stream",
     "text": [
      "SAMPLE SIZE: 21  MAGNITUDE: 10**17  WORKERS: 12\n",
      "CPU times: user 68 ms, sys: 45.7 ms, total: 114 ms\n",
      "Wall time: 6.48 s\n"
     ]
    }
   ],
   "source": [
    "%%time\n",
    "\n",
    "table = Table(sample)\n",
    "table.display()\n",
    "\n",
    "with futures.ProcessPoolExecutor() as pool:\n",
    "    tasks = [pool.submit(lpf_pair, n) for n in sample]\n",
    "    for future in futures.as_completed(tasks):\n",
    "        n, lpf = future.result()\n",
    "        table.update(n, lpf)\n",
    "\n",
    "workers = pool._max_workers\n",
    "print(f'SAMPLE SIZE: {len(sample)}  MAGNITUDE: 10**{round(math.log10(MAGNITUDE))}  WORKERS: {workers}')"
   ]
  },
  {
   "cell_type": "code",
   "execution_count": null,
   "id": "7d2a2e9b-047d-4b9c-bb22-68bb45557004",
   "metadata": {},
   "outputs": [],
   "source": [
    "# desempenho pior com threads:\n",
    "#with futures.ThreadPoolExecutor() as pool:  "
   ]
  },
  {
   "cell_type": "code",
   "execution_count": null,
   "id": "810f8e8a-629e-416f-ad07-7ef4fa9e23b4",
   "metadata": {},
   "outputs": [],
   "source": []
  }
 ],
 "metadata": {
  "kernelspec": {
   "display_name": "Python 3 (ipykernel)",
   "language": "python",
   "name": "python3"
  },
  "language_info": {
   "codemirror_mode": {
    "name": "ipython",
    "version": 3
   },
   "file_extension": ".py",
   "mimetype": "text/x-python",
   "name": "python",
   "nbconvert_exporter": "python",
   "pygments_lexer": "ipython3",
   "version": "3.12.2"
  }
 },
 "nbformat": 4,
 "nbformat_minor": 5
}
