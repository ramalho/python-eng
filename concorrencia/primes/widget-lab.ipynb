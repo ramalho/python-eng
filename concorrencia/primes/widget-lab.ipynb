{
 "cells": [
  {
   "cell_type": "code",
   "execution_count": 1,
   "id": "c93bb55c-7a43-4710-882d-fddbe38c1caf",
   "metadata": {},
   "outputs": [],
   "source": [
    "from random import shuffle\n",
    "\n",
    "from IPython.display import display\n",
    "from ipywidgets.widgets import Valid, VBox, Layout\n",
    "\n",
    "from primes import least_prime_factor, make_sample\n",
    "\n",
    "# Magnitude of primes that take a few seconds to check\n",
    "#\n",
    "# machine  magnitude\n",
    "# RPI4     2 ** 49\n",
    "# X250     2 ** 53\n",
    "# YOGA9    2 ** 57\n",
    "# M2MAX    2 ** 57\n",
    "# VIVO     2 ** 63\n",
    "\n",
    "MAGNITUDE = 2**57\n",
    "\n",
    "sample = make_sample(MAGNITUDE)\n",
    "shuffle(sample)\n",
    "\n",
    "def make_cell(n, lpf):\n",
    "        return Valid(\n",
    "            value = lpf == n,\n",
    "            description = f'{n:_}',\n",
    "            readout = f'{lpf:_}' if lpf else '\\N{Hourglass with Flowing Sand}',\n",
    "            layout = Layout(width='90%'),\n",
    "            style = {'description_width' : '200px'},\n",
    "        )"
   ]
  },
  {
   "cell_type": "code",
   "execution_count": 2,
   "id": "ae31456f-2b81-4a68-94c1-619d423d836f",
   "metadata": {},
   "outputs": [
    {
     "data": {
      "application/vnd.jupyter.widget-view+json": {
       "model_id": "43ca7a5719864af78b07a0aa38cbc3a9",
       "version_major": 2,
       "version_minor": 0
      },
      "text/plain": [
       "VBox(children=(Valid(value=False, description='18_014_399_314_786_597', layout=Layout(width='90%'), readout='⏳…"
      ]
     },
     "metadata": {},
     "output_type": "display_data"
    },
    {
     "name": "stdout",
     "output_type": "stream",
     "text": [
      "CPU times: user 33.1 s, sys: 19 ms, total: 33.2 s\n",
      "Wall time: 33.3 s\n"
     ]
    }
   ],
   "source": [
    "%%time\n",
    "cells = [make_cell(n, 0) for n in sample]\n",
    "\n",
    "table = VBox(cells) \n",
    "display(table)\n",
    "\n",
    "def update_table():\n",
    "    for i, n in enumerate(sample):\n",
    "        lpf = least_prime_factor(n)\n",
    "        cells[i] = make_cell(n, lpf)\n",
    "        table.children = cells\n",
    "\n",
    "update_table()"
   ]
  },
  {
   "cell_type": "code",
   "execution_count": 3,
   "id": "596b71fc-a167-428e-bf33-7590b80e92d8",
   "metadata": {},
   "outputs": [],
   "source": [
    "from concurrent import futures\n",
    "\n",
    "from primes import lpf_pair\n",
    "from table import Table\n",
    "        "
   ]
  },
  {
   "cell_type": "code",
   "execution_count": 4,
   "id": "54a13f93-08fa-46b2-aac4-2a1a1f9576f2",
   "metadata": {},
   "outputs": [
    {
     "data": {
      "application/vnd.jupyter.widget-view+json": {
       "model_id": "95e480089e9949a3b85785b6438ed671",
       "version_major": 2,
       "version_minor": 0
      },
      "text/plain": [
       "VBox(children=(Valid(value=False, description='18_014_399_314_786_597', layout=Layout(width='90%'), readout='⏳…"
      ]
     },
     "metadata": {},
     "output_type": "display_data"
    },
    {
     "name": "stdout",
     "output_type": "stream",
     "text": [
      "CPU times: user 48 ms, sys: 35.1 ms, total: 83.1 ms\n",
      "Wall time: 6.12 s\n"
     ]
    }
   ],
   "source": [
    "%%time\n",
    "\n",
    "table = Table(sample)\n",
    "table.display()\n",
    "\n",
    "with futures.ProcessPoolExecutor() as pool:\n",
    "    tasks = [pool.submit(lpf_pair, n) for n in sample]\n",
    "    for future in futures.as_completed(tasks):\n",
    "        n, lpf = future.result()\n",
    "        table.update(n, lpf)"
   ]
  },
  {
   "cell_type": "code",
   "execution_count": null,
   "id": "7d2a2e9b-047d-4b9c-bb22-68bb45557004",
   "metadata": {},
   "outputs": [],
   "source": []
  }
 ],
 "metadata": {
  "kernelspec": {
   "display_name": "Python 3 (ipykernel)",
   "language": "python",
   "name": "python3"
  },
  "language_info": {
   "codemirror_mode": {
    "name": "ipython",
    "version": 3
   },
   "file_extension": ".py",
   "mimetype": "text/x-python",
   "name": "python",
   "nbconvert_exporter": "python",
   "pygments_lexer": "ipython3",
   "version": "3.12.2"
  }
 },
 "nbformat": 4,
 "nbformat_minor": 5
}
