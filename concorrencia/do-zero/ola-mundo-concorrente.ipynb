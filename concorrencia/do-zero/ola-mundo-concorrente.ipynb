{
 "cells": [
  {
   "cell_type": "markdown",
   "id": "bf4f7db9-ab8f-40c6-8890-8c85fca5503b",
   "metadata": {},
   "source": [
    "# Olá Mundo Concorrente\n",
    "\n",
    "Este notebook está em https://github.com/ramalho/python-eng/blob/main/concorrencia/do-zero/ola-mundo-concorrente.ipynb\n",
    "\n",
    "## Como animar texto na saída padrão\n",
    "\n",
    "Imagine um **teletipo** ([teletype](http://www.columbia.edu/cu/computinghistory/teletype/index.html)): uma máquina de escrever automatizada que pode trocar mensagens via modem ou comunicação serial com outro teletipo ou com um computador.\n",
    "\n",
    "<img src=\"pcworld-sel.jpg\" alt=\"Foto de anúncio mostrando mulher operando minicomputador através de um teletipo\" width=\"30%\">\n",
    "\n",
    "Por isso a tabela ASCII inclui códigos de controle como estes:\n",
    "\n",
    "|dec|hex |nome           |sigla|Python|\n",
    "|--:|----|---------------|:---:|------|\n",
    "|  7|0x07|bell (alarm)   |BEL  |`'\\a'`|\n",
    "|  8|0x08|backspace      |BS   |`'\\b'`|\n",
    "|  9|0x09|horizontal tab |HT   |`'\\t'`|\n",
    "| 10|0x0a|line feed      |LF   |`'\\n'`|\n",
    "| 11|0x0b|vertical tab   |VT   |`'\\v'`|\n",
    "| 12|0x0c|form feed      |FF   |`'\\f'`|\n",
    "| 13|0x0d|carriage return|CR   |`'\\r'`|\n",
    "\n",
    "**Nota:** Nem todos esses códigos funcionam no Jupyter Notebook ou em alguns terminais."
   ]
  },
  {
   "cell_type": "code",
   "execution_count": null,
   "id": "330f9db5-9499-43dd-8e65-99ad00f00cf6",
   "metadata": {},
   "outputs": [],
   "source": [
    "import time\n",
    "\n",
    "def relogio():\n",
    "    while True:\n",
    "        print(time.strftime('%H:%M:%S'), end='\\r')\n",
    "        time.sleep(1)\n",
    "\n",
    "# relogio()"
   ]
  },
  {
   "cell_type": "markdown",
   "id": "ac02d2c1-926a-46c7-9fcf-7d247d73c2a9",
   "metadata": {},
   "source": [
    "## Exemplo com threads\n",
    "\n",
    "Duas threads: a thread principal e aquela nós criamos explicitamente."
   ]
  },
  {
   "cell_type": "code",
   "execution_count": 9,
   "id": "c052a707-dc73-4370-8fe4-42a5284b87d3",
   "metadata": {},
   "outputs": [
    {
     "name": "stdout",
     "output_type": "stream",
     "text": [
      "Resposta: 42                                            \n"
     ]
    }
   ],
   "source": [
    "import itertools\n",
    "import time\n",
    "from threading import Thread, Event\n",
    "\n",
    "def girar(msg, pronto):\n",
    "    for car in itertools.cycle('|/-\\\\'):\n",
    "        status = f'{car} {msg}'\n",
    "        print(status, end='\\r')\n",
    "        if pronto.wait(.5):\n",
    "            break\n",
    "    brancos = ' ' * len(status)\n",
    "    print(f'\\r{brancos}', end='\\r')\n",
    "\n",
    "def buscar():\n",
    "    time.sleep(3)\n",
    "    return 42\n",
    "\n",
    "def main():\n",
    "    pronto = Event()\n",
    "    giradora = Thread(target=girar, args=['buscando a resposta para a pergunta mais importante...', pronto])\n",
    "    giradora.start()\n",
    "    res = buscar()\n",
    "    pronto.set()\n",
    "    giradora.join()\n",
    "    print('Resposta:', res)\n",
    "\n",
    "main()"
   ]
  },
  {
   "cell_type": "markdown",
   "id": "897b3bf2-3c99-4115-830a-9323b07db299",
   "metadata": {},
   "source": [
    "## Exemplos com processos ou corrotinas\n",
    "\n",
    "As versões com processos (`multiprocessing`) ou corrotinas (`asyncio`) não funcionam aqui por diferentes motivos ligados à\n",
    "[arquitetura do no Jupyter Notebook](https://docs.jupyter.org/en/latest/projects/architecture/content-architecture.html#the-jupyter-notebook-interface).\n",
    "\n",
    "<img src=\"notebook_components.png\" width=\"50%\">\n",
    "\n",
    "**Dica:** Rode no terminal os programas `gira_proc.py` e `gira_async.py`."
   ]
  },
  {
   "cell_type": "code",
   "execution_count": null,
   "id": "7a0243ec-1f56-44fe-a587-b285da75bb15",
   "metadata": {},
   "outputs": [],
   "source": []
  }
 ],
 "metadata": {
  "kernelspec": {
   "display_name": "Python 3 (ipykernel)",
   "language": "python",
   "name": "python3"
  },
  "language_info": {
   "codemirror_mode": {
    "name": "ipython",
    "version": 3
   },
   "file_extension": ".py",
   "mimetype": "text/x-python",
   "name": "python",
   "nbconvert_exporter": "python",
   "pygments_lexer": "ipython3",
   "version": "3.12.2"
  }
 },
 "nbformat": 4,
 "nbformat_minor": 5
}
