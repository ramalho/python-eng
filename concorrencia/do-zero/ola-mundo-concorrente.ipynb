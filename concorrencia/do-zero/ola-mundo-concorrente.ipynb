{
 "cells": [
  {
   "cell_type": "markdown",
   "id": "bf4f7db9-ab8f-40c6-8890-8c85fca5503b",
   "metadata": {},
   "source": [
    "# Olá Mundo Concorrente\n",
    "\n",
    "## Como animar texto na saída padrão\n",
    "\n",
    "Imagine um **teletipo** ([teletype](http://www.columbia.edu/cu/computinghistory/teletype/index.html)): uma máquina de escrever automatizada que pode trocar mensagens via modem ou comunicação serial com outro teletipo ou com um computador."
   ]
  },
  {
   "cell_type": "code",
   "execution_count": 1,
   "id": "73c121ce-8d57-4416-a934-1ffeb2e8e823",
   "metadata": {},
   "outputs": [],
   "source": [
    "import time\n",
    "\n",
    "def relogio():\n",
    "    while True:\n",
    "        print('\\r' + time.strftime('%H:%M:%S'), end='')\n",
    "        time.sleep(1)"
   ]
  },
  {
   "cell_type": "code",
   "execution_count": 2,
   "id": "3a86c24c-2904-44f1-9dfc-e256decce82e",
   "metadata": {},
   "outputs": [],
   "source": [
    "# relogio()"
   ]
  },
  {
   "cell_type": "code",
   "execution_count": 3,
   "id": "ed18dcce-2dae-4732-9b50-21d6f00650ef",
   "metadata": {},
   "outputs": [],
   "source": [
    "def girar():\n",
    "    for char in '|/-\\\\':\n",
    "        print(f'\\r{char}', end=' ')\n",
    "        time.sleep(1)"
   ]
  },
  {
   "cell_type": "code",
   "execution_count": 4,
   "id": "d5f4178c-db8f-4c10-8ef0-b1ca4527539b",
   "metadata": {},
   "outputs": [],
   "source": [
    "# girar()"
   ]
  },
  {
   "cell_type": "code",
   "execution_count": 5,
   "id": "b48d7422-14f3-45b4-97f6-adf2c270ff55",
   "metadata": {},
   "outputs": [],
   "source": [
    "import itertools\n",
    "\n",
    "def girar():\n",
    "    for char in itertools.cycle('|/-\\\\'):\n",
    "        print(f'\\r{char}', end=' ', flush=True)\n",
    "        time.sleep(.1)"
   ]
  },
  {
   "cell_type": "code",
   "execution_count": 6,
   "id": "9acced0f-b88e-4818-b3c8-fb1b2d38fc0d",
   "metadata": {},
   "outputs": [],
   "source": [
    "# girar()"
   ]
  },
  {
   "cell_type": "code",
   "execution_count": 7,
   "id": "2b20bf13-f1a0-43af-8964-777a9ff2fc05",
   "metadata": {},
   "outputs": [
    {
     "name": "stdout",
     "output_type": "stream",
     "text": [
      "⠁⠂⠄⡀⢀⠠⠐⠈"
     ]
    }
   ],
   "source": [
    "from unicodedata import lookup\n",
    "DOTS = (1, 2, 3, 7, 8, 6, 5, 4)\n",
    "PREFIX = 'BRAILLE PATTERN DOTS-'\n",
    "\n",
    "for dot in DOTS:\n",
    "    print(lookup(f'{PREFIX}{dot}'), end='')"
   ]
  },
  {
   "cell_type": "markdown",
   "id": "6174cfcb-f3a2-44a9-97ac-309b653e4a0c",
   "metadata": {},
   "source": [
    "## Exemplo sequencial"
   ]
  },
  {
   "cell_type": "code",
   "execution_count": 8,
   "id": "caa80665-6a18-4388-8277-a0dca4812738",
   "metadata": {},
   "outputs": [],
   "source": [
    "def girar(msg):\n",
    "    for char in itertools.cycle(reversed('⠁⠂⠄⡀⢀⠠⠐⠈')):\n",
    "        print(f'\\r{char} {msg}', end=' ', flush=True)\n",
    "        time.sleep(.1)\n",
    "\n",
    "def main():\n",
    "    girar('pensando para sempre...')"
   ]
  },
  {
   "cell_type": "code",
   "execution_count": 9,
   "id": "56755e4f-43d2-4ed5-8fa0-4ee580e02c8c",
   "metadata": {},
   "outputs": [],
   "source": [
    "#main()"
   ]
  },
  {
   "cell_type": "markdown",
   "id": "ac02d2c1-926a-46c7-9fcf-7d247d73c2a9",
   "metadata": {},
   "source": [
    "## Exemplos com threads\n",
    "\n",
    "Duas threads: a thread principal e aquela nós criamos explicitamente."
   ]
  },
  {
   "cell_type": "code",
   "execution_count": 10,
   "id": "c052a707-dc73-4370-8fe4-42a5284b87d3",
   "metadata": {},
   "outputs": [],
   "source": [
    "import itertools\n",
    "import time\n",
    "from threading import Thread, Event\n",
    "\n",
    "def girar(msg: str, calculado: Event) -> None:\n",
    "    for char in itertools.cycle(r'\\|/-'):\n",
    "        status = f'\\r{char} {msg}'\n",
    "        print(status, end='', flush=True)\n",
    "        if calculado.wait(0.05):\n",
    "            break\n",
    "    blanks = ' ' * len(status)\n",
    "    print(f'\\r{blanks}\\r', end='')\n",
    "\n",
    "\n",
    "def buscar() -> int:\n",
    "    time.sleep(3)\n",
    "    return 42\n",
    "\n",
    "\n",
    "def main():\n",
    "    pronto = Event()\n",
    "    fio = Thread(target=girar, args=['buscando...', pronto])\n",
    "    fio.start()\n",
    "    res = buscar()\n",
    "    pronto.set()\n",
    "    fio.join()\n",
    "    print(res)\n"
   ]
  },
  {
   "cell_type": "code",
   "execution_count": 11,
   "id": "58ce3863-c14f-4429-a142-065899fd902d",
   "metadata": {},
   "outputs": [],
   "source": [
    "# main()"
   ]
  },
  {
   "cell_type": "markdown",
   "id": "897b3bf2-3c99-4115-830a-9323b07db299",
   "metadata": {},
   "source": [
    "## Exemplos com processos ou corrotinas\n",
    "\n",
    "As versões com processos (`multiprocessing`) ou corrotinas (`asyncio`) não funcionam aqui por diferentes motivos ligados à\n",
    "[arquitetura do no Jupyter Notebook](https://docs.jupyter.org/en/latest/projects/architecture/content-architecture.html#the-jupyter-notebook-interface).\n",
    "\n",
    "<img src=\"notebook_components.png\" width=\"50%\">\n",
    "\n",
    "**DICA**: Rode no terminal os programas `gira_proc.py` e `gira_async`."
   ]
  },
  {
   "cell_type": "markdown",
   "id": "3464bd44-6a25-4185-8729-d883865e2784",
   "metadata": {},
   "source": [
    "## Exemplo com curio\n",
    "\n",
    "**[curio](https://github.com/dabeaz/curio/)** é uma biblioteca de programação assíncrona experimental do professor David Beazley que apresentou novas formas de usar as instruções `async for` e `async wait`, de uma forma mais *pythonica* do que a própria biblioteca `asyncio` (que foi criada antes das instruções `async`).\n",
    "\n",
    "Este exemplo funciona, mas só usando a versão mais recente do\n",
    "[repositório do curio](https://github.com/dabeaz/curio/) e não o pacote `curio` do PyPI."
   ]
  },
  {
   "cell_type": "code",
   "execution_count": 17,
   "id": "890fb706-241c-45f7-8213-166f43d5467e",
   "metadata": {},
   "outputs": [
    {
     "name": "stdout",
     "output_type": "stream",
     "text": [
      "✓ false.dev\n",
      "  none.dev\n",
      "  true.dev\n",
      "✓ await.dev\n",
      "✓ del.dev\n",
      "✓ from.dev\n",
      "✓ and.dev\n",
      "✓ def.dev\n",
      "✓ async.dev\n",
      "  break.dev\n",
      "  or.dev\n",
      "  class.dev\n",
      "  is.dev\n",
      "  elif.dev\n",
      "  else.dev\n",
      "✓ in.dev\n",
      "  pass.dev\n",
      "  for.dev\n",
      "✓ as.dev\n",
      "  if.dev\n",
      "  with.dev\n",
      "✓ not.dev\n",
      "✓ raise.dev\n",
      "✓ try.dev\n",
      "  yield.dev\n",
      "✓ while.dev\n",
      "26 domains probed in 0.0146s\n"
     ]
    }
   ],
   "source": [
    "#!/usr/bin/env python3\n",
    "from curio import run, TaskGroup\n",
    "import curio.socket as socket\n",
    "from keyword import kwlist\n",
    "\n",
    "MAX_KEYWORD_LEN = 5\n",
    "NAMES = [kw for kw in kwlist if len(kw) <= MAX_KEYWORD_LEN]\n",
    "\n",
    "async def probe(domain: str) -> tuple[str, bool]:  # (1)\n",
    "    try:\n",
    "        await socket.getaddrinfo(domain, None)  # (2)\n",
    "    except socket.gaierror:\n",
    "        return (domain, False)\n",
    "    return (domain, True)\n",
    "\n",
    "async def main() -> None:\n",
    "    domains = (f'{name}.dev'.lower() for name in NAMES)\n",
    "    async with TaskGroup() as group:  # (3)\n",
    "        for domain in domains:\n",
    "            await group.spawn(probe, domain)  # (4)\n",
    "        async for task in group:  # (5)\n",
    "            domain, found = task.result\n",
    "            mark = '✓' if found else ' '\n",
    "            print(f'{mark} {domain}')\n",
    "\n",
    "if __name__ == '__main__':\n",
    "    from time import perf_counter\n",
    "    t0 = perf_counter()\n",
    "    run(main())  # (6)\n",
    "    dt = perf_counter() - t0\n",
    "    print(f'{len(NAMES)} domains probed in {dt:0.4f}s')"
   ]
  },
  {
   "cell_type": "code",
   "execution_count": null,
   "id": "7a0243ec-1f56-44fe-a587-b285da75bb15",
   "metadata": {},
   "outputs": [],
   "source": []
  }
 ],
 "metadata": {
  "kernelspec": {
   "display_name": "Python 3 (ipykernel)",
   "language": "python",
   "name": "python3"
  },
  "language_info": {
   "codemirror_mode": {
    "name": "ipython",
    "version": 3
   },
   "file_extension": ".py",
   "mimetype": "text/x-python",
   "name": "python",
   "nbconvert_exporter": "python",
   "pygments_lexer": "ipython3",
   "version": "3.12.2"
  }
 },
 "nbformat": 4,
 "nbformat_minor": 5
}
