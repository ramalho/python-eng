{
 "cells": [
  {
   "cell_type": "markdown",
   "id": "8a9dc8cc-f490-4d13-9a4f-e8ae0ec9125f",
   "metadata": {},
   "source": [
    "# Wikipics demo"
   ]
  },
  {
   "cell_type": "code",
   "execution_count": 1,
   "id": "2039cf8d-2612-40d9-ac4d-13f281e273ec",
   "metadata": {},
   "outputs": [],
   "source": [
    "from pathlib import Path\n",
    "from typing import NamedTuple\n",
    "from ipywidgets.widgets import Image, Layout, HBox\n",
    "\n",
    "import httpx\n",
    "\n",
    "from wikipics import get_sample_url, get_sample_urls\n",
    "\n",
    "class ImageRecord(NamedTuple):\n",
    "    pixels: bytes\n",
    "    name: str\n",
    "    size: int"
   ]
  },
  {
   "cell_type": "code",
   "execution_count": 2,
   "id": "edf23542-1f6f-493a-8bab-a115c1d6d2c5",
   "metadata": {},
   "outputs": [],
   "source": [
    "def fetch(url) -> ImageRecord:\n",
    "    resp = httpx.get(url)\n",
    "    resp.raise_for_status()\n",
    "    name = Path(url).name\n",
    "    return ImageRecord(resp.content, name, len(resp.content))"
   ]
  },
  {
   "cell_type": "code",
   "execution_count": 3,
   "id": "3b054372-b50d-484a-a95f-2d02129021be",
   "metadata": {},
   "outputs": [],
   "source": [
    "#img_rec = fetch(get_sample_url(1_000_000))\n",
    "#Image(value=img_rec.pixels)"
   ]
  },
  {
   "cell_type": "code",
   "execution_count": 4,
   "id": "3f935c85-64fe-45b2-8af9-b23cdb4d2158",
   "metadata": {},
   "outputs": [
    {
     "name": "stdout",
     "output_type": "stream",
     "text": [
      "   1_968_070 bytes | Io_highest_resolution_true_color.jpg\n",
      "   1_976_293 bytes | United_States_Declaration_of_Independence.jpg\n",
      "   1_996_200 bytes | Bison_skull_pile_edit.jpg\n",
      "   2_019_740 bytes | Bald.eagle.closeup.arp-sh.750pix.jpg\n",
      "   1_985_830 bytes | Plains_Zebra_Equus_quagga.jpg\n",
      "   1_974_653 bytes | Phascolarctos_cinereus_Bonorong.jpg\n",
      "   2_020_431 bytes | Kaiseradler_Aquila_heliaca_2_amk.jpg\n",
      "   1_993_394 bytes | Peacock_butterfly_%28Aglais_io%29_2.jpg\n",
      "   2_010_689 bytes | Morocco_Africa_Flickr_Rosino_December_2005_84514010.jpg\n",
      "   2_004_178 bytes | Thiodina_puerpera_female_02.jpg\n",
      "TOTAL BYTES: 19_949_478\n",
      "CPU times: user 758 ms, sys: 276 ms, total: 1.03 s\n",
      "Wall time: 16.5 s\n"
     ]
    },
    {
     "data": {
      "application/vnd.jupyter.widget-view+json": {
       "model_id": "22244c7d6eac46a38df1eef2c31448c7",
       "version_major": 2,
       "version_minor": 0
      },
      "text/plain": [
       "HBox(children=(Image(value=b'\\xff\\xd8\\xff\\xe1\\x1a\\x89Exif\\x00\\x00MM\\x00*\\x00\\x00\\x00\\x08\\x00\\x0f\\x01\\x00\\x00\\x…"
      ]
     },
     "execution_count": 4,
     "metadata": {},
     "output_type": "execute_result"
    }
   ],
   "source": [
    "%%time\n",
    "img_widgets = []\n",
    "qty = 10\n",
    "scale = f'{100//qty}%'\n",
    "urls = get_sample_urls(2_000_000, qty)\n",
    "total_bytes = 0\n",
    "for url in urls:\n",
    "    img_rec = fetch(url)\n",
    "    print(f'{img_rec.size:12_} bytes | {img_rec.name}')\n",
    "    total_bytes += img_rec.size\n",
    "    img_widgets.append(Image(value=img_rec.pixels, layout=Layout(width=scale, height=scale)))\n",
    "\n",
    "print(f'TOTAL BYTES: {total_bytes:_}')\n",
    "HBox(img_widgets)"
   ]
  },
  {
   "cell_type": "code",
   "execution_count": 5,
   "id": "6799b3f5-e23d-40eb-a657-4668bd1316c5",
   "metadata": {},
   "outputs": [],
   "source": [
    "class Gallery:\n",
    "    def __init__(self, num_images):\n",
    "        scale = f'{100//num_images}%'\n",
    "        self.img_layout = Layout(width=scale, height=scale)\n",
    "        no_img = open('no-image.png', 'rb').read()\n",
    "        self.img_widgets = [Image(value=no_img, layout=self.img_layout)] * num_images\n",
    "        self.box = HBox(self.img_widgets)\n",
    "        self.size = 0\n",
    "\n",
    "    def display(self):\n",
    "        display(self.box)\n",
    "\n",
    "    def update(self, index, pixels):\n",
    "        self.size += len(pixels)\n",
    "        self.img_widgets[index] = Image(value=pixels, alt=f'({index})', layout=self.img_layout)\n",
    "        self.box.children = self.img_widgets\n",
    "        print(f'({index+1:2}){img_rec.size:12_} bytes | {img_rec.name}', flush=True)\n"
   ]
  },
  {
   "cell_type": "code",
   "execution_count": 6,
   "id": "7c40632c-0239-48b0-8c01-eff3b0f6a4d1",
   "metadata": {},
   "outputs": [
    {
     "data": {
      "application/vnd.jupyter.widget-view+json": {
       "model_id": "68a0be11bda3477fa0ab82b98c458148",
       "version_major": 2,
       "version_minor": 0
      },
      "text/plain": [
       "HBox(children=(Image(value=b'\\x89PNG\\r\\n\\x1a\\n\\x00\\x00\\x00\\rIHDR\\x00\\x00\\x00\\xeb\\x00\\x00\\x00\\xb7\\x08\\x00\\x00\\x…"
      ]
     },
     "metadata": {},
     "output_type": "display_data"
    },
    {
     "name": "stdout",
     "output_type": "stream",
     "text": [
      "( 1)   1_992_141 bytes | Thalassarche_cauta_-_SE_Tasmania.jpg\n",
      "( 2)   2_015_977 bytes | Litoria_infrafrenata_-_Julatten.jpg\n",
      "( 3)   2_006_701 bytes | Dhow_znz.jpg\n",
      "( 4)   1_976_553 bytes | Photographing_a_model.jpg\n",
      "( 5)   2_010_689 bytes | Morocco_Africa_Flickr_Rosino_December_2005_84514010.jpg\n",
      "( 6)   2_010_325 bytes | Rana_esculenta_on_Nymphaea_edit.JPG\n",
      "( 7)   2_019_740 bytes | Bald.eagle.closeup.arp-sh.750pix.jpg\n",
      "( 8)   1_992_966 bytes | Aeshna_cyanea_freshly_slipped_with_time.jpg\n",
      "( 9)   2_020_431 bytes | Kaiseradler_Aquila_heliaca_2_amk.jpg\n",
      "(10)   1_975_417 bytes | Dolceacqua43_-_Artista_locale_mentre_dipinge_un_acquarello.jpg\n",
      "TOTAL BYTES: 20_020_940\n",
      "CPU times: user 760 ms, sys: 261 ms, total: 1.02 s\n",
      "Wall time: 16.5 s\n"
     ]
    }
   ],
   "source": [
    "%%time\n",
    "num_images = 10\n",
    "gallery = Gallery(num_images)\n",
    "gallery.display()\n",
    "\n",
    "urls = get_sample_urls(2_000_000, num_images)\n",
    "\n",
    "for i, url in enumerate(urls):\n",
    "    img_rec = fetch(url)\n",
    "    total_bytes += img_rec.size\n",
    "    gallery.update(i, img_rec.pixels)\n",
    "\n",
    "print(f'TOTAL BYTES: {gallery.size:_}')"
   ]
  },
  {
   "cell_type": "code",
   "execution_count": 7,
   "id": "e7b1c72e-75eb-47ca-bbe1-51a39c16eada",
   "metadata": {},
   "outputs": [
    {
     "data": {
      "application/vnd.jupyter.widget-view+json": {
       "model_id": "f24440a703f5480895cc1dcdfc1ca23b",
       "version_major": 2,
       "version_minor": 0
      },
      "text/plain": [
       "HBox(children=(Image(value=b'\\x89PNG\\r\\n\\x1a\\n\\x00\\x00\\x00\\rIHDR\\x00\\x00\\x00\\xeb\\x00\\x00\\x00\\xb7\\x08\\x00\\x00\\x…"
      ]
     },
     "metadata": {},
     "output_type": "display_data"
    },
    {
     "name": "stdout",
     "output_type": "stream",
     "text": [
      "( 1)   2_044_892 bytes | Dacelo_novaeguineae_waterworks.jpg\n",
      "( 2)   1_992_141 bytes | Thalassarche_cauta_-_SE_Tasmania.jpg\n",
      "( 3)   2_017_570 bytes | Bharata_Natyam_Performance_DS.jpg\n",
      "( 4)   1_976_553 bytes | Photographing_a_model.jpg\n",
      "( 5)   1_963_394 bytes | Synchiropus_splendidus_2_Luc_Viatour.jpg\n",
      "( 6)   2_035_926 bytes | Agnes_Milowka_by_J_Axford.jpg\n",
      "( 7)   2_025_198 bytes | Mansudae-Monument-Bow-2014.jpg\n",
      "( 8)   1_937_954 bytes | Pholiota_malicola.jpg\n",
      "( 9)   2_036_802 bytes | Coenagrionidae2.jpg\n",
      "(10)   2_006_701 bytes | Dhow_znz.jpg\n",
      "(11)   1_163_231 bytes | Portrait_of_Jupiter_from_Cassini.jpg\n",
      "(12)   2_036_964 bytes | Champ_de_Mars_from_the_Eiffel_Tower_-_July_2006_edit.jpg\n",
      "(13)   2_041_482 bytes | Pippin-Atmark-Console-Set.jpg\n",
      "(14)   2_029_273 bytes | Chandiroor_Divakaran_New_DSW.JPG\n",
      "(15)   1_968_070 bytes | Io_highest_resolution_true_color.jpg\n",
      "(16)   1_962_254 bytes | Inside_the_Tarawera_rift.jpg\n",
      "(17)   2_015_977 bytes | Litoria_infrafrenata_-_Julatten.jpg\n",
      "(18)   2_019_740 bytes | Bald.eagle.closeup.arp-sh.750pix.jpg\n",
      "(19)   1_972_509 bytes | Papilio_demoleus_ALT_by_kadavoor.jpg\n",
      "(20)   2_041_623 bytes | Setophaga_coronata_MP.jpg\n",
      "TOTAL BYTES: 39_288_254\n",
      "CPU times: user 27.8 s, sys: 595 ms, total: 28.4 s\n",
      "Wall time: 5.55 s\n"
     ]
    }
   ],
   "source": [
    "%%time\n",
    "from concurrent import futures\n",
    "\n",
    "num_images = 20\n",
    "gallery = Gallery(num_images)\n",
    "gallery.display()\n",
    "\n",
    "urls = get_sample_urls(2_000_000, num_images)\n",
    "with futures.ThreadPoolExecutor() as pool:\n",
    "    img_records = pool.map(fetch, urls)\n",
    "    for i, img_rec in enumerate(img_records):\n",
    "        gallery.update(i, img_rec.pixels)\n",
    "\n",
    "print(f'TOTAL BYTES: {gallery.size:_}')"
   ]
  },
  {
   "cell_type": "code",
   "execution_count": 8,
   "id": "539a5b55-929b-4c69-90c5-3847f1cb7efb",
   "metadata": {},
   "outputs": [
    {
     "data": {
      "application/vnd.jupyter.widget-view+json": {
       "model_id": "889b5f8220dd421591dc3d24f35f7a6c",
       "version_major": 2,
       "version_minor": 0
      },
      "text/plain": [
       "HBox(children=(Image(value=b'\\x89PNG\\r\\n\\x1a\\n\\x00\\x00\\x00\\rIHDR\\x00\\x00\\x00\\xeb\\x00\\x00\\x00\\xb7\\x08\\x00\\x00\\x…"
      ]
     },
     "metadata": {},
     "output_type": "display_data"
    },
    {
     "name": "stdout",
     "output_type": "stream",
     "text": [
      "( 1)   1_984_907 bytes | Glasshouse_and_fountain_at_lalbagh.jpg\n",
      "( 2)   2_029_322 bytes | Albert_Bierstadt_-_The_Rocky_Mountains%2C_Lander%27s_Peak.jpg\n",
      "( 3)   1_974_272 bytes | Panorpa_alpina_2_Luc_Viatour.jpg\n",
      "( 4)   2_041_623 bytes | Setophaga_coronata_MP.jpg\n",
      "( 5)   1_992_141 bytes | Thalassarche_cauta_-_SE_Tasmania.jpg\n",
      "( 6)   2_041_482 bytes | Pippin-Atmark-Console-Set.jpg\n",
      "( 7)   1_994_699 bytes | BennyTrapp_Hyla_intermedia_Italien.jpg\n",
      "( 8)   1_940_579 bytes | Amundsen-Scott_marsstation_ray_h_edit.jpg\n",
      "( 9)   2_019_580 bytes | Edvard_Munch_-_The_Kiss_-_Google_Art_Project.jpg\n",
      "(10)   1_962_254 bytes | Inside_the_Tarawera_rift.jpg\n",
      "(11)   2_040_629 bytes | Sony_A77_II.jpg\n",
      "(12)   2_752_180 bytes | F-16_June_2008.jpg\n",
      "(13)   2_004_178 bytes | Thiodina_puerpera_female_02.jpg\n",
      "(14)   2_015_977 bytes | Litoria_infrafrenata_-_Julatten.jpg\n",
      "(15)   1_943_747 bytes | Van_dyck-el_pintor_martin_ryckaert-prado.jpg\n",
      "(16)   2_036_964 bytes | Champ_de_Mars_from_the_Eiffel_Tower_-_July_2006_edit.jpg\n",
      "(17)   1_996_200 bytes | Bison_skull_pile_edit.jpg\n",
      "(18)   1_163_231 bytes | Portrait_of_Jupiter_from_Cassini.jpg\n",
      "(19)   1_938_261 bytes | Hankopan.JPG\n",
      "(20)   2_005_363 bytes | Marmot-edit1.jpg\n",
      "TOTAL BYTES: 39_877_589\n",
      "CPU times: user 27.3 s, sys: 489 ms, total: 27.8 s\n",
      "Wall time: 5.53 s\n"
     ]
    }
   ],
   "source": [
    "%%time\n",
    "from IPython.display import display\n",
    "from concurrent import futures\n",
    "\n",
    "num_images = 20\n",
    "gallery = Gallery(num_images)\n",
    "gallery.display()\n",
    "urls = get_sample_urls(2_000_000, num_images)\n",
    "\n",
    "with futures.ThreadPoolExecutor() as pool:\n",
    "    tasks = [pool.submit(fetch, url) for url in urls]\n",
    "    for i, future in enumerate(futures.as_completed(tasks)):\n",
    "        img_rec = future.result()\n",
    "        gallery.update(i, img_rec.pixels)\n",
    "        \n",
    "print(f'TOTAL BYTES: {gallery.size:_}')"
   ]
  },
  {
   "cell_type": "code",
   "execution_count": null,
   "id": "af3d0bd8-adfa-4235-aee4-030d859ef4a6",
   "metadata": {},
   "outputs": [],
   "source": []
  }
 ],
 "metadata": {
  "kernelspec": {
   "display_name": "Python 3 (ipykernel)",
   "language": "python",
   "name": "python3"
  },
  "language_info": {
   "codemirror_mode": {
    "name": "ipython",
    "version": 3
   },
   "file_extension": ".py",
   "mimetype": "text/x-python",
   "name": "python",
   "nbconvert_exporter": "python",
   "pygments_lexer": "ipython3",
   "version": "3.12.2"
  }
 },
 "nbformat": 4,
 "nbformat_minor": 5
}
