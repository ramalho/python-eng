{
 "cells": [
  {
   "cell_type": "markdown",
   "id": "8a9dc8cc-f490-4d13-9a4f-e8ae0ec9125f",
   "metadata": {},
   "source": [
    "# Wikipics demo"
   ]
  },
  {
   "cell_type": "code",
   "execution_count": 1,
   "id": "2039cf8d-2612-40d9-ac4d-13f281e273ec",
   "metadata": {},
   "outputs": [],
   "source": [
    "from pathlib import Path\n",
    "from typing import NamedTuple\n",
    "from ipywidgets.widgets import Image, Layout, HBox\n",
    "\n",
    "import httpx\n",
    "\n",
    "from wikipics import get_sample_url, get_sample_urls\n",
    "\n",
    "class ImageRecord(NamedTuple):\n",
    "    pixels: bytes\n",
    "    name: str\n",
    "    size: int"
   ]
  },
  {
   "cell_type": "code",
   "execution_count": 2,
   "id": "edf23542-1f6f-493a-8bab-a115c1d6d2c5",
   "metadata": {},
   "outputs": [],
   "source": [
    "def fetch(url) -> ImageRecord:\n",
    "    resp = httpx.get(url)\n",
    "    resp.raise_for_status()\n",
    "    name = Path(url).name\n",
    "    img = ImageRecord(resp.content, name, len(resp.content))\n",
    "    print(f'{img.size:12_} bytes | {img.name}')\n",
    "    return img"
   ]
  },
  {
   "cell_type": "code",
   "execution_count": 3,
   "id": "3b054372-b50d-484a-a95f-2d02129021be",
   "metadata": {},
   "outputs": [],
   "source": [
    "#img_rec = fetch(get_sample_url(1_000_000))\n",
    "#Image(value=img_rec.pixels)"
   ]
  },
  {
   "cell_type": "code",
   "execution_count": 4,
   "id": "3f935c85-64fe-45b2-8af9-b23cdb4d2158",
   "metadata": {},
   "outputs": [
    {
     "name": "stdout",
     "output_type": "stream",
     "text": [
      "   1_002_230 bytes | Squash_bug_Coreidae_hz.jpg\n",
      "   1_006_040 bytes | Elmer_Chickering_-_John_Philip_Sousa.jpg\n",
      "     968_342 bytes | Anolemeal6127.jpg\n",
      "   1_007_852 bytes | Chrysopilus_Snipe_fly.jpg\n",
      "     970_664 bytes | Ants_eating_cicada%2C_jjron_22.11.2009.jpg\n",
      "   4_458_998 bytes | Mycteria_leucocephala_-_Pak_Thale.jpg\n",
      "     983_318 bytes | Hippo_skull_dark.jpg\n",
      "   1_007_715 bytes | White-headed_dwarf_gecko.jpg\n",
      "     986_062 bytes | Perga_sp._AF_2_edit1.jpg\n",
      "   1_012_241 bytes | Vanellus_miles_novaehollandiae.jpg\n",
      "TOTAL BYTES: 13_403_462\n",
      "CPU times: user 692 ms, sys: 218 ms, total: 909 ms\n",
      "Wall time: 15.1 s\n"
     ]
    },
    {
     "data": {
      "application/vnd.jupyter.widget-view+json": {
       "model_id": "d4b0e7ae7d9049e29de6ca0476cf5e7b",
       "version_major": 2,
       "version_minor": 0
      },
      "text/plain": [
       "HBox(children=(Image(value=b'\\xff\\xd8\\xff\\xe0\\x00\\x10JFIF\\x00\\x01\\x02\\x01\\x00H\\x00H\\x00\\x00\\xff\\xe1\\x0e[Exif\\x…"
      ]
     },
     "execution_count": 4,
     "metadata": {},
     "output_type": "execute_result"
    }
   ],
   "source": [
    "%%time\n",
    "img_widgets = []\n",
    "qty = 10\n",
    "scale = f'{100//qty}%'\n",
    "urls = get_sample_urls(1_000_000, qty)\n",
    "total_bytes = 0\n",
    "for url in urls:\n",
    "    img_rec = fetch(url)\n",
    "    total_bytes += img_rec.size\n",
    "    img_widgets.append(Image(value=img_rec.pixels, layout=Layout(width=scale, height=scale)))\n",
    "\n",
    "print(f'TOTAL BYTES: {total_bytes:_}')\n",
    "HBox(img_widgets)"
   ]
  },
  {
   "cell_type": "code",
   "execution_count": 5,
   "id": "6799b3f5-e23d-40eb-a657-4668bd1316c5",
   "metadata": {},
   "outputs": [],
   "source": [
    "class Gallery:\n",
    "    def __init__(self, num_images):\n",
    "        scale = f'{100//num_images}%'\n",
    "        self.img_layout = Layout(width=scale, height=scale)\n",
    "        no_img = open('no-image.png', 'rb').read()\n",
    "        self.img_widgets = [Image(value=no_img, layout=self.img_layout)] * num_images\n",
    "        self.box = HBox(self.img_widgets)\n",
    "        self.size = 0\n",
    "\n",
    "    def display(self):\n",
    "        display(self.box)\n",
    "\n",
    "    def update(self, index, pixels):\n",
    "        self.size += len(pixels)\n",
    "        self.img_widgets[index] = Image(value=pixels, layout=self.img_layout)\n",
    "        self.box.children = self.img_widgets"
   ]
  },
  {
   "cell_type": "code",
   "execution_count": 6,
   "id": "7c40632c-0239-48b0-8c01-eff3b0f6a4d1",
   "metadata": {},
   "outputs": [
    {
     "data": {
      "application/vnd.jupyter.widget-view+json": {
       "model_id": "93d6ebccc10847d3b42b1b994c54986e",
       "version_major": 2,
       "version_minor": 0
      },
      "text/plain": [
       "HBox(children=(Image(value=b'\\x89PNG\\r\\n\\x1a\\n\\x00\\x00\\x00\\rIHDR\\x00\\x00\\x00\\xeb\\x00\\x00\\x00\\xb7\\x08\\x00\\x00\\x…"
      ]
     },
     "metadata": {},
     "output_type": "display_data"
    },
    {
     "name": "stdout",
     "output_type": "stream",
     "text": [
      "   1_000_424 bytes | Mesa-Verde---Cliff-Palace-in_1891_-_edit1.jpg\n",
      "     992_514 bytes | June_odd-eyed-cat.jpg\n",
      "   1_006_040 bytes | Elmer_Chickering_-_John_Philip_Sousa.jpg\n",
      "     974_570 bytes | Los_Angeles_Pollution.jpg\n",
      "     984_345 bytes | Queenmaryformalportrait_edit3.jpg\n",
      "     989_420 bytes | STS-132_combined_launch_photos.jpg\n",
      "   1_008_570 bytes | Blue-Mountains-Tree-Frog444.jpg\n",
      "     983_492 bytes | Sphegina_montana_Syrphidae.jpg\n",
      "     979_323 bytes | AgamaSinaita01_ST_10_edit.jpg\n",
      "   1_012_241 bytes | Vanellus_miles_novaehollandiae.jpg\n",
      "TOTAL BYTES: 9_930_939\n",
      "CPU times: user 662 ms, sys: 190 ms, total: 852 ms\n",
      "Wall time: 14.7 s\n"
     ]
    }
   ],
   "source": [
    "%%time\n",
    "num_images = 10\n",
    "gallery = Gallery(num_images)\n",
    "gallery.display()\n",
    "\n",
    "urls = get_sample_urls(1_000_000, num_images)\n",
    "\n",
    "for i, url in enumerate(urls):\n",
    "    img_rec = fetch(url)\n",
    "    total_bytes += img_rec.size\n",
    "    gallery.update(i, img_rec.pixels)\n",
    "\n",
    "print(f'TOTAL BYTES: {gallery.size:_}')"
   ]
  },
  {
   "cell_type": "code",
   "execution_count": 7,
   "id": "e7b1c72e-75eb-47ca-bbe1-51a39c16eada",
   "metadata": {},
   "outputs": [
    {
     "data": {
      "application/vnd.jupyter.widget-view+json": {
       "model_id": "b07ef20a146d416abdd9a1a3381a2213",
       "version_major": 2,
       "version_minor": 0
      },
      "text/plain": [
       "HBox(children=(Image(value=b'\\x89PNG\\r\\n\\x1a\\n\\x00\\x00\\x00\\rIHDR\\x00\\x00\\x00\\xeb\\x00\\x00\\x00\\xb7\\x08\\x00\\x00\\x…"
      ]
     },
     "metadata": {},
     "output_type": "display_data"
    },
    {
     "name": "stdout",
     "output_type": "stream",
     "text": [
      "   5_069_241 bytes | Sultan_Mehmed_IV_%282%29.jpg\n",
      "   4_916_334 bytes | Sir_Joseph_Noel_Paton_-_The_Quarrel_of_Oberon_and_Titania_-_Google_Art_Project_2.jpg\n",
      "   4_943_441 bytes | Lee_Bollinger_-_Daniella_Zalcman_less_noise.jpg\n",
      "   5_074_252 bytes | Chromium_crystals_and_1cm3_cube.jpg\n",
      "   4_926_858 bytes | Idi_Amin_caricature2.jpg\n",
      "   5_034_423 bytes | Black-headed_Heron_%28Ardea_melanocephala%29.jpg\n",
      "   4_955_510 bytes | Haeckel_Stephoidea_edit.jpg\n",
      "   5_037_810 bytes | GSskater.jpg\n",
      "   5_084_186 bytes | Klara_kyrka_february_2013_01.jpg\n",
      "   4_987_730 bytes | Cigarette_smuggling_with_a_book.JPG\n",
      "TOTAL BYTES: 50_029_785\n",
      "CPU times: user 9.49 s, sys: 390 ms, total: 9.88 s\n",
      "Wall time: 3.27 s\n"
     ]
    }
   ],
   "source": [
    "%%time\n",
    "from concurrent import futures\n",
    "\n",
    "num_images = 10\n",
    "gallery = Gallery(num_images)\n",
    "gallery.display()\n",
    "\n",
    "urls = get_sample_urls(5_000_000, num_images)\n",
    "with futures.ThreadPoolExecutor() as pool:\n",
    "    img_records = pool.map(fetch, urls)\n",
    "    for i, img_rec in enumerate(img_records):\n",
    "        gallery.update(i, img_rec.pixels)\n",
    "\n",
    "print(f'TOTAL BYTES: {gallery.size:_}')"
   ]
  },
  {
   "cell_type": "code",
   "execution_count": 8,
   "id": "539a5b55-929b-4c69-90c5-3847f1cb7efb",
   "metadata": {},
   "outputs": [
    {
     "data": {
      "application/vnd.jupyter.widget-view+json": {
       "model_id": "0a07a4cac14d467da630b30082ce34a0",
       "version_major": 2,
       "version_minor": 0
      },
      "text/plain": [
       "HBox(children=(Image(value=b'\\x89PNG\\r\\n\\x1a\\n\\x00\\x00\\x00\\rIHDR\\x00\\x00\\x00\\xeb\\x00\\x00\\x00\\xb7\\x08\\x00\\x00\\x…"
      ]
     },
     "metadata": {},
     "output_type": "display_data"
    },
    {
     "name": "stdout",
     "output_type": "stream",
     "text": [
      "   1_008_846 bytes | Zebra_portrait.jpg\n",
      "     983_492 bytes | Sphegina_montana_Syrphidae.jpg\n",
      "     993_296 bytes | Soybean_cyst_nematode_and_egg_SEM.jpg\n",
      "   1_007_715 bytes | White-headed_dwarf_gecko.jpg\n",
      "   1_005_122 bytes | PikiWiki_Israel_13773_AIDA_AT_MASADA_2011.jpg\n",
      "   1_000_617 bytes | Illustration_Punica_granatum2.jpg\n",
      "   1_002_230 bytes | Squash_bug_Coreidae_hz.jpg\n",
      "     968_342 bytes | Anolemeal6127.jpg\n",
      "     977_947 bytes | Carambola_Starfruit.jpg\n",
      "   1_007_836 bytes | Ardea_picata.jpg\n",
      "TOTAL BYTES: 9_955_443\n",
      "CPU times: user 7.38 s, sys: 167 ms, total: 7.55 s\n",
      "Wall time: 2.26 s\n"
     ]
    }
   ],
   "source": [
    "%%time\n",
    "from IPython.display import display\n",
    "from concurrent import futures\n",
    "\n",
    "num_images = 10\n",
    "gallery = Gallery(num_images)\n",
    "gallery.display()\n",
    "urls = get_sample_urls(1_000_000, num_images)\n",
    "\n",
    "with futures.ThreadPoolExecutor() as pool:\n",
    "    tasks = [pool.submit(fetch, url) for url in urls]\n",
    "    for i, future in enumerate(futures.as_completed(tasks)):\n",
    "        img_rec = future.result()\n",
    "        gallery.update(i, img_rec.pixels)\n",
    "        \n",
    "print(f'TOTAL BYTES: {gallery.size:_}')"
   ]
  },
  {
   "cell_type": "code",
   "execution_count": null,
   "id": "af3d0bd8-adfa-4235-aee4-030d859ef4a6",
   "metadata": {},
   "outputs": [],
   "source": []
  }
 ],
 "metadata": {
  "kernelspec": {
   "display_name": "Python 3 (ipykernel)",
   "language": "python",
   "name": "python3"
  },
  "language_info": {
   "codemirror_mode": {
    "name": "ipython",
    "version": 3
   },
   "file_extension": ".py",
   "mimetype": "text/x-python",
   "name": "python",
   "nbconvert_exporter": "python",
   "pygments_lexer": "ipython3",
   "version": "3.12.2"
  }
 },
 "nbformat": 4,
 "nbformat_minor": 5
}
