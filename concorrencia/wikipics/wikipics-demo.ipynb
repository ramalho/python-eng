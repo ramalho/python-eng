{
 "cells": [
  {
   "cell_type": "markdown",
   "id": "8a9dc8cc-f490-4d13-9a4f-e8ae0ec9125f",
   "metadata": {},
   "source": [
    "# Wikipics demo"
   ]
  },
  {
   "cell_type": "code",
   "execution_count": 1,
   "id": "2039cf8d-2612-40d9-ac4d-13f281e273ec",
   "metadata": {},
   "outputs": [],
   "source": [
    "from pathlib import Path\n",
    "from typing import NamedTuple\n",
    "from ipywidgets.widgets import Image, Layout, HBox\n",
    "\n",
    "import httpx\n",
    "\n",
    "from wikipics import get_sample_url, get_sample_urls\n",
    "\n",
    "class ImageRecord(NamedTuple):\n",
    "    pixels: bytes\n",
    "    name: str\n",
    "    size: int"
   ]
  },
  {
   "cell_type": "code",
   "execution_count": 2,
   "id": "edf23542-1f6f-493a-8bab-a115c1d6d2c5",
   "metadata": {},
   "outputs": [],
   "source": [
    "def fetch(url) -> ImageRecord:\n",
    "    resp = httpx.get(url)\n",
    "    resp.raise_for_status()\n",
    "    name = Path(url).name\n",
    "    return ImageRecord(resp.content, name, len(resp.content))"
   ]
  },
  {
   "cell_type": "code",
   "execution_count": 3,
   "id": "3b054372-b50d-484a-a95f-2d02129021be",
   "metadata": {},
   "outputs": [],
   "source": [
    "#img_rec = fetch(get_sample_url(1_000_000))\n",
    "#Image(value=img_rec.pixels)"
   ]
  },
  {
   "cell_type": "code",
   "execution_count": 4,
   "id": "3f935c85-64fe-45b2-8af9-b23cdb4d2158",
   "metadata": {},
   "outputs": [
    {
     "name": "stdout",
     "output_type": "stream",
     "text": [
      "   1_969_876 bytes | Yogapith%2C_Mayapur.jpg\n",
      "   1_992_966 bytes | Aeshna_cyanea_freshly_slipped_with_time.jpg\n",
      "   2_010_689 bytes | Morocco_Africa_Flickr_Rosino_December_2005_84514010.jpg\n",
      "   2_024_436 bytes | Fritillaria_meleagris_LJ_barje2.jpg\n",
      "   2_006_701 bytes | Dhow_znz.jpg\n",
      "   2_015_977 bytes | Litoria_infrafrenata_-_Julatten.jpg\n",
      "   1_974_272 bytes | Panorpa_alpina_2_Luc_Viatour.jpg\n",
      "   2_020_431 bytes | Kaiseradler_Aquila_heliaca_2_amk.jpg\n",
      "   2_028_394 bytes | Busterkeaton.jpg\n",
      "   2_007_922 bytes | AporiaCrataegi.jpg\n",
      "TOTAL BYTES: 20_051_664\n",
      "CPU times: user 742 ms, sys: 278 ms, total: 1.02 s\n",
      "Wall time: 16.3 s\n"
     ]
    },
    {
     "data": {
      "application/vnd.jupyter.widget-view+json": {
       "model_id": "51a3fa09731c4b36a5b9c2b57bf62c4b",
       "version_major": 2,
       "version_minor": 0
      },
      "text/plain": [
       "HBox(children=(Image(value=b'\\xff\\xd8\\xff\\xe1\\x18hExif\\x00\\x00MM\\x00*\\x00\\x00\\x00\\x08\\x00\\x0c\\x01\\x00\\x00\\x03\\…"
      ]
     },
     "execution_count": 4,
     "metadata": {},
     "output_type": "execute_result"
    }
   ],
   "source": [
    "%%time\n",
    "img_widgets = []\n",
    "qty = 10\n",
    "scale = f'{100//qty}%'\n",
    "urls = get_sample_urls(2_000_000, qty)\n",
    "total_bytes = 0\n",
    "for url in urls:\n",
    "    img_rec = fetch(url)\n",
    "    print(f'{img_rec.size:12_} bytes | {img_rec.name}')\n",
    "    total_bytes += img_rec.size\n",
    "    img_widgets.append(Image(value=img_rec.pixels, layout=Layout(width=scale, height=scale)))\n",
    "\n",
    "print(f'TOTAL BYTES: {total_bytes:_}')\n",
    "HBox(img_widgets)"
   ]
  },
  {
   "cell_type": "code",
   "execution_count": 5,
   "id": "6799b3f5-e23d-40eb-a657-4668bd1316c5",
   "metadata": {},
   "outputs": [],
   "source": [
    "class Gallery:\n",
    "    def __init__(self, num_images):\n",
    "        scale = f'{100//num_images}%'\n",
    "        self.img_layout = Layout(width=scale, height=scale)\n",
    "        no_img = open('no-image.png', 'rb').read()\n",
    "        self.img_widgets = [Image(value=no_img, layout=self.img_layout)] * num_images\n",
    "        self.box = HBox(self.img_widgets)\n",
    "        self.size = 0\n",
    "\n",
    "    def display(self):\n",
    "        display(self.box)\n",
    "\n",
    "    def update(self, index, pixels):\n",
    "        self.size += len(pixels)\n",
    "        self.img_widgets[index] = Image(value=pixels, alt=f'({index})', layout=self.img_layout)\n",
    "        self.box.children = self.img_widgets\n",
    "        print(f'({index+1:2}){img_rec.size:12_} bytes | {img_rec.name}')\n"
   ]
  },
  {
   "cell_type": "code",
   "execution_count": 6,
   "id": "7c40632c-0239-48b0-8c01-eff3b0f6a4d1",
   "metadata": {},
   "outputs": [
    {
     "data": {
      "application/vnd.jupyter.widget-view+json": {
       "model_id": "06cff7a11e9f4111bec2e1ad61d888de",
       "version_major": 2,
       "version_minor": 0
      },
      "text/plain": [
       "HBox(children=(Image(value=b'\\x89PNG\\r\\n\\x1a\\n\\x00\\x00\\x00\\rIHDR\\x00\\x00\\x00\\xeb\\x00\\x00\\x00\\xb7\\x08\\x00\\x00\\x…"
      ]
     },
     "metadata": {},
     "output_type": "display_data"
    },
    {
     "name": "stdout",
     "output_type": "stream",
     "text": [
      "( 1)   2_017_212 bytes | Mantoux_tuberculin_skin_test.jpg\n",
      "( 2)   2_004_607 bytes | Porphyrio_indicus_viridis_-_Bueng_Boraphet%2C_Thailand.jpg\n",
      "( 3)   2_028_394 bytes | Busterkeaton.jpg\n",
      "( 4)   1_992_966 bytes | Aeshna_cyanea_freshly_slipped_with_time.jpg\n",
      "( 5)   1_972_894 bytes | Barack_Obama_family_portrait_2011.jpg\n",
      "( 6)   2_024_436 bytes | Fritillaria_meleagris_LJ_barje2.jpg\n",
      "( 7)   1_974_272 bytes | Panorpa_alpina_2_Luc_Viatour.jpg\n",
      "( 8)   1_994_699 bytes | BennyTrapp_Hyla_intermedia_Italien.jpg\n",
      "( 9)   2_005_363 bytes | Marmot-edit1.jpg\n",
      "(10)   2_010_325 bytes | Rana_esculenta_on_Nymphaea_edit.JPG\n",
      "TOTAL BYTES: 20_025_168\n",
      "CPU times: user 781 ms, sys: 285 ms, total: 1.07 s\n",
      "Wall time: 16.6 s\n"
     ]
    }
   ],
   "source": [
    "%%time\n",
    "num_images = 10\n",
    "gallery = Gallery(num_images)\n",
    "gallery.display()\n",
    "\n",
    "urls = get_sample_urls(2_000_000, num_images)\n",
    "\n",
    "for i, url in enumerate(urls):\n",
    "    img_rec = fetch(url)\n",
    "    total_bytes += img_rec.size\n",
    "    gallery.update(i, img_rec.pixels)\n",
    "\n",
    "print(f'TOTAL BYTES: {gallery.size:_}')"
   ]
  },
  {
   "cell_type": "code",
   "execution_count": 7,
   "id": "e7b1c72e-75eb-47ca-bbe1-51a39c16eada",
   "metadata": {},
   "outputs": [
    {
     "data": {
      "application/vnd.jupyter.widget-view+json": {
       "model_id": "52e42dc0932e499dbac789128e4f280a",
       "version_major": 2,
       "version_minor": 0
      },
      "text/plain": [
       "HBox(children=(Image(value=b'\\x89PNG\\r\\n\\x1a\\n\\x00\\x00\\x00\\rIHDR\\x00\\x00\\x00\\xeb\\x00\\x00\\x00\\xb7\\x08\\x00\\x00\\x…"
      ]
     },
     "metadata": {},
     "output_type": "display_data"
    },
    {
     "name": "stdout",
     "output_type": "stream",
     "text": [
      "( 1)   2_019_740 bytes | Bald.eagle.closeup.arp-sh.750pix.jpg\n",
      "( 2)   2_020_431 bytes | Kaiseradler_Aquila_heliaca_2_amk.jpg\n",
      "( 3)   1_977_558 bytes | Frederic_Edwin_Church_-_Aurora_Borealis_-_Google_Art_Project.jpg\n",
      "( 4)   1_974_272 bytes | Panorpa_alpina_2_Luc_Viatour.jpg\n",
      "( 5)   1_992_966 bytes | Aeshna_cyanea_freshly_slipped_with_time.jpg\n",
      "( 6)   1_980_243 bytes | 17_Years_of_Sekar_Jepun_2014-11-01_48.jpg\n",
      "( 7)   1_976_553 bytes | Photographing_a_model.jpg\n",
      "( 8)   1_969_876 bytes | Yogapith%2C_Mayapur.jpg\n",
      "( 9)   2_010_689 bytes | Morocco_Africa_Flickr_Rosino_December_2005_84514010.jpg\n",
      "(10)   1_977_894 bytes | Greyhound_Racing_2_amk.jpg\n",
      "TOTAL BYTES: 19_900_222\n",
      "CPU times: user 11 s, sys: 277 ms, total: 11.2 s\n",
      "Wall time: 2.85 s\n"
     ]
    }
   ],
   "source": [
    "%%time\n",
    "from concurrent import futures\n",
    "\n",
    "num_images = 10\n",
    "gallery = Gallery(num_images)\n",
    "gallery.display()\n",
    "\n",
    "urls = get_sample_urls(2_000_000, num_images)\n",
    "with futures.ThreadPoolExecutor() as pool:\n",
    "    img_records = pool.map(fetch, urls)\n",
    "    for i, img_rec in enumerate(img_records):\n",
    "        gallery.update(i, img_rec.pixels)\n",
    "\n",
    "print(f'TOTAL BYTES: {gallery.size:_}')"
   ]
  },
  {
   "cell_type": "code",
   "execution_count": 8,
   "id": "539a5b55-929b-4c69-90c5-3847f1cb7efb",
   "metadata": {},
   "outputs": [
    {
     "data": {
      "application/vnd.jupyter.widget-view+json": {
       "model_id": "d1fea8f65dbf461593955cecab40761f",
       "version_major": 2,
       "version_minor": 0
      },
      "text/plain": [
       "HBox(children=(Image(value=b'\\x89PNG\\r\\n\\x1a\\n\\x00\\x00\\x00\\rIHDR\\x00\\x00\\x00\\xeb\\x00\\x00\\x00\\xb7\\x08\\x00\\x00\\x…"
      ]
     },
     "metadata": {},
     "output_type": "display_data"
    },
    {
     "name": "stdout",
     "output_type": "stream",
     "text": [
      "( 1)   1_975_417 bytes | Dolceacqua43_-_Artista_locale_mentre_dipinge_un_acquarello.jpg\n",
      "( 2)   2_020_431 bytes | Kaiseradler_Aquila_heliaca_2_amk.jpg\n",
      "( 3)   2_004_178 bytes | Thiodina_puerpera_female_02.jpg\n",
      "( 4)   2_006_701 bytes | Dhow_znz.jpg\n",
      "( 5)   1_994_699 bytes | BennyTrapp_Hyla_intermedia_Italien.jpg\n",
      "( 6)   2_004_828 bytes | USA_10096-7-8_HDR_Antelope_Canyon_Luca_Galuzzi_2007.jpg\n",
      "( 7)   1_984_907 bytes | Glasshouse_and_fountain_at_lalbagh.jpg\n",
      "( 8)   1_972_509 bytes | Papilio_demoleus_ALT_by_kadavoor.jpg\n",
      "( 9)   2_004_607 bytes | Porphyrio_indicus_viridis_-_Bueng_Boraphet%2C_Thailand.jpg\n",
      "(10)   2_018_402 bytes | Palais_Garnier%27s_grand_salon%2C_12_February_2008.jpg\n",
      "TOTAL BYTES: 19_986_679\n",
      "CPU times: user 7.91 s, sys: 266 ms, total: 8.18 s\n",
      "Wall time: 2.49 s\n"
     ]
    }
   ],
   "source": [
    "%%time\n",
    "from IPython.display import display\n",
    "from concurrent import futures\n",
    "\n",
    "num_images = 10\n",
    "gallery = Gallery(num_images)\n",
    "gallery.display()\n",
    "urls = get_sample_urls(2_000_000, num_images)\n",
    "\n",
    "with futures.ThreadPoolExecutor() as pool:\n",
    "    tasks = [pool.submit(fetch, url) for url in urls]\n",
    "    for i, future in enumerate(futures.as_completed(tasks)):\n",
    "        img_rec = future.result()\n",
    "        gallery.update(i, img_rec.pixels)\n",
    "        \n",
    "print(f'TOTAL BYTES: {gallery.size:_}')"
   ]
  },
  {
   "cell_type": "code",
   "execution_count": null,
   "id": "af3d0bd8-adfa-4235-aee4-030d859ef4a6",
   "metadata": {},
   "outputs": [],
   "source": []
  }
 ],
 "metadata": {
  "kernelspec": {
   "display_name": "Python 3 (ipykernel)",
   "language": "python",
   "name": "python3"
  },
  "language_info": {
   "codemirror_mode": {
    "name": "ipython",
    "version": 3
   },
   "file_extension": ".py",
   "mimetype": "text/x-python",
   "name": "python",
   "nbconvert_exporter": "python",
   "pygments_lexer": "ipython3",
   "version": "3.12.2"
  }
 },
 "nbformat": 4,
 "nbformat_minor": 5
}
