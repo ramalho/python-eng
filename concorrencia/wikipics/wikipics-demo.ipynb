{
 "cells": [
  {
   "cell_type": "markdown",
   "id": "8a9dc8cc-f490-4d13-9a4f-e8ae0ec9125f",
   "metadata": {},
   "source": [
    "# Wikipics demo"
   ]
  },
  {
   "cell_type": "code",
   "execution_count": 1,
   "id": "2039cf8d-2612-40d9-ac4d-13f281e273ec",
   "metadata": {},
   "outputs": [],
   "source": [
    "from pathlib import Path\n",
    "from typing import NamedTuple\n",
    "from IPython.display import display\n",
    "from ipywidgets.widgets import Image, Layout\n",
    "\n",
    "import httpx\n",
    "\n",
    "from wikipics import get_sample_url, get_sample_urls\n",
    "\n",
    "class ImageRecord(NamedTuple):\n",
    "    pixels: bytes\n",
    "    name: str\n",
    "    size: int"
   ]
  },
  {
   "cell_type": "code",
   "execution_count": 2,
   "id": "edf23542-1f6f-493a-8bab-a115c1d6d2c5",
   "metadata": {},
   "outputs": [],
   "source": [
    "def fetch(url) -> ImageRecord:\n",
    "    resp = httpx.get(url)\n",
    "    resp.raise_for_status()\n",
    "    name = Path(url).name\n",
    "    return ImageRecord(resp.content, name, len(resp.content))"
   ]
  },
  {
   "cell_type": "code",
   "execution_count": 3,
   "id": "3b054372-b50d-484a-a95f-2d02129021be",
   "metadata": {},
   "outputs": [
    {
     "name": "stdout",
     "output_type": "stream",
     "text": [
      "   1_024_408 bytes | Joseph_Wright_of_Derby_-_Dovedale_by_Moonlight_-_Google_Art_Project.jpg\n"
     ]
    },
    {
     "data": {
      "application/vnd.jupyter.widget-view+json": {
       "model_id": "367b296eb5204e0a9d36687e02d54fe1",
       "version_major": 2,
       "version_minor": 0
      },
      "text/plain": [
       "Image(value=b'\\xff\\xd8\\xff\\xe0\\x00\\x10JFIF\\x00\\x01\\x01\\x02\\x00&\\x00&\\x00\\x00\\xff\\xdb\\x00C\\x00\\x02\\x01\\x01\\x01\\…"
      ]
     },
     "execution_count": 3,
     "metadata": {},
     "output_type": "execute_result"
    }
   ],
   "source": [
    "url = get_sample_url(1_000_000)\n",
    "img_rec = fetch(url)\n",
    "print(f'{img_rec.size:12_} bytes | {img_rec.name}')\n",
    "Image(value=img_rec.pixels)"
   ]
  },
  {
   "cell_type": "code",
   "execution_count": null,
   "id": "3f935c85-64fe-45b2-8af9-b23cdb4d2158",
   "metadata": {},
   "outputs": [
    {
     "data": {
      "application/vnd.jupyter.widget-view+json": {
       "model_id": "2782ff5c685646f5aec5e2714438b2df",
       "version_major": 2,
       "version_minor": 0
      },
      "text/plain": [
       "Image(value=b'\\xff\\xd8\\xff\\xe0\\x00\\x10JFIF\\x00\\x01\\x01\\x02\\x00&\\x00&\\x00\\x00\\xff\\xdb\\x00C\\x00\\x02\\x01\\x01\\x01\\…"
      ]
     },
     "metadata": {},
     "output_type": "display_data"
    },
    {
     "name": "stdout",
     "output_type": "stream",
     "text": [
      "   2_019_580 bytes | Edvard_Munch_-_The_Kiss_-_Google_Art_Project.jpg\n"
     ]
    },
    {
     "data": {
      "application/vnd.jupyter.widget-view+json": {
       "model_id": "cf3c5808c366449a8a3ce8f5088d7966",
       "version_major": 2,
       "version_minor": 0
      },
      "text/plain": [
       "Image(value=b'\\xff\\xd8\\xff\\xe1%\\xfeExif\\x00\\x00II*\\x00\\x08\\x00\\x00\\x00\\t\\x00\\x0f\\x01\\x02\\x00\\x06\\x00\\x00\\x00z\\…"
      ]
     },
     "metadata": {},
     "output_type": "display_data"
    },
    {
     "name": "stdout",
     "output_type": "stream",
     "text": [
      "   1_975_417 bytes | Dolceacqua43_-_Artista_locale_mentre_dipinge_un_acquarello.jpg\n"
     ]
    },
    {
     "data": {
      "application/vnd.jupyter.widget-view+json": {
       "model_id": "dda78ca1bf164ac1ba26d18361d4171f",
       "version_major": 2,
       "version_minor": 0
      },
      "text/plain": [
       "Image(value=b'\\xff\\xd8\\xff\\xe1d*Exif\\x00\\x00MM\\x00*\\x00\\x002\\xf2\\x00\\x1c\\x82\\x9a\\x00\\x05\\x00\\x00\\x00\\x01\\x00\\x…"
      ]
     },
     "metadata": {},
     "output_type": "display_data"
    },
    {
     "name": "stdout",
     "output_type": "stream",
     "text": [
      "   1_974_272 bytes | Panorpa_alpina_2_Luc_Viatour.jpg\n"
     ]
    },
    {
     "data": {
      "application/vnd.jupyter.widget-view+json": {
       "model_id": "5e8ac15c97bb4d568c6005dbfb87a3f3",
       "version_major": 2,
       "version_minor": 0
      },
      "text/plain": [
       "Image(value=b'\\xff\\xd8\\xff\\xe0\\x00\\x10JFIF\\x00\\x01\\x02\\x01\\x00H\\x00H\\x00\\x00\\xff\\xe1\\x0e\\x96Exif\\x00\\x00MM\\x00…"
      ]
     },
     "metadata": {},
     "output_type": "display_data"
    },
    {
     "name": "stdout",
     "output_type": "stream",
     "text": [
      "   1_977_894 bytes | Greyhound_Racing_2_amk.jpg\n"
     ]
    },
    {
     "data": {
      "application/vnd.jupyter.widget-view+json": {
       "model_id": "7292d878ae694a56bd87617b19ad8118",
       "version_major": 2,
       "version_minor": 0
      },
      "text/plain": [
       "Image(value=b'\\xff\\xd8\\xff\\xe0\\x00\\x10JFIF\\x00\\x01\\x01\\x01\\x03\\xe8\\x03#\\x00\\x00\\xff\\xdb\\x00C\\x00\\x03\\x02\\x02\\x…"
      ]
     },
     "metadata": {},
     "output_type": "display_data"
    },
    {
     "name": "stdout",
     "output_type": "stream",
     "text": [
      "   2_028_394 bytes | Busterkeaton.jpg\n"
     ]
    },
    {
     "data": {
      "application/vnd.jupyter.widget-view+json": {
       "model_id": "80eeecbe0de34b92b7f27010ed241dc3",
       "version_major": 2,
       "version_minor": 0
      },
      "text/plain": [
       "Image(value=b'\\xff\\xd8\\xff\\xe1\\x18hExif\\x00\\x00MM\\x00*\\x00\\x00\\x00\\x08\\x00\\x0c\\x01\\x00\\x00\\x03\\x00\\x00\\x00\\x01…"
      ]
     },
     "metadata": {},
     "output_type": "display_data"
    },
    {
     "name": "stdout",
     "output_type": "stream",
     "text": [
      "   1_969_876 bytes | Yogapith%2C_Mayapur.jpg\n"
     ]
    },
    {
     "data": {
      "application/vnd.jupyter.widget-view+json": {
       "model_id": "897c8cee2a084903bc1b19b2e09254b0",
       "version_major": 2,
       "version_minor": 0
      },
      "text/plain": [
       "Image(value=b'\\xff\\xd8\\xff\\xe0\\x00\\x10JFIF\\x00\\x01\\x02\\x01\\x00\\xf0\\x00\\xf0\\x00\\x00\\xff\\xe1\\x1e=Exif\\x00\\x00II*…"
      ]
     },
     "metadata": {},
     "output_type": "display_data"
    },
    {
     "name": "stdout",
     "output_type": "stream",
     "text": [
      "   1_974_653 bytes | Phascolarctos_cinereus_Bonorong.jpg\n"
     ]
    },
    {
     "data": {
      "application/vnd.jupyter.widget-view+json": {
       "model_id": "f9296683460d4f06b4a6d1b5fb18c08d",
       "version_major": 2,
       "version_minor": 0
      },
      "text/plain": [
       "Image(value=b'\\xff\\xd8\\xff\\xe0\\x00\\x10JFIF\\x00\\x01\\x02\\x01\\x00\\x96\\x00\\x96\\x00\\x00\\xff\\xe1DvExif\\x00\\x00MM\\x00…"
      ]
     },
     "metadata": {},
     "output_type": "display_data"
    },
    {
     "name": "stdout",
     "output_type": "stream",
     "text": [
      "   1_976_293 bytes | United_States_Declaration_of_Independence.jpg\n"
     ]
    }
   ],
   "source": [
    "%%time\n",
    "img_widgets = []\n",
    "qty = 10\n",
    "urls = get_sample_urls(2_000_000, qty)\n",
    "total_bytes = 0\n",
    "for url in urls:\n",
    "    img_rec = fetch(url)\n",
    "    total_bytes += img_rec.size\n",
    "    display(Image(value=img_rec.pixels, layout=Layout(width='20%')))\n",
    "    print(f'{img_rec.size:12_} bytes | {img_rec.name}')\n",
    "\n",
    "print(f'TOTAL BYTES: {total_bytes:_}')"
   ]
  },
  {
   "cell_type": "code",
   "execution_count": null,
   "id": "6799b3f5-e23d-40eb-a657-4668bd1316c5",
   "metadata": {},
   "outputs": [],
   "source": [
    "from gallery import Gallery"
   ]
  },
  {
   "cell_type": "code",
   "execution_count": null,
   "id": "7c40632c-0239-48b0-8c01-eff3b0f6a4d1",
   "metadata": {},
   "outputs": [],
   "source": [
    "%%time\n",
    "num_images = 10\n",
    "gallery = Gallery(num_images)\n",
    "gallery.display()\n",
    "\n",
    "urls = get_sample_urls(2_000_000, num_images)\n",
    "\n",
    "for i, url in enumerate(urls):\n",
    "    img_rec = fetch(url)\n",
    "    total_bytes += img_rec.size\n",
    "    gallery.update(i, img_rec.pixels, url)\n",
    "\n",
    "print(f'TOTAL BYTES: {gallery.size:_}')"
   ]
  },
  {
   "cell_type": "code",
   "execution_count": null,
   "id": "e7b1c72e-75eb-47ca-bbe1-51a39c16eada",
   "metadata": {},
   "outputs": [],
   "source": [
    "%%time\n",
    "from concurrent import futures\n",
    "\n",
    "num_images = 20\n",
    "gallery = Gallery(num_images)\n",
    "gallery.display()\n",
    "\n",
    "urls = get_sample_urls(2_000_000, num_images)\n",
    "with futures.ThreadPoolExecutor() as pool:\n",
    "    img_records = pool.map(fetch, urls)\n",
    "    for i, img_rec in enumerate(img_records):\n",
    "        gallery.update(i, img_rec.pixels, img_rec.name)\n",
    "\n",
    "print(f'TOTAL BYTES: {gallery.size:_}')"
   ]
  },
  {
   "cell_type": "code",
   "execution_count": null,
   "id": "539a5b55-929b-4c69-90c5-3847f1cb7efb",
   "metadata": {},
   "outputs": [],
   "source": [
    "%%time\n",
    "from concurrent import futures\n",
    "\n",
    "num_images = 20\n",
    "gallery = Gallery(num_images)\n",
    "gallery.display()\n",
    "urls = get_sample_urls(2_000_000, num_images)\n",
    "\n",
    "with futures.ThreadPoolExecutor() as pool:\n",
    "    tasks = [pool.submit(fetch, url) for url in urls]\n",
    "    for i, future in enumerate(futures.as_completed(tasks)):\n",
    "        img_rec = future.result()\n",
    "        gallery.update(i, img_rec.pixels, img_rec.name)\n",
    "        \n",
    "print(f'TOTAL BYTES: {gallery.size:_}')"
   ]
  },
  {
   "cell_type": "code",
   "execution_count": null,
   "id": "af3d0bd8-adfa-4235-aee4-030d859ef4a6",
   "metadata": {},
   "outputs": [],
   "source": []
  }
 ],
 "metadata": {
  "kernelspec": {
   "display_name": "Python 3 (ipykernel)",
   "language": "python",
   "name": "python3"
  },
  "language_info": {
   "codemirror_mode": {
    "name": "ipython",
    "version": 3
   },
   "file_extension": ".py",
   "mimetype": "text/x-python",
   "name": "python",
   "nbconvert_exporter": "python",
   "pygments_lexer": "ipython3",
   "version": "3.12.2"
  }
 },
 "nbformat": 4,
 "nbformat_minor": 5
}
