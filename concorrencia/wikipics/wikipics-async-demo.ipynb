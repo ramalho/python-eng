{
 "cells": [
  {
   "cell_type": "markdown",
   "id": "8a9dc8cc-f490-4d13-9a4f-e8ae0ec9125f",
   "metadata": {},
   "source": [
    "# Wikipics async demo"
   ]
  },
  {
   "cell_type": "markdown",
   "id": "7db37f49-5653-4681-bb33-e161ed37676e",
   "metadata": {},
   "source": [
    "## Referências sobre `asyncio` no Jupyter Notebook\n",
    "\n",
    "* [IPython 7.0, Async REPL (from 2018)](https://blog.jupyter.org/ipython-7-0-async-repl-a35ce050f7f7)\n",
    "* [Supporting asyncio.get_event_loop().run_until_complete() in repls](https://discuss.python.org/t/supporting-asyncio-get-event-loop-run-until-complete-in-repls/5573/9)\n",
    "* [Running Asynchronous Code in Jupyter Notebooks: Managing Event Loops](https://medium.com/p/b9696a596ce4) (paywall, não vale o custo)"
   ]
  },
  {
   "cell_type": "code",
   "execution_count": 1,
   "id": "2039cf8d-2612-40d9-ac4d-13f281e273ec",
   "metadata": {},
   "outputs": [],
   "source": [
    "from pathlib import Path\n",
    "from typing import NamedTuple\n",
    "\n",
    "from IPython.display import display\n",
    "from ipywidgets.widgets import Image, Layout\n",
    "import httpx\n",
    "\n",
    "from wikipics import get_sample_url, get_sample_urls\n",
    "\n",
    "class ImageRecord(NamedTuple):\n",
    "    pixels: bytes\n",
    "    name: str\n",
    "    size: int"
   ]
  },
  {
   "cell_type": "markdown",
   "id": "e7e2c6c9-0fb4-4c51-85fe-e4f3925679d9",
   "metadata": {},
   "source": [
    "Função que usamos na demonstração com threads e processos, denominada `fetch` em \n",
    "[wikipics-demo](wikipics-demo.ipynb).\n",
    "Reproduzi aqui para comparar com a versão assíncrona de `fetch`, logo abaixo.\n",
    "\n",
    "```python\n",
    "def fetch_blocking(url) -> ImageRecord:\n",
    "    resp = httpx.get(url)  # thread blocked here\n",
    "    resp.raise_for_status()\n",
    "    name = Path(url).name\n",
    "    return ImageRecord(resp.content, name, len(resp.content))\n",
    "```"
   ]
  },
  {
   "cell_type": "code",
   "execution_count": 3,
   "id": "ae4bff40-b2a6-4af6-be61-c6d4251a3e43",
   "metadata": {},
   "outputs": [],
   "source": [
    "from httpx import AsyncClient\n",
    "\n",
    "async def fetch(client:AsyncClient, url:str) -> ImageRecord:\n",
    "    resp = await client.get(url)\n",
    "    resp.raise_for_status()\n",
    "    name = Path(url).name\n",
    "    return ImageRecord(resp.content, name, len(resp.content))"
   ]
  },
  {
   "cell_type": "markdown",
   "id": "fb176653-d808-4f83-8f46-10476d08de26",
   "metadata": {},
   "source": [
    "Outro trecho de código de [wikipics-demo](wikipics-demo.ipynb),\n",
    "para comparação com o código usando `await` em seguida.\n",
    "\n",
    "```python\n",
    "url = get_sample_url(1_000_000)\n",
    "img_rec = fetch_blocking(url)  # main thread blocks here\n",
    "print(f'{img_rec.size:12_} bytes | {img_rec.name}')\n",
    "Image(value=img_rec.pixels)\n",
    "```"
   ]
  },
  {
   "cell_type": "code",
   "execution_count": 4,
   "id": "e9a118ae-9c11-454a-a780-4be484e5bd9f",
   "metadata": {},
   "outputs": [
    {
     "name": "stdout",
     "output_type": "stream",
     "text": [
      "     982_309 bytes | Maurycy_Gottlieb_-_Jews_Praying_in_the_Synagogue_on_Yom_Kippur.jpg\n"
     ]
    },
    {
     "data": {
      "application/vnd.jupyter.widget-view+json": {
       "model_id": "21f477ec196445489aee313dff1d5e11",
       "version_major": 2,
       "version_minor": 0
      },
      "text/plain": [
       "Image(value=b'\\xff\\xd8\\xff\\xe0\\x00\\x10JFIF\\x00\\x01\\x01\\x01\\x00H\\x00H\\x00\\x00\\xff\\xdb\\x00C\\x00\\x02\\x01\\x01\\x01\\…"
      ]
     },
     "execution_count": 4,
     "metadata": {},
     "output_type": "execute_result"
    }
   ],
   "source": [
    "url = get_sample_url(1_000_000)\n",
    "async with AsyncClient() as client:\n",
    "    img_rec = await fetch(client, url)  # console blocks here\n",
    "print(f'{img_rec.size:12_} bytes | {img_rec.name}')\n",
    "Image(value=img_rec.pixels)"
   ]
  },
  {
   "cell_type": "markdown",
   "id": "2322d776-06ff-4661-8348-5a08413a4d60",
   "metadata": {},
   "source": [
    "Mais um trecho de [wikipics-demo](wikipics-demo.ipynb), para comparação:\n",
    "\n",
    "```python\n",
    "img_widgets = []\n",
    "qty = 10\n",
    "urls = get_sample_urls(2_000_000, qty)\n",
    "total_bytes = 0\n",
    "\n",
    "for url in urls:\n",
    "    img_rec = fetch(url)\n",
    "    total_bytes += img_rec.size\n",
    "    display(Image(value=img_rec.pixels, layout=Layout(width='20%')))\n",
    "    print(f'{img_rec.size:12_} bytes | {img_rec.name}')\n",
    "\n",
    "print(f'TOTAL BYTES: {total_bytes:_}')\n",
    "```\n"
   ]
  },
  {
   "cell_type": "code",
   "execution_count": 5,
   "id": "c1b44055-49d8-4c6c-8a15-ec3e05209f9d",
   "metadata": {},
   "outputs": [
    {
     "data": {
      "application/vnd.jupyter.widget-view+json": {
       "model_id": "05b7c4f56e6a459cb7cd850844e45502",
       "version_major": 2,
       "version_minor": 0
      },
      "text/plain": [
       "Image(value=b'\\xff\\xd8\\xff\\xe1$\\tExif\\x00\\x00II*\\x00\\x08\\x00\\x00\\x00\\x0c\\x00\\x0e\\x01\\x02\\x00\\xbb\\x00\\x00\\x00\\x…"
      ]
     },
     "metadata": {},
     "output_type": "display_data"
    },
    {
     "name": "stdout",
     "output_type": "stream",
     "text": [
      "   1_972_894 bytes | Barack_Obama_family_portrait_2011.jpg\n"
     ]
    },
    {
     "data": {
      "application/vnd.jupyter.widget-view+json": {
       "model_id": "9e52e8f3293945f5a9284f414449b2d5",
       "version_major": 2,
       "version_minor": 0
      },
      "text/plain": [
       "Image(value=b'\\xff\\xd8\\xff\\xe0\\x00\\x10JFIF\\x00\\x01\\x02\\x01\\x00H\\x00H\\x00\\x00\\xff\\xe1$\\x1fExif\\x00\\x00MM\\x00*\\x…"
      ]
     },
     "metadata": {},
     "output_type": "display_data"
    },
    {
     "name": "stdout",
     "output_type": "stream",
     "text": [
      "   1_964_661 bytes | Indischer_Maler_des_6._Jahrhunderts_001.jpg\n"
     ]
    },
    {
     "data": {
      "application/vnd.jupyter.widget-view+json": {
       "model_id": "f9e0310e3c114678900be338ba8fe173",
       "version_major": 2,
       "version_minor": 0
      },
      "text/plain": [
       "Image(value=b'\\xff\\xd8\\xff\\xe0\\x00\\x10JFIF\\x00\\x01\\x02\\x00\\x00d\\x00d\\x00\\x00\\xff\\xec\\x00\\x11Ducky\\x00\\x01\\x00\\…"
      ]
     },
     "metadata": {},
     "output_type": "display_data"
    },
    {
     "name": "stdout",
     "output_type": "stream",
     "text": [
      "   2_010_689 bytes | Morocco_Africa_Flickr_Rosino_December_2005_84514010.jpg\n"
     ]
    },
    {
     "data": {
      "application/vnd.jupyter.widget-view+json": {
       "model_id": "f109d1f6b77a426dae9c5fd55f72c764",
       "version_major": 2,
       "version_minor": 0
      },
      "text/plain": [
       "Image(value=b'\\xff\\xd8\\xff\\xe0\\x00\\x10JFIF\\x00\\x01\\x01\\x01\\x03\\xe8\\x03#\\x00\\x00\\xff\\xdb\\x00C\\x00\\x03\\x02\\x02\\x…"
      ]
     },
     "metadata": {},
     "output_type": "display_data"
    },
    {
     "name": "stdout",
     "output_type": "stream",
     "text": [
      "   2_028_394 bytes | Busterkeaton.jpg\n"
     ]
    },
    {
     "data": {
      "application/vnd.jupyter.widget-view+json": {
       "model_id": "a607fbabd3de479ca89ec6b238f4e8c6",
       "version_major": 2,
       "version_minor": 0
      },
      "text/plain": [
       "Image(value=b'\\xff\\xd8\\xff\\xe0\\x00\\x10JFIF\\x00\\x01\\x01\\x02\\x00&\\x00&\\x00\\x00\\xff\\xdb\\x00C\\x00\\x02\\x01\\x01\\x01\\…"
      ]
     },
     "metadata": {},
     "output_type": "display_data"
    },
    {
     "name": "stdout",
     "output_type": "stream",
     "text": [
      "   2_019_580 bytes | Edvard_Munch_-_The_Kiss_-_Google_Art_Project.jpg\n"
     ]
    },
    {
     "data": {
      "application/vnd.jupyter.widget-view+json": {
       "model_id": "36c38ed490c4410b960019b579bf9147",
       "version_major": 2,
       "version_minor": 0
      },
      "text/plain": [
       "Image(value=b'\\xff\\xd8\\xff\\xe1\\x18\\xc8Exif\\x00\\x00MM\\x00*\\x00\\x00\\x00\\x08\\x00\\x15\\x01\\x00\\x00\\x03\\x00\\x00\\x00\\…"
      ]
     },
     "metadata": {},
     "output_type": "display_data"
    },
    {
     "name": "stdout",
     "output_type": "stream",
     "text": [
      "   1_994_699 bytes | BennyTrapp_Hyla_intermedia_Italien.jpg\n"
     ]
    },
    {
     "data": {
      "application/vnd.jupyter.widget-view+json": {
       "model_id": "de14d7bf3eba4b09b451fb100809d403",
       "version_major": 2,
       "version_minor": 0
      },
      "text/plain": [
       "Image(value=b'\\xff\\xd8\\xff\\xe1\\x04nExif\\x00\\x00II*\\x00\\x08\\x00\\x00\\x00\\n\\x00\\x0f\\x01\\x02\\x00\\x06\\x00\\x00\\x00\\x…"
      ]
     },
     "metadata": {},
     "output_type": "display_data"
    },
    {
     "name": "stdout",
     "output_type": "stream",
     "text": [
      "   1_985_830 bytes | Plains_Zebra_Equus_quagga.jpg\n"
     ]
    },
    {
     "data": {
      "application/vnd.jupyter.widget-view+json": {
       "model_id": "375b91ec53a74cb5b6477450f58436aa",
       "version_major": 2,
       "version_minor": 0
      },
      "text/plain": [
       "Image(value=b'\\xff\\xd8\\xff\\xe0\\x00\\x10JFIF\\x00\\x01\\x01\\x01\\x00H\\x00H\\x00\\x00\\xff\\xe1\\t\\x82Exif\\x00\\x00II*\\x00\\…"
      ]
     },
     "metadata": {},
     "output_type": "display_data"
    },
    {
     "name": "stdout",
     "output_type": "stream",
     "text": [
      "   2_010_325 bytes | Rana_esculenta_on_Nymphaea_edit.JPG\n"
     ]
    },
    {
     "data": {
      "application/vnd.jupyter.widget-view+json": {
       "model_id": "8b4eefc3083249bbb6edb2ce72005a87",
       "version_major": 2,
       "version_minor": 0
      },
      "text/plain": [
       "Image(value=b'\\xff\\xd8\\xff\\xe1\\x16\\x14Exif\\x00\\x00II*\\x00\\x08\\x00\\x00\\x00\\n\\x00\\x0f\\x01\\x02\\x00\\x06\\x00\\x00\\x0…"
      ]
     },
     "metadata": {},
     "output_type": "display_data"
    },
    {
     "name": "stdout",
     "output_type": "stream",
     "text": [
      "   2_015_977 bytes | Litoria_infrafrenata_-_Julatten.jpg\n"
     ]
    },
    {
     "data": {
      "application/vnd.jupyter.widget-view+json": {
       "model_id": "c2ef0ddc65564003b3a1b0bc0e14652d",
       "version_major": 2,
       "version_minor": 0
      },
      "text/plain": [
       "Image(value=b'\\xff\\xd8\\xff\\xe0\\x00\\x10JFIF\\x00\\x01\\x01\\x02\\x00&\\x00&\\x00\\x00\\xff\\xdb\\x00C\\x00\\x02\\x01\\x01\\x01\\…"
      ]
     },
     "metadata": {},
     "output_type": "display_data"
    },
    {
     "name": "stdout",
     "output_type": "stream",
     "text": [
      "   1_977_558 bytes | Frederic_Edwin_Church_-_Aurora_Borealis_-_Google_Art_Project.jpg\n",
      "TOTAL BYTES: 19_980_607\n"
     ]
    }
   ],
   "source": [
    "import asyncio\n",
    "\n",
    "img_widgets = []\n",
    "qty = 10\n",
    "urls = get_sample_urls(2_000_000, qty)\n",
    "total_bytes = 0\n",
    "\n",
    "async def download_pics(urls):\n",
    "    async with AsyncClient() as client:\n",
    "        tasks = [fetch(client, url) for url in urls]\n",
    "        results = await asyncio.gather(*tasks)\n",
    "    return results\n",
    "\n",
    "for img_rec in await download_pics(urls):\n",
    "    total_bytes += img_rec.size\n",
    "    display(Image(value=img_rec.pixels, layout=Layout(width='20%')))\n",
    "    print(f'{img_rec.size:12_} bytes | {img_rec.name}')\n",
    "\n",
    "print(f'TOTAL BYTES: {total_bytes:_}')    "
   ]
  },
  {
   "cell_type": "code",
   "execution_count": 10,
   "id": "af3d0bd8-adfa-4235-aee4-030d859ef4a6",
   "metadata": {},
   "outputs": [
    {
     "data": {
      "application/vnd.jupyter.widget-view+json": {
       "model_id": "915b1542723a4a07baba1340c106a394",
       "version_major": 2,
       "version_minor": 0
      },
      "text/plain": [
       "HBox(children=(Image(value=b'\\x89PNG\\r\\n\\x1a\\n\\x00\\x00\\x00\\rIHDR\\x00\\x00\\x00\\xeb\\x00\\x00\\x00\\xb7\\x08\\x00\\x00\\x…"
      ]
     },
     "metadata": {},
     "output_type": "display_data"
    },
    {
     "name": "stdout",
     "output_type": "stream",
     "text": [
      "( 1)  15_283_554 bytes | Chehel_Sotoun_Inside%2C_Isfahan_Edit1.jpg\n",
      "( 2)  15_193_424 bytes | Lady_Elliot_Island_SVII.jpg\n",
      "( 3)  15_508_943 bytes | Sg%C3%B9rr_nan_Gillean_from_Sligachan%2C_Isle_of_Skye%2C_Scotland_-_Diliff.jpg\n",
      "( 4)  14_784_640 bytes | Zaandam2.jpg\n",
      "( 5)  14_726_913 bytes | Peacock_Flounder_Bothus_mancus_in_Kona.jpg\n",
      "( 6)  15_062_885 bytes | Pahalgam_Valley.jpg\n",
      "( 7)  15_217_910 bytes | USA_declaration_independence.jpg\n",
      "( 8)  15_102_249 bytes | Hubble2005-01-barred-spiral-galaxy-NGC1300.jpg\n",
      "( 9)  14_975_113 bytes | Shoki2_detail.jpg\n",
      "(10)  15_680_406 bytes | Blois_Loire_Panorama_-_July_2011.jpg\n",
      "TOTAL BYTES: 151_536_037\n"
     ]
    }
   ],
   "source": [
    "# %%time\n",
    "# Não funciona:\n",
    "#   File <timed exec>:18\n",
    "# SyntaxError: 'await' outside function\n",
    "\n",
    "from gallery import Gallery\n",
    "from httpx import HTTPStatusError\n",
    "\n",
    "num_images = 10\n",
    "\n",
    "urls = get_sample_urls(15_000_000, num_images)\n",
    "gallery = Gallery(num_images)\n",
    "gallery.display()\n",
    "\n",
    "async def display_pics(urls):\n",
    "    async with AsyncClient() as client:\n",
    "        tasks = [fetch(client, url) for url in urls]\n",
    "        for i, coroutine in enumerate(asyncio.as_completed(tasks)):\n",
    "            try:\n",
    "                img_rec = await coroutine\n",
    "            except HTTPStatusError:\n",
    "                pass\n",
    "            else:\n",
    "                gallery.update(i, img_rec.pixels, img_rec.name)\n",
    "\n",
    "await display_pics(urls)\n",
    "\n",
    "print(f'TOTAL BYTES: {gallery.size:_}')"
   ]
  },
  {
   "cell_type": "code",
   "execution_count": null,
   "id": "082a1823-195e-45ef-9c2f-55d9eed5ea0c",
   "metadata": {},
   "outputs": [],
   "source": []
  }
 ],
 "metadata": {
  "kernelspec": {
   "display_name": "Python 3 (ipykernel)",
   "language": "python",
   "name": "python3"
  },
  "language_info": {
   "codemirror_mode": {
    "name": "ipython",
    "version": 3
   },
   "file_extension": ".py",
   "mimetype": "text/x-python",
   "name": "python",
   "nbconvert_exporter": "python",
   "pygments_lexer": "ipython3",
   "version": "3.12.2"
  }
 },
 "nbformat": 4,
 "nbformat_minor": 5
}
