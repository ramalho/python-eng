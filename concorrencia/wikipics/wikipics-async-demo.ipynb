{
 "cells": [
  {
   "cell_type": "markdown",
   "id": "8a9dc8cc-f490-4d13-9a4f-e8ae0ec9125f",
   "metadata": {},
   "source": [
    "# Wikipics async demo"
   ]
  },
  {
   "cell_type": "markdown",
   "id": "7db37f49-5653-4681-bb33-e161ed37676e",
   "metadata": {},
   "source": [
    "## Referências sobre `asyncio` no Jupyter Notebook\n",
    "\n",
    "* [IPython 7.0, Async REPL (from 2018)](https://blog.jupyter.org/ipython-7-0-async-repl-a35ce050f7f7)\n",
    "* [Supporting asyncio.get_event_loop().run_until_complete() in repls](https://discuss.python.org/t/supporting-asyncio-get-event-loop-run-until-complete-in-repls/5573/9)\n",
    "* [Running Asynchronous Code in Jupyter Notebooks: Managing Event Loops](https://medium.com/p/b9696a596ce4) (paywall, não vale o custo)"
   ]
  },
  {
   "cell_type": "code",
   "execution_count": 1,
   "id": "2039cf8d-2612-40d9-ac4d-13f281e273ec",
   "metadata": {},
   "outputs": [],
   "source": [
    "from pathlib import Path\n",
    "from typing import NamedTuple\n",
    "\n",
    "from IPython.display import display\n",
    "from ipywidgets.widgets import Image, Layout\n",
    "import httpx\n",
    "\n",
    "from wikipics import get_sample_url, get_sample_urls\n",
    "\n",
    "class ImageRecord(NamedTuple):\n",
    "    pixels: bytes\n",
    "    name: str\n",
    "    size: int"
   ]
  },
  {
   "cell_type": "markdown",
   "id": "e7e2c6c9-0fb4-4c51-85fe-e4f3925679d9",
   "metadata": {},
   "source": [
    "Função que usamos na demonstração com threads e processos, denominada `fetch` em \n",
    "[wikipics-demo](wikipics-demo.ipynb).\n",
    "Reproduzi aqui para comparar com a versão assíncrona de `fetch`, logo abaixo.\n",
    "\n",
    "```python\n",
    "def fetch_blocking(url) -> ImageRecord:\n",
    "    resp = httpx.get(url)  # thread blocked here\n",
    "    resp.raise_for_status()\n",
    "    name = Path(url).name\n",
    "    return ImageRecord(resp.content, name, len(resp.content))\n",
    "```"
   ]
  },
  {
   "cell_type": "code",
   "execution_count": 2,
   "id": "ae4bff40-b2a6-4af6-be61-c6d4251a3e43",
   "metadata": {},
   "outputs": [],
   "source": [
    "from httpx import AsyncClient\n",
    "\n",
    "async def fetch(client:AsyncClient, url:str) -> ImageRecord:\n",
    "    resp = await client.get(url)\n",
    "    resp.raise_for_status()\n",
    "    name = Path(url).name\n",
    "    return ImageRecord(resp.content, name, len(resp.content))"
   ]
  },
  {
   "cell_type": "markdown",
   "id": "fb176653-d808-4f83-8f46-10476d08de26",
   "metadata": {},
   "source": [
    "Outro trecho de código de [wikipics-demo](wikipics-demo.ipynb),\n",
    "para comparação com o código usando `await` em seguida.\n",
    "\n",
    "```python\n",
    "url = get_sample_url(1_000_000)\n",
    "img_rec = fetch_blocking(url)  # main thread blocks here\n",
    "print(f'{img_rec.size:12_} bytes | {img_rec.name}')\n",
    "Image(value=img_rec.pixels)\n",
    "```"
   ]
  },
  {
   "cell_type": "code",
   "execution_count": 3,
   "id": "e9a118ae-9c11-454a-a780-4be484e5bd9f",
   "metadata": {},
   "outputs": [
    {
     "name": "stdout",
     "output_type": "stream",
     "text": [
      "     958_960 bytes | Beachy_Head_and_Lighthouse%2C_East_Sussex%2C_England_-_April_2010_crop_horizon_corrected.jpg\n"
     ]
    },
    {
     "data": {
      "application/vnd.jupyter.widget-view+json": {
       "model_id": "84a8872479a24dcea20f7ad37c0081b8",
       "version_major": 2,
       "version_minor": 0
      },
      "text/plain": [
       "Image(value=b'\\xff\\xd8\\xff\\xe0\\x00\\x10JFIF\\x00\\x01\\x01\\x01\\x01,\\x01,\\x00\\x00\\xff\\xe1\\x0fmExif\\x00\\x00II*\\x00\\x…"
      ]
     },
     "execution_count": 3,
     "metadata": {},
     "output_type": "execute_result"
    }
   ],
   "source": [
    "url = get_sample_url(1_000_000)\n",
    "async with AsyncClient() as client:\n",
    "    img_rec = await fetch(client, url)  # console blocks here\n",
    "print(f'{img_rec.size:12_} bytes | {img_rec.name}')\n",
    "Image(value=img_rec.pixels)"
   ]
  },
  {
   "cell_type": "markdown",
   "id": "2322d776-06ff-4661-8348-5a08413a4d60",
   "metadata": {},
   "source": [
    "Mais um trecho de [wikipics-demo](wikipics-demo.ipynb), para comparação:\n",
    "\n",
    "```python\n",
    "img_widgets = []\n",
    "qty = 10\n",
    "urls = get_sample_urls(2_000_000, qty)\n",
    "total_bytes = 0\n",
    "\n",
    "for url in urls:\n",
    "    img_rec = await fetch(url)  # SyntaxError: 'await' outside function\n",
    "    total_bytes += img_rec.size\n",
    "    display(Image(value=img_rec.pixels, layout=Layout(width='20%')))\n",
    "    print(f'{img_rec.size:12_} bytes | {img_rec.name}')\n",
    "\n",
    "print(f'TOTAL BYTES: {total_bytes:_}')\n",
    "```\n"
   ]
  },
  {
   "cell_type": "markdown",
   "id": "8e8bc7e0-3314-48f5-8d86-b3bc5cea3a5e",
   "metadata": {},
   "source": [
    "Na próxima célula eu desisti porque não descobri como produzir os resultados de `download_pics` dentro do Jupyter.\n",
    "\n",
    "Veja o código funcionando no script Python `wikipics-async-demo.py`."
   ]
  },
  {
   "cell_type": "code",
   "execution_count": 4,
   "id": "c1b44055-49d8-4c6c-8a15-ec3e05209f9d",
   "metadata": {},
   "outputs": [
    {
     "data": {
      "application/vnd.jupyter.widget-view+json": {
       "model_id": "76c14493a2e8496dba648c5af2b6e549",
       "version_major": 2,
       "version_minor": 0
      },
      "text/plain": [
       "Image(value=b'\\xff\\xd8\\xff\\xe1\\x16\\x14Exif\\x00\\x00II*\\x00\\x08\\x00\\x00\\x00\\n\\x00\\x0f\\x01\\x02\\x00\\x06\\x00\\x00\\x0…"
      ]
     },
     "metadata": {},
     "output_type": "display_data"
    },
    {
     "name": "stdout",
     "output_type": "stream",
     "text": [
      "   2_015_977 bytes | Litoria_infrafrenata_-_Julatten.jpg\n"
     ]
    },
    {
     "data": {
      "application/vnd.jupyter.widget-view+json": {
       "model_id": "3bae0588cb664c148af7e0b3277849e0",
       "version_major": 2,
       "version_minor": 0
      },
      "text/plain": [
       "Image(value=b'\\xff\\xd8\\xff\\xe0\\x00\\x10JFIF\\x00\\x01\\x01\\x02\\x00&\\x00&\\x00\\x00\\xff\\xdb\\x00C\\x00\\x02\\x01\\x01\\x01\\…"
      ]
     },
     "metadata": {},
     "output_type": "display_data"
    },
    {
     "name": "stdout",
     "output_type": "stream",
     "text": [
      "   1_977_558 bytes | Frederic_Edwin_Church_-_Aurora_Borealis_-_Google_Art_Project.jpg\n"
     ]
    },
    {
     "data": {
      "application/vnd.jupyter.widget-view+json": {
       "model_id": "a43c7b6f478b427c820074f950ec8611",
       "version_major": 2,
       "version_minor": 0
      },
      "text/plain": [
       "Image(value=b'\\xff\\xd8\\xff\\xe0\\x00\\x10JFIF\\x00\\x01\\x02\\x01\\x08\\x95\\x08\\x95\\x00\\x00\\xff\\xe1\\x13~Exif\\x00\\x00II*…"
      ]
     },
     "metadata": {},
     "output_type": "display_data"
    },
    {
     "name": "stdout",
     "output_type": "stream",
     "text": [
      "   2_020_431 bytes | Kaiseradler_Aquila_heliaca_2_amk.jpg\n"
     ]
    },
    {
     "data": {
      "application/vnd.jupyter.widget-view+json": {
       "model_id": "b24bb8200b264142bc6ecf8da2193823",
       "version_major": 2,
       "version_minor": 0
      },
      "text/plain": [
       "Image(value=b'\\xff\\xd8\\xff\\xe0\\x00\\x10JFIF\\x00\\x01\\x02\\x01\\x00H\\x00H\\x00\\x00\\xff\\xe1$\\x1fExif\\x00\\x00MM\\x00*\\x…"
      ]
     },
     "metadata": {},
     "output_type": "display_data"
    },
    {
     "name": "stdout",
     "output_type": "stream",
     "text": [
      "   1_964_661 bytes | Indischer_Maler_des_6._Jahrhunderts_001.jpg\n"
     ]
    },
    {
     "data": {
      "application/vnd.jupyter.widget-view+json": {
       "model_id": "5205abf726954581b133958d0eedc7f7",
       "version_major": 2,
       "version_minor": 0
      },
      "text/plain": [
       "Image(value=b'\\xff\\xd8\\xff\\xe0\\x00\\x10JFIF\\x00\\x01\\x01\\x01\\x00`\\x00`\\x00\\x00\\xff\\xdb\\x00C\\x00\\x03\\x02\\x02\\x03\\…"
      ]
     },
     "metadata": {},
     "output_type": "display_data"
    },
    {
     "name": "stdout",
     "output_type": "stream",
     "text": [
      "   1_992_966 bytes | Aeshna_cyanea_freshly_slipped_with_time.jpg\n"
     ]
    },
    {
     "data": {
      "application/vnd.jupyter.widget-view+json": {
       "model_id": "178f86fc9550482598f3f0aeb9eb381e",
       "version_major": 2,
       "version_minor": 0
      },
      "text/plain": [
       "Image(value=b'\\xff\\xd8\\xff\\xe0\\x00\\x10JFIF\\x00\\x01\\x02\\x01\\x00H\\x00H\\x00\\x00\\xff\\xe1\\x12>Exif\\x00\\x00II*\\x00\\x…"
      ]
     },
     "metadata": {},
     "output_type": "display_data"
    },
    {
     "name": "stdout",
     "output_type": "stream",
     "text": [
      "   2_017_212 bytes | Mantoux_tuberculin_skin_test.jpg\n"
     ]
    },
    {
     "data": {
      "application/vnd.jupyter.widget-view+json": {
       "model_id": "32e16d0a5a494c838d741afa4fb7bee6",
       "version_major": 2,
       "version_minor": 0
      },
      "text/plain": [
       "Image(value=b'\\xff\\xd8\\xff\\xe0\\x00\\x10JFIF\\x00\\x01\\x02\\x01\\x00\\xb4\\x00\\xb4\\x00\\x00\\xff\\xe1 yExif\\x00\\x00II*\\x0…"
      ]
     },
     "metadata": {},
     "output_type": "display_data"
    },
    {
     "name": "stdout",
     "output_type": "stream",
     "text": [
      "   2_005_363 bytes | Marmot-edit1.jpg\n"
     ]
    },
    {
     "data": {
      "application/vnd.jupyter.widget-view+json": {
       "model_id": "0d4997bfc7c44474a142eff8902fae74",
       "version_major": 2,
       "version_minor": 0
      },
      "text/plain": [
       "Image(value=b'\\xff\\xd8\\xff\\xe0\\x00\\x10JFIF\\x00\\x01\\x02\\x01\\x02\\xe9\\x02\\xe9\\x00\\x00\\xff\\xe1],Exif\\x00\\x00II*\\x0…"
      ]
     },
     "metadata": {},
     "output_type": "display_data"
    },
    {
     "name": "stdout",
     "output_type": "stream",
     "text": [
      "   2_019_740 bytes | Bald.eagle.closeup.arp-sh.750pix.jpg\n"
     ]
    },
    {
     "data": {
      "application/vnd.jupyter.widget-view+json": {
       "model_id": "d36e8c755ef64822ac71acda0ac3dd04",
       "version_major": 2,
       "version_minor": 0
      },
      "text/plain": [
       "Image(value=b'\\xff\\xd8\\xff\\xe1%\\xfeExif\\x00\\x00II*\\x00\\x08\\x00\\x00\\x00\\t\\x00\\x0f\\x01\\x02\\x00\\x06\\x00\\x00\\x00z\\…"
      ]
     },
     "metadata": {},
     "output_type": "display_data"
    },
    {
     "name": "stdout",
     "output_type": "stream",
     "text": [
      "   1_975_417 bytes | Dolceacqua43_-_Artista_locale_mentre_dipinge_un_acquarello.jpg\n"
     ]
    },
    {
     "data": {
      "application/vnd.jupyter.widget-view+json": {
       "model_id": "47614ee2adef4add98da056a0c29bb1b",
       "version_major": 2,
       "version_minor": 0
      },
      "text/plain": [
       "Image(value=b'\\xff\\xd8\\xff\\xe1$\\tExif\\x00\\x00II*\\x00\\x08\\x00\\x00\\x00\\x0c\\x00\\x0e\\x01\\x02\\x00\\xbb\\x00\\x00\\x00\\x…"
      ]
     },
     "metadata": {},
     "output_type": "display_data"
    },
    {
     "name": "stdout",
     "output_type": "stream",
     "text": [
      "   1_972_894 bytes | Barack_Obama_family_portrait_2011.jpg\n",
      "TOTAL BYTES: 19_962_219\n"
     ]
    }
   ],
   "source": [
    "import asyncio\n",
    "\n",
    "img_widgets = []\n",
    "qty = 10\n",
    "urls = get_sample_urls(2_000_000, qty)\n",
    "total_bytes = 0\n",
    "\n",
    "async def download_pics(urls):\n",
    "    async with AsyncClient() as client:\n",
    "        tasks = [fetch(client, url) for url in urls]\n",
    "        results = await asyncio.gather(*tasks)\n",
    "    return results\n",
    "\n",
    "for img_rec in await download_pics(urls):\n",
    "    total_bytes += img_rec.size\n",
    "    display(Image(value=img_rec.pixels, layout=Layout(width='20%')))\n",
    "    print(f'{img_rec.size:12_} bytes | {img_rec.name}')\n",
    "\n",
    "print(f'TOTAL BYTES: {total_bytes:_}')    "
   ]
  },
  {
   "cell_type": "code",
   "execution_count": 5,
   "id": "af3d0bd8-adfa-4235-aee4-030d859ef4a6",
   "metadata": {},
   "outputs": [
    {
     "data": {
      "application/vnd.jupyter.widget-view+json": {
       "model_id": "8fee277bb9874765bea279d8df60266f",
       "version_major": 2,
       "version_minor": 0
      },
      "text/plain": [
       "HBox(children=(Image(value=b'\\x89PNG\\r\\n\\x1a\\n\\x00\\x00\\x00\\rIHDR\\x00\\x00\\x00\\xeb\\x00\\x00\\x00\\xb7\\x08\\x00\\x00\\x…"
      ]
     },
     "metadata": {},
     "output_type": "display_data"
    },
    {
     "name": "stdout",
     "output_type": "stream",
     "text": [
      "( 1)  14_541_999 bytes | Pahit-Pahit_Manis_pamphlet_%28obverse%29.jpg\n",
      "( 2)  14_824_826 bytes | Mary_Coriolano2.jpg\n",
      "( 3)  15_247_075 bytes | Exterior_of_Blenduk_Church%2C_Semarang%2C_2014-06-18.jpg\n",
      "( 4)  14_975_113 bytes | Shoki2_detail.jpg\n",
      "( 5)  15_031_716 bytes | Rembrandt_Harmensz._van_Rijn_-_Portret_van_een_paar_als_oudtestamentische_figuren%2C_genaamd_%27Het_Joodse_bruidje%27_-_Google_Art_Project.jpg\n",
      "( 6)  15_062_885 bytes | Pahalgam_Valley.jpg\n",
      "( 7)  14_784_640 bytes | Zaandam2.jpg\n",
      "( 8)  15_461_969 bytes | First_Manassas_map2.jpg\n",
      "( 9)  15_407_615 bytes | St_Etheldreda%27s_Church_Interior%2C_London%2C_UK_-_Diliff.jpg\n",
      "(10)  15_508_311 bytes | Berlin_-_Schloss_Bellevue2.jpg\n",
      "TOTAL BYTES: 150_846_149\n"
     ]
    }
   ],
   "source": [
    "# %%time\n",
    "# Não funciona:\n",
    "#   File <timed exec>:18\n",
    "# SyntaxError: 'await' outside function\n",
    "\n",
    "from gallery import Gallery\n",
    "\n",
    "num_images = 10\n",
    "\n",
    "urls = get_sample_urls(15_000_000, num_images)\n",
    "gallery = Gallery(num_images)\n",
    "gallery.display()\n",
    "\n",
    "async def display_pics(urls):\n",
    "    async with AsyncClient() as client:\n",
    "        tasks = [fetch(client, url) for url in urls]\n",
    "        for i, coroutine in enumerate(asyncio.as_completed(tasks)):\n",
    "            img_rec = await coroutine\n",
    "            gallery.update(i, img_rec.pixels, img_rec.name)\n",
    "\n",
    "await display_pics(urls)\n",
    "\n",
    "print(f'TOTAL BYTES: {gallery.size:_}')"
   ]
  },
  {
   "cell_type": "code",
   "execution_count": null,
   "id": "082a1823-195e-45ef-9c2f-55d9eed5ea0c",
   "metadata": {},
   "outputs": [],
   "source": []
  }
 ],
 "metadata": {
  "kernelspec": {
   "display_name": "Python 3 (ipykernel)",
   "language": "python",
   "name": "python3"
  },
  "language_info": {
   "codemirror_mode": {
    "name": "ipython",
    "version": 3
   },
   "file_extension": ".py",
   "mimetype": "text/x-python",
   "name": "python",
   "nbconvert_exporter": "python",
   "pygments_lexer": "ipython3",
   "version": "3.12.2"
  }
 },
 "nbformat": 4,
 "nbformat_minor": 5
}
