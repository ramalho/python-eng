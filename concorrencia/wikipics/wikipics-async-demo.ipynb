{
 "cells": [
  {
   "cell_type": "markdown",
   "id": "8a9dc8cc-f490-4d13-9a4f-e8ae0ec9125f",
   "metadata": {},
   "source": [
    "# Wikipics async demo"
   ]
  },
  {
   "cell_type": "markdown",
   "id": "7db37f49-5653-4681-bb33-e161ed37676e",
   "metadata": {},
   "source": [
    "[IPython 7.0, Async REPL (from 2018)](https://blog.jupyter.org/ipython-7-0-async-repl-a35ce050f7f7)"
   ]
  },
  {
   "cell_type": "code",
   "execution_count": 1,
   "id": "2039cf8d-2612-40d9-ac4d-13f281e273ec",
   "metadata": {},
   "outputs": [],
   "source": [
    "from pathlib import Path\n",
    "from typing import NamedTuple\n",
    "\n",
    "from IPython.display import display\n",
    "from ipywidgets.widgets import Image, Layout\n",
    "import httpx\n",
    "\n",
    "from wikipics import get_sample_url, get_sample_urls\n",
    "\n",
    "class ImageRecord(NamedTuple):\n",
    "    pixels: bytes\n",
    "    name: str\n",
    "    size: int"
   ]
  },
  {
   "cell_type": "code",
   "execution_count": null,
   "id": "edf23542-1f6f-493a-8bab-a115c1d6d2c5",
   "metadata": {},
   "outputs": [],
   "source": [
    "def fetch_blocking(url) -> ImageRecord:\n",
    "    resp = httpx.get(url)  # thread blocked here\n",
    "    resp.raise_for_status()\n",
    "    name = Path(url).name\n",
    "    return ImageRecord(resp.content, name, len(resp.content))"
   ]
  },
  {
   "cell_type": "code",
   "execution_count": 2,
   "id": "ae4bff40-b2a6-4af6-be61-c6d4251a3e43",
   "metadata": {},
   "outputs": [],
   "source": [
    "async def fetch(url) -> ImageRecord:\n",
    "    async with httpx.AsyncClient() as client:\n",
    "        resp = await client.get(url)\n",
    "        resp.raise_for_status()\n",
    "        name = Path(url).name\n",
    "        return ImageRecord(resp.content, name, len(resp.content))"
   ]
  },
  {
   "cell_type": "code",
   "execution_count": null,
   "id": "3b054372-b50d-484a-a95f-2d02129021be",
   "metadata": {},
   "outputs": [],
   "source": [
    "url = get_sample_url(1_000_000)\n",
    "img_rec = fetch_blocking(url)  # main thread blocks here\n",
    "print(f'{img_rec.size:12_} bytes | {img_rec.name}')\n",
    "Image(value=img_rec.pixels)"
   ]
  },
  {
   "cell_type": "code",
   "execution_count": 3,
   "id": "e9a118ae-9c11-454a-a780-4be484e5bd9f",
   "metadata": {},
   "outputs": [
    {
     "name": "stdout",
     "output_type": "stream",
     "text": [
      "   4_458_998 bytes | Mycteria_leucocephala_-_Pak_Thale.jpg\n"
     ]
    },
    {
     "data": {
      "application/vnd.jupyter.widget-view+json": {
       "model_id": "88fd02b7e62f400a9a3f5b9cb2afdd73",
       "version_major": 2,
       "version_minor": 0
      },
      "text/plain": [
       "Image(value=b'\\xff\\xd8\\xff\\xe1\\x13YExif\\x00\\x00II*\\x00\\x08\\x00\\x00\\x00\\x11\\x00\\x00\\x01\\x03\\x00\\x01\\x00\\x00\\x00…"
      ]
     },
     "execution_count": 3,
     "metadata": {},
     "output_type": "execute_result"
    }
   ],
   "source": [
    "url = get_sample_url(1_000_000)\n",
    "img_rec = await fetch(url)  # console blocks here\n",
    "print(f'{img_rec.size:12_} bytes | {img_rec.name}')\n",
    "Image(value=img_rec.pixels)"
   ]
  },
  {
   "cell_type": "code",
   "execution_count": 4,
   "id": "3f935c85-64fe-45b2-8af9-b23cdb4d2158",
   "metadata": {},
   "outputs": [
    {
     "ename": "SyntaxError",
     "evalue": "'await' outside function (<timed exec>, line 7)",
     "output_type": "error",
     "traceback": [
      "Traceback \u001b[0;36m(most recent call last)\u001b[0m:\n",
      "\u001b[0m  File \u001b[1;32m~/prj/.pyeng-312/lib/python3.12/site-packages/IPython/core/interactiveshell.py:3577\u001b[0m in \u001b[1;35mrun_code\u001b[0m\n    exec(code_obj, self.user_global_ns, self.user_ns)\u001b[0m\n",
      "\u001b[0m  Cell \u001b[1;32mIn[4], line 1\u001b[0m\n    get_ipython().run_cell_magic('time', '', \"img_widgets = []\\nqty = 10\\nurls = get_sample_urls(2_000_000, qty)\\ntotal_bytes = 0\\n\\nfor url in urls:\\n    img_rec = await fetch(url)\\n    total_bytes += img_rec.size\\n    display(Image(value=img_rec.pixels, layout=Layout(width='20%')))\\n    print(f'{img_rec.size:12_} bytes | {img_rec.name}')\\n\\nprint(f'TOTAL BYTES: {total_bytes:_}')\\n\")\u001b[0m\n",
      "\u001b[0m  File \u001b[1;32m~/prj/.pyeng-312/lib/python3.12/site-packages/IPython/core/interactiveshell.py:2541\u001b[0m in \u001b[1;35mrun_cell_magic\u001b[0m\n    result = fn(*args, **kwargs)\u001b[0m\n",
      "\u001b[0m  File \u001b[1;32m~/prj/.pyeng-312/lib/python3.12/site-packages/IPython/core/magics/execution.py:1321\u001b[0m in \u001b[1;35mtime\u001b[0m\n    code = self.shell.compile(expr_ast, source, mode)\u001b[0m\n",
      "\u001b[0;36m  File \u001b[0;32m/Library/Frameworks/Python.framework/Versions/3.12/lib/python3.12/codeop.py:126\u001b[0;36m in \u001b[0;35m__call__\u001b[0;36m\n\u001b[0;31m    codeob = compile(source, filename, symbol, flags, True)\u001b[0;36m\n",
      "\u001b[0;36m  File \u001b[0;32m<timed exec>:7\u001b[0;36m\u001b[0m\n\u001b[0;31mSyntaxError\u001b[0m\u001b[0;31m:\u001b[0m 'await' outside function\n"
     ]
    }
   ],
   "source": [
    "%%time\n",
    "img_widgets = []\n",
    "qty = 10\n",
    "urls = get_sample_urls(2_000_000, qty)\n",
    "total_bytes = 0\n",
    "\n",
    "for url in urls:\n",
    "    img_rec = await fetch(url)  # SyntaxError: 'await' outside function\n",
    "    total_bytes += img_rec.size\n",
    "    display(Image(value=img_rec.pixels, layout=Layout(width='20%')))\n",
    "    print(f'{img_rec.size:12_} bytes | {img_rec.name}')\n",
    "\n",
    "print(f'TOTAL BYTES: {total_bytes:_}')"
   ]
  },
  {
   "cell_type": "code",
   "execution_count": null,
   "id": "6799b3f5-e23d-40eb-a657-4668bd1316c5",
   "metadata": {},
   "outputs": [],
   "source": [
    "from gallery import Gallery"
   ]
  },
  {
   "cell_type": "code",
   "execution_count": null,
   "id": "7c40632c-0239-48b0-8c01-eff3b0f6a4d1",
   "metadata": {},
   "outputs": [],
   "source": [
    "%%timed\n",
    "num_images = 10\n",
    "gallery = Gallery(num_images)\n",
    "gallery.display()\n",
    "\n",
    "urls = get_sample_urls(2_000_000, num_images)\n",
    "\n",
    "for i, url in enumerate(urls):\n",
    "    img_rec = fetch(url)\n",
    "    total_bytes += img_rec.size\n",
    "    gallery.update(i, img_rec.pixels, url)\n",
    "\n",
    "print(f'TOTAL BYTES: {gallery.size:_}')"
   ]
  },
  {
   "cell_type": "code",
   "execution_count": 5,
   "id": "bb65ec9a-5f8a-4019-bbf8-e40a280f917b",
   "metadata": {},
   "outputs": [
    {
     "data": {
      "text/plain": [
       "['BANANA', 'MAÇÃ', 'PÊRA', 'UVA']"
      ]
     },
     "execution_count": 5,
     "metadata": {},
     "output_type": "execute_result"
    }
   ],
   "source": [
    "l = 'banana maçã pêra uva'.split()\n",
    "list(map(str.upper, l))"
   ]
  },
  {
   "cell_type": "code",
   "execution_count": null,
   "id": "e7b1c72e-75eb-47ca-bbe1-51a39c16eada",
   "metadata": {},
   "outputs": [],
   "source": [
    "%%time\n",
    "from concurrent import futures\n",
    "\n",
    "num_images = 10\n",
    "gallery = Gallery(num_images)\n",
    "gallery.display()\n",
    "\n",
    "urls = get_sample_urls(2_000_000, num_images)\n",
    "with futures.ThreadPoolExecutor() as pool:\n",
    "    img_records = pool.map(fetch, urls)\n",
    "    for i, img_rec in enumerate(img_records):\n",
    "        gallery.update(i, img_rec.pixels, img_rec.name)\n",
    "\n",
    "print(f'TOTAL BYTES: {gallery.size:_}')"
   ]
  },
  {
   "cell_type": "code",
   "execution_count": null,
   "id": "539a5b55-929b-4c69-90c5-3847f1cb7efb",
   "metadata": {},
   "outputs": [],
   "source": [
    "%%time\n",
    "from concurrent import futures\n",
    "\n",
    "num_images = 10\n",
    "gallery = Gallery(num_images)\n",
    "gallery.display()\n",
    "urls = get_sample_urls(2_000_000, num_images)\n",
    "\n",
    "with futures.ThreadPoolExecutor() as pool:\n",
    "    tasks = [pool.submit(fetch, url) for url in urls]\n",
    "    for i, future in enumerate(futures.as_completed(tasks)):\n",
    "        img_rec = future.result()\n",
    "        gallery.update(i, img_rec.pixels, img_rec.name)\n",
    "        \n",
    "print(f'TOTAL BYTES: {gallery.size:_}')"
   ]
  },
  {
   "cell_type": "code",
   "execution_count": null,
   "id": "af3d0bd8-adfa-4235-aee4-030d859ef4a6",
   "metadata": {},
   "outputs": [],
   "source": []
  }
 ],
 "metadata": {
  "kernelspec": {
   "display_name": "Python 3 (ipykernel)",
   "language": "python",
   "name": "python3"
  },
  "language_info": {
   "codemirror_mode": {
    "name": "ipython",
    "version": 3
   },
   "file_extension": ".py",
   "mimetype": "text/x-python",
   "name": "python",
   "nbconvert_exporter": "python",
   "pygments_lexer": "ipython3",
   "version": "3.12.2"
  }
 },
 "nbformat": 4,
 "nbformat_minor": 5
}
