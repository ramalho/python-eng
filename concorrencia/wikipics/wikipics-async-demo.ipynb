{
 "cells": [
  {
   "cell_type": "markdown",
   "id": "8a9dc8cc-f490-4d13-9a4f-e8ae0ec9125f",
   "metadata": {},
   "source": [
    "# Wikipics async demo"
   ]
  },
  {
   "cell_type": "markdown",
   "id": "7db37f49-5653-4681-bb33-e161ed37676e",
   "metadata": {},
   "source": [
    "## Referências sobre `asyncio` no Jupyter Notebook\n",
    "\n",
    "* [IPython 7.0, Async REPL (from 2018)](https://blog.jupyter.org/ipython-7-0-async-repl-a35ce050f7f7)\n",
    "* [Supporting asyncio.get_event_loop().run_until_complete() in repls](https://discuss.python.org/t/supporting-asyncio-get-event-loop-run-until-complete-in-repls/5573/9)\n",
    "* [Running Asynchronous Code in Jupyter Notebooks: Managing Event Loops](https://medium.com/p/b9696a596ce4) (paywall, não vale o custo)"
   ]
  },
  {
   "cell_type": "code",
   "execution_count": 1,
   "id": "2039cf8d-2612-40d9-ac4d-13f281e273ec",
   "metadata": {},
   "outputs": [],
   "source": [
    "from pathlib import Path\n",
    "from typing import NamedTuple\n",
    "\n",
    "from IPython.display import display\n",
    "from ipywidgets.widgets import Image, Layout\n",
    "import httpx\n",
    "\n",
    "from wikipics import get_sample_url, get_sample_urls\n",
    "\n",
    "class ImageRecord(NamedTuple):\n",
    "    pixels: bytes\n",
    "    name: str\n",
    "    size: int"
   ]
  },
  {
   "cell_type": "markdown",
   "id": "e7e2c6c9-0fb4-4c51-85fe-e4f3925679d9",
   "metadata": {},
   "source": [
    "Função que usamos na demonstração com threads e processos, denominada `fetch` em \n",
    "[wikipics-demo](wikipics-demo.ipynb).\n",
    "Reproduzi aqui para comparar com a versão assíncrona de `fetch`, logo abaixo.\n",
    "\n",
    "```python\n",
    "def fetch_blocking(url) -> ImageRecord:\n",
    "    resp = httpx.get(url)  # thread blocked here\n",
    "    resp.raise_for_status()\n",
    "    name = Path(url).name\n",
    "    return ImageRecord(resp.content, name, len(resp.content))\n",
    "```"
   ]
  },
  {
   "cell_type": "code",
   "execution_count": 2,
   "id": "ae4bff40-b2a6-4af6-be61-c6d4251a3e43",
   "metadata": {},
   "outputs": [],
   "source": [
    "from httpx import AsyncClient\n",
    "\n",
    "async def fetch(client:AsyncClient, url:str) -> ImageRecord:\n",
    "    resp = await client.get(url)\n",
    "    resp.raise_for_status()\n",
    "    name = Path(url).name\n",
    "    return ImageRecord(resp.content, name, len(resp.content))"
   ]
  },
  {
   "cell_type": "markdown",
   "id": "fb176653-d808-4f83-8f46-10476d08de26",
   "metadata": {},
   "source": [
    "Outro trecho de código de [wikipics-demo](wikipics-demo.ipynb),\n",
    "para comparação com o código usando `await` em seguida.\n",
    "\n",
    "```python\n",
    "url = get_sample_url(1_000_000)\n",
    "img_rec = fetch_blocking(url)  # main thread blocks here\n",
    "print(f'{img_rec.size:12_} bytes | {img_rec.name}')\n",
    "Image(value=img_rec.pixels)\n",
    "```"
   ]
  },
  {
   "cell_type": "code",
   "execution_count": 3,
   "id": "e9a118ae-9c11-454a-a780-4be484e5bd9f",
   "metadata": {},
   "outputs": [
    {
     "name": "stdout",
     "output_type": "stream",
     "text": [
      "   1_025_262 bytes | Aral_Sea_1989-2008.jpg\n"
     ]
    },
    {
     "data": {
      "application/vnd.jupyter.widget-view+json": {
       "model_id": "dd3a481bed404c8ead109548d0ad5228",
       "version_major": 2,
       "version_minor": 0
      },
      "text/plain": [
       "Image(value=b'\\xff\\xd8\\xff\\xe0\\x00\\x10JFIF\\x00\\x01\\x02\\x00\\x00d\\x00d\\x00\\x00\\xff\\xec\\x00\\x11Ducky\\x00\\x01\\x00\\…"
      ]
     },
     "execution_count": 3,
     "metadata": {},
     "output_type": "execute_result"
    }
   ],
   "source": [
    "url = get_sample_url(1_000_000)\n",
    "async with AsyncClient() as client:\n",
    "    img_rec = await fetch(client, url)  # console blocks here\n",
    "print(f'{img_rec.size:12_} bytes | {img_rec.name}')\n",
    "Image(value=img_rec.pixels)"
   ]
  },
  {
   "cell_type": "markdown",
   "id": "2322d776-06ff-4661-8348-5a08413a4d60",
   "metadata": {},
   "source": [
    "Mais um trecho de [wikipics-demo](wikipics-demo.ipynb), para comparação:\n",
    "\n",
    "```python\n",
    "img_widgets = []\n",
    "qty = 10\n",
    "urls = get_sample_urls(2_000_000, qty)\n",
    "total_bytes = 0\n",
    "\n",
    "for url in urls:\n",
    "    img_rec = fetch(url)\n",
    "    total_bytes += img_rec.size\n",
    "    display(Image(value=img_rec.pixels, layout=Layout(width='20%')))\n",
    "    print(f'{img_rec.size:12_} bytes | {img_rec.name}')\n",
    "\n",
    "print(f'TOTAL BYTES: {total_bytes:_}')\n",
    "```\n"
   ]
  },
  {
   "cell_type": "code",
   "execution_count": 4,
   "id": "c1b44055-49d8-4c6c-8a15-ec3e05209f9d",
   "metadata": {},
   "outputs": [
    {
     "data": {
      "application/vnd.jupyter.widget-view+json": {
       "model_id": "cfc04fb4383e4064917de29c345962ef",
       "version_major": 2,
       "version_minor": 0
      },
      "text/plain": [
       "Image(value=b'\\xff\\xd8\\xff\\xe1$\\tExif\\x00\\x00II*\\x00\\x08\\x00\\x00\\x00\\x0c\\x00\\x0e\\x01\\x02\\x00\\xbb\\x00\\x00\\x00\\x…"
      ]
     },
     "metadata": {},
     "output_type": "display_data"
    },
    {
     "name": "stdout",
     "output_type": "stream",
     "text": [
      "   1_972_894 bytes | Barack_Obama_family_portrait_2011.jpg\n"
     ]
    },
    {
     "data": {
      "application/vnd.jupyter.widget-view+json": {
       "model_id": "852b145dcb744328a4a88300bb24be26",
       "version_major": 2,
       "version_minor": 0
      },
      "text/plain": [
       "Image(value=b'\\xff\\xd8\\xff\\xe1%\\xfeExif\\x00\\x00II*\\x00\\x08\\x00\\x00\\x00\\t\\x00\\x0f\\x01\\x02\\x00\\x06\\x00\\x00\\x00z\\…"
      ]
     },
     "metadata": {},
     "output_type": "display_data"
    },
    {
     "name": "stdout",
     "output_type": "stream",
     "text": [
      "   1_975_417 bytes | Dolceacqua43_-_Artista_locale_mentre_dipinge_un_acquarello.jpg\n"
     ]
    },
    {
     "data": {
      "application/vnd.jupyter.widget-view+json": {
       "model_id": "4bec25c89759439ba3ce1101e49ae911",
       "version_major": 2,
       "version_minor": 0
      },
      "text/plain": [
       "Image(value=b'\\xff\\xd8\\xff\\xe0\\x00\\x10JFIF\\x00\\x01\\x02\\x01\\x00H\\x00H\\x00\\x00\\xff\\xe1#\\xb9Exif\\x00\\x00II*\\x00\\x…"
      ]
     },
     "metadata": {},
     "output_type": "display_data"
    },
    {
     "name": "stdout",
     "output_type": "stream",
     "text": [
      "   2_024_436 bytes | Fritillaria_meleagris_LJ_barje2.jpg\n"
     ]
    },
    {
     "data": {
      "application/vnd.jupyter.widget-view+json": {
       "model_id": "ff3efd3d7c8f4d489caf974618021d42",
       "version_major": 2,
       "version_minor": 0
      },
      "text/plain": [
       "Image(value=b'\\xff\\xd8\\xff\\xe0\\x00\\x10JFIF\\x00\\x01\\x01\\x01\\x02X\\x02X\\x00\\x00\\xff\\xe1\\x00\\xc4Exif\\x00\\x00II*\\x0…"
      ]
     },
     "metadata": {},
     "output_type": "display_data"
    },
    {
     "name": "stdout",
     "output_type": "stream",
     "text": [
      "   1_996_200 bytes | Bison_skull_pile_edit.jpg\n"
     ]
    },
    {
     "data": {
      "application/vnd.jupyter.widget-view+json": {
       "model_id": "c6e70783d97e496e8c0ae0e0e4f790cd",
       "version_major": 2,
       "version_minor": 0
      },
      "text/plain": [
       "Image(value=b'\\xff\\xd8\\xff\\xe0\\x00\\x10JFIF\\x00\\x01\\x02\\x00\\x00d\\x00d\\x00\\x00\\xff\\xec\\x00\\x11Ducky\\x00\\x01\\x00\\…"
      ]
     },
     "metadata": {},
     "output_type": "display_data"
    },
    {
     "name": "stdout",
     "output_type": "stream",
     "text": [
      "   2_010_689 bytes | Morocco_Africa_Flickr_Rosino_December_2005_84514010.jpg\n"
     ]
    },
    {
     "data": {
      "application/vnd.jupyter.widget-view+json": {
       "model_id": "ff41b141392e48889f311e4e84eacb5d",
       "version_major": 2,
       "version_minor": 0
      },
      "text/plain": [
       "Image(value=b'\\xff\\xd8\\xff\\xe0\\x00\\x10JFIF\\x00\\x01\\x01\\x01\\x00H\\x00H\\x00\\x00\\xff\\xe1 \\x1eExif\\x00\\x00II*\\x00\\x…"
      ]
     },
     "metadata": {},
     "output_type": "display_data"
    },
    {
     "name": "stdout",
     "output_type": "stream",
     "text": [
      "   2_025_198 bytes | Mansudae-Monument-Bow-2014.jpg\n"
     ]
    },
    {
     "data": {
      "application/vnd.jupyter.widget-view+json": {
       "model_id": "4268465a9dc5484f97fba800f37a79c5",
       "version_major": 2,
       "version_minor": 0
      },
      "text/plain": [
       "Image(value=b'\\xff\\xd8\\xff\\xe1)8Exif\\x00\\x00MM\\x00*\\x00\\x00\\x00\\x08\\x00\\x16\\x01\\x00\\x00\\x03\\x00\\x00\\x00\\x01\\x0…"
      ]
     },
     "metadata": {},
     "output_type": "display_data"
    },
    {
     "name": "stdout",
     "output_type": "stream",
     "text": [
      "   2_017_570 bytes | Bharata_Natyam_Performance_DS.jpg\n"
     ]
    },
    {
     "data": {
      "application/vnd.jupyter.widget-view+json": {
       "model_id": "a90302ceb9474dd8bb356628babe15e1",
       "version_major": 2,
       "version_minor": 0
      },
      "text/plain": [
       "Image(value=b'\\xff\\xd8\\xff\\xe0\\x00\\x10JFIF\\x00\\x01\\x02\\x01\\x00\\xb4\\x00\\xb4\\x00\\x00\\xff\\xe1 yExif\\x00\\x00II*\\x0…"
      ]
     },
     "metadata": {},
     "output_type": "display_data"
    },
    {
     "name": "stdout",
     "output_type": "stream",
     "text": [
      "   2_005_363 bytes | Marmot-edit1.jpg\n"
     ]
    },
    {
     "data": {
      "application/vnd.jupyter.widget-view+json": {
       "model_id": "a2493f0249b842ff99ed6e77b000f053",
       "version_major": 2,
       "version_minor": 0
      },
      "text/plain": [
       "Image(value=b'\\xff\\xd8\\xff\\xe0\\x00\\x10JFIF\\x00\\x01\\x02\\x01\\x00\\x96\\x00\\x96\\x00\\x00\\xff\\xe1DvExif\\x00\\x00MM\\x00…"
      ]
     },
     "metadata": {},
     "output_type": "display_data"
    },
    {
     "name": "stdout",
     "output_type": "stream",
     "text": [
      "   1_976_293 bytes | United_States_Declaration_of_Independence.jpg\n"
     ]
    },
    {
     "data": {
      "application/vnd.jupyter.widget-view+json": {
       "model_id": "1a58f867c30543a7b0bddfdeb334ca9c",
       "version_major": 2,
       "version_minor": 0
      },
      "text/plain": [
       "Image(value=b'\\xff\\xd8\\xff\\xe1\\x18hExif\\x00\\x00MM\\x00*\\x00\\x00\\x00\\x08\\x00\\x0c\\x01\\x00\\x00\\x03\\x00\\x00\\x00\\x01…"
      ]
     },
     "metadata": {},
     "output_type": "display_data"
    },
    {
     "name": "stdout",
     "output_type": "stream",
     "text": [
      "   1_969_876 bytes | Yogapith%2C_Mayapur.jpg\n",
      "TOTAL BYTES: 19_973_936\n"
     ]
    }
   ],
   "source": [
    "import asyncio\n",
    "\n",
    "img_widgets = []\n",
    "qty = 10\n",
    "urls = get_sample_urls(2_000_000, qty)\n",
    "total_bytes = 0\n",
    "\n",
    "async def download_pics(urls):\n",
    "    async with AsyncClient() as client:\n",
    "        tasks = [fetch(client, url) for url in urls]\n",
    "        results = await asyncio.gather(*tasks)\n",
    "    return results\n",
    "\n",
    "for img_rec in await download_pics(urls):\n",
    "    total_bytes += img_rec.size\n",
    "    display(Image(value=img_rec.pixels, layout=Layout(width='20%')))\n",
    "    print(f'{img_rec.size:12_} bytes | {img_rec.name}')\n",
    "\n",
    "print(f'TOTAL BYTES: {total_bytes:_}')    "
   ]
  },
  {
   "cell_type": "code",
   "execution_count": 5,
   "id": "af3d0bd8-adfa-4235-aee4-030d859ef4a6",
   "metadata": {},
   "outputs": [
    {
     "data": {
      "application/vnd.jupyter.widget-view+json": {
       "model_id": "04816b7db6b84a4e9d504322d5b8f54d",
       "version_major": 2,
       "version_minor": 0
      },
      "text/plain": [
       "HBox(children=(Image(value=b'\\x89PNG\\r\\n\\x1a\\n\\x00\\x00\\x00\\rIHDR\\x00\\x00\\x00\\xeb\\x00\\x00\\x00\\xb7\\x08\\x00\\x00\\x…"
      ]
     },
     "metadata": {},
     "output_type": "display_data"
    },
    {
     "name": "stdout",
     "output_type": "stream",
     "text": [
      "( 1)  14_541_999 bytes | Pahit-Pahit_Manis_pamphlet_%28obverse%29.jpg\n",
      "( 2)  15_440_443 bytes | Vincent_van_Gogh_-_Sunflowers_-_VGM_F458.jpg\n",
      "( 3)  14_608_619 bytes | St_James%27s_Church_Interior_2%2C_Spanish_Place%2C_London%2C_UK_-_Diliff.jpg\n",
      "( 4)  15_217_910 bytes | USA_declaration_independence.jpg\n",
      "( 5)  14_617_266 bytes | US-Colonial_%28MA-87.15%29-Massachusetts-1_May_1741_OBV.jpg\n",
      "( 6)  15_247_075 bytes | Exterior_of_Blenduk_Church%2C_Semarang%2C_2014-06-18.jpg\n",
      "( 7)  14_724_731 bytes | Wang_Ximeng._A_Thousand_Li_of_Rivers_and_Mountains._%28Complete%2C_51%2C3x1191%2C5_cm%29._1113._Palace_museum%2C_Beijing.jpg\n",
      "( 8)  15_407_615 bytes | St_Etheldreda%27s_Church_Interior%2C_London%2C_UK_-_Diliff.jpg\n",
      "( 9)  14_632_560 bytes | Red_telephone_box%2C_St_Paul%27s_Cathedral%2C_London%2C_England%2C_GB%2C_IMG_5182_edit.jpg\n",
      "(10)  14_944_305 bytes | NI-125c-Netherlands_Indies-Japanese_Occupation-10_Gulden_%281942%29.jpg\n",
      "TOTAL BYTES: 149_382_523\n"
     ]
    }
   ],
   "source": [
    "# %%time\n",
    "# Não funciona o %%time:\n",
    "#   File <timed exec>:18\n",
    "# SyntaxError: 'await' outside function\n",
    "\n",
    "from gallery import Gallery\n",
    "from httpx import HTTPStatusError\n",
    "\n",
    "num_images = 10\n",
    "\n",
    "urls = get_sample_urls(15_000_000, num_images)\n",
    "gallery = Gallery(num_images)\n",
    "gallery.display()\n",
    "\n",
    "async def display_pics(urls):\n",
    "    async with AsyncClient() as client:\n",
    "        tasks = [fetch(client, url) for url in urls]\n",
    "        for i, coroutine in enumerate(asyncio.as_completed(tasks)):\n",
    "            try:\n",
    "                img_rec = await coroutine\n",
    "            except HTTPStatusError:\n",
    "                pass\n",
    "            else:\n",
    "                gallery.update(i, img_rec.pixels, img_rec.name)\n",
    "\n",
    "await display_pics(urls)\n",
    "\n",
    "print(f'TOTAL BYTES: {gallery.size:_}')"
   ]
  },
  {
   "cell_type": "code",
   "execution_count": null,
   "id": "082a1823-195e-45ef-9c2f-55d9eed5ea0c",
   "metadata": {},
   "outputs": [],
   "source": []
  }
 ],
 "metadata": {
  "kernelspec": {
   "display_name": "Python 3 (ipykernel)",
   "language": "python",
   "name": "python3"
  },
  "language_info": {
   "codemirror_mode": {
    "name": "ipython",
    "version": 3
   },
   "file_extension": ".py",
   "mimetype": "text/x-python",
   "name": "python",
   "nbconvert_exporter": "python",
   "pygments_lexer": "ipython3",
   "version": "3.12.2"
  }
 },
 "nbformat": 4,
 "nbformat_minor": 5
}
