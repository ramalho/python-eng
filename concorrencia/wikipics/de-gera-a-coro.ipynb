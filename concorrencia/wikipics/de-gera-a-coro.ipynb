{
 "cells": [
  {
   "cell_type": "markdown",
   "id": "349495a0-c287-402b-8cce-fec30e817b78",
   "metadata": {},
   "source": [
    "# De geradores a corrotinas"
   ]
  },
  {
   "cell_type": "code",
   "execution_count": 1,
   "id": "371af48e-1acc-409b-a3a2-4994714751d5",
   "metadata": {},
   "outputs": [],
   "source": [
    "def gen123():\n",
    "    yield 1\n",
    "    yield 2\n",
    "    yield 3"
   ]
  },
  {
   "cell_type": "code",
   "execution_count": 2,
   "id": "20741abf-0f0b-423d-a242-dd6cd3b78168",
   "metadata": {},
   "outputs": [
    {
     "data": {
      "text/plain": [
       "[1, 2, 3]"
      ]
     },
     "execution_count": 2,
     "metadata": {},
     "output_type": "execute_result"
    }
   ],
   "source": [
    "list(gen123())"
   ]
  },
  {
   "cell_type": "code",
   "execution_count": null,
   "id": "d3850b88-b5d8-40e4-be45-749c71cf10f3",
   "metadata": {},
   "outputs": [],
   "source": []
  }
 ],
 "metadata": {
  "kernelspec": {
   "display_name": "Python 3 (ipykernel)",
   "language": "python",
   "name": "python3"
  },
  "language_info": {
   "codemirror_mode": {
    "name": "ipython",
    "version": 3
   },
   "file_extension": ".py",
   "mimetype": "text/x-python",
   "name": "python",
   "nbconvert_exporter": "python",
   "pygments_lexer": "ipython3",
   "version": "3.12.2"
  }
 },
 "nbformat": 4,
 "nbformat_minor": 5
}
