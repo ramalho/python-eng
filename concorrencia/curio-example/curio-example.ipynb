{
 "cells": [
  {
   "cell_type": "markdown",
   "id": "bf4f7db9-ab8f-40c6-8890-8c85fca5503b",
   "metadata": {},
   "source": [
    "# Exemplo com a biblioteca curio\n",
    "\n",
    "**[curio](https://github.com/dabeaz/curio/)** é uma biblioteca de programação assíncrona experimental do professor David Beazley que apresentou novas formas de usar as instruções `async for` e `async wait`, de uma forma mais *pythonica* do que a própria biblioteca `asyncio` (que foi criada antes das instruções `async`).\n",
    "\n",
    "Este exemplo funciona, mas só usando a versão mais recente do\n",
    "[repositório do curio](https://github.com/dabeaz/curio/) e não o pacote `curio` do PyPI."
   ]
  },
  {
   "cell_type": "code",
   "execution_count": 1,
   "id": "890fb706-241c-45f7-8213-166f43d5467e",
   "metadata": {},
   "outputs": [
    {
     "name": "stdout",
     "output_type": "stream",
     "text": [
      "  none.dev\n",
      "  for.dev\n",
      "  or.dev\n",
      "✓ false.dev\n",
      "✓ and.dev\n",
      "✓ as.dev\n",
      "✓ while.dev\n",
      "✓ in.dev\n",
      "✓ try.dev\n",
      "✓ await.dev\n",
      "✓ def.dev\n",
      "  if.dev\n",
      "✓ not.dev\n",
      "  elif.dev\n",
      "  true.dev\n",
      "  pass.dev\n",
      "  is.dev\n",
      "  class.dev\n",
      "✓ from.dev\n",
      "  yield.dev\n",
      "  break.dev\n",
      "  else.dev\n",
      "  with.dev\n",
      "✓ async.dev\n",
      "✓ del.dev\n",
      "✓ raise.dev\n",
      "26 domains probed in 0.5212s\n"
     ]
    }
   ],
   "source": [
    "from curio import run, TaskGroup\n",
    "import curio.socket as socket\n",
    "from keyword import kwlist\n",
    "\n",
    "MAX_KEYWORD_LEN = 5\n",
    "NAMES = [kw for kw in kwlist if len(kw) <= MAX_KEYWORD_LEN]\n",
    "\n",
    "async def probe(domain: str) -> tuple[str, bool]:  # (1)\n",
    "    try:\n",
    "        await socket.getaddrinfo(domain, None)  # (2)\n",
    "    except socket.gaierror:\n",
    "        return (domain, False)\n",
    "    return (domain, True)\n",
    "\n",
    "async def main() -> None:\n",
    "    domains = (f'{name}.dev'.lower() for name in NAMES)\n",
    "    async with TaskGroup() as group:  # (3)\n",
    "        for domain in domains:\n",
    "            await group.spawn(probe, domain)  # (4)\n",
    "        async for task in group:  # (5)\n",
    "            domain, found = task.result\n",
    "            mark = '✓' if found else ' '\n",
    "            print(f'{mark} {domain}')\n",
    "\n",
    "if __name__ == '__main__':\n",
    "    from time import perf_counter\n",
    "    t0 = perf_counter()\n",
    "    run(main())  # (6)\n",
    "    dt = perf_counter() - t0\n",
    "    print(f'{len(NAMES)} domains probed in {dt:0.4f}s')"
   ]
  },
  {
   "cell_type": "code",
   "execution_count": null,
   "id": "7a0243ec-1f56-44fe-a587-b285da75bb15",
   "metadata": {},
   "outputs": [],
   "source": []
  }
 ],
 "metadata": {
  "kernelspec": {
   "display_name": "Python 3 (ipykernel)",
   "language": "python",
   "name": "python3"
  },
  "language_info": {
   "codemirror_mode": {
    "name": "ipython",
    "version": 3
   },
   "file_extension": ".py",
   "mimetype": "text/x-python",
   "name": "python",
   "nbconvert_exporter": "python",
   "pygments_lexer": "ipython3",
   "version": "3.12.2"
  }
 },
 "nbformat": 4,
 "nbformat_minor": 5
}
